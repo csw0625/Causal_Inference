{
 "cells": [
  {
   "cell_type": "markdown",
   "metadata": {},
   "source": [
    "# Ch3.Graphical Causal Models"
   ]
  },
  {
   "cell_type": "markdown",
   "metadata": {},
   "source": [
    "3장에서는 1장에서 배운 식별과 추정에서 **식별** 부분을 더 자세히 다룬다. 또한 데이터로 매개변수를 추정하지 않고 그래프 모델(graphical model)을 다루며 대부분 이론적인 내용이다. 식별은 인과추론의 핵심이므로 식별 이론 학습은 실생활에서 인과적 문제를 해결하는 데 기본이 된다. 이번 장에서는 다음과 같은 내용을 다룬다.  \n",
    "- 그래프 모델을 소개하면서 그래프 인과모델과 그래프에서 연관성이 어떻게 흐르는지, 기존 라이브러리를 사용하여 그래프를 쿼리(query)하는 법을 배운다.  \n",
    "- 그래프 모델을 통해서 식별의 개념을 재해석한다.  \n",
    "- 흔히 식별을 방해하는 편향의 원인 두 가지와 인과 그래프 구조를 바탕으로 할 수 있는 일을 알아본다."
   ]
  },
  {
   "cell_type": "markdown",
   "metadata": {},
   "source": [
    "---"
   ]
  },
  {
   "cell_type": "markdown",
   "metadata": {},
   "source": [
    "## 3.1 인과관계와 그래프"
   ]
  },
  {
   "cell_type": "markdown",
   "metadata": {},
   "source": [
    "잘 표현된 언어는 명확하게 생각하도록 만든다. 곧 배울 그래프 모델은 인과관계의 기본 언어 중 하나라고 볼 수 있다. 그래프 모델은 인과추론 문제를 **구조화**하며, 식별 가정을 명확하게 시각적으로 표현하는 강력한 방법이다. 즉 **그래프 모델은 생각을 명확하게 표현하도록 도와준다.**"
   ]
  },
  {
   "cell_type": "markdown",
   "metadata": {},
   "source": [
    "<div style=\"border: 2px solid rgb(233, 224, 222); padding: 10px; background-color: rgb(233, 224, 222); margin: 10px 0;\">\n",
    "    <strong style=\"font-weight: bold;\">● 구조적 인과모델</strong><br>\n",
    "    일부 과학자들은 인과추론의 통일된 언어를 지칭하는데 구조적 인과모델(Structural Causal Model,SCM)이라는 용어를 사용한다. 이 모델은 그래프와 인과 방정식(Causal equation)으로 구성된다. 이번 장에서는 주로 SCM의 그래프 측면에 초점을 맞춰 설명한다.\n",
    "</div>"
   ]
  },
  {
   "cell_type": "markdown",
   "metadata": {},
   "source": [
    "예시로, 교차 판매 이메일이 전환에 미치는 영향을 추정한 사례를 다시 살펴본다. 여기서 처치 $T$는 교차 판매 이메일이고 결과 $Y$는 고객이 신규 제품으로의 전환 여부를 나타낸다."
   ]
  },
  {
   "cell_type": "code",
   "execution_count": 1,
   "metadata": {},
   "outputs": [
    {
     "data": {
      "text/html": [
       "<div>\n",
       "<style scoped>\n",
       "    .dataframe tbody tr th:only-of-type {\n",
       "        vertical-align: middle;\n",
       "    }\n",
       "\n",
       "    .dataframe tbody tr th {\n",
       "        vertical-align: top;\n",
       "    }\n",
       "\n",
       "    .dataframe thead th {\n",
       "        text-align: right;\n",
       "    }\n",
       "</style>\n",
       "<table border=\"1\" class=\"dataframe\">\n",
       "  <thead>\n",
       "    <tr style=\"text-align: right;\">\n",
       "      <th></th>\n",
       "      <th>gender</th>\n",
       "      <th>cross_sell_email</th>\n",
       "      <th>age</th>\n",
       "      <th>conversion</th>\n",
       "    </tr>\n",
       "  </thead>\n",
       "  <tbody>\n",
       "    <tr>\n",
       "      <th>0</th>\n",
       "      <td>0</td>\n",
       "      <td>short</td>\n",
       "      <td>15</td>\n",
       "      <td>0</td>\n",
       "    </tr>\n",
       "    <tr>\n",
       "      <th>1</th>\n",
       "      <td>1</td>\n",
       "      <td>short</td>\n",
       "      <td>27</td>\n",
       "      <td>0</td>\n",
       "    </tr>\n",
       "    <tr>\n",
       "      <th>2</th>\n",
       "      <td>1</td>\n",
       "      <td>long</td>\n",
       "      <td>17</td>\n",
       "      <td>0</td>\n",
       "    </tr>\n",
       "    <tr>\n",
       "      <th>3</th>\n",
       "      <td>1</td>\n",
       "      <td>long</td>\n",
       "      <td>34</td>\n",
       "      <td>0</td>\n",
       "    </tr>\n",
       "    <tr>\n",
       "      <th>4</th>\n",
       "      <td>1</td>\n",
       "      <td>no_email</td>\n",
       "      <td>14</td>\n",
       "      <td>0</td>\n",
       "    </tr>\n",
       "    <tr>\n",
       "      <th>...</th>\n",
       "      <td>...</td>\n",
       "      <td>...</td>\n",
       "      <td>...</td>\n",
       "      <td>...</td>\n",
       "    </tr>\n",
       "    <tr>\n",
       "      <th>318</th>\n",
       "      <td>0</td>\n",
       "      <td>long</td>\n",
       "      <td>18</td>\n",
       "      <td>0</td>\n",
       "    </tr>\n",
       "    <tr>\n",
       "      <th>319</th>\n",
       "      <td>1</td>\n",
       "      <td>no_email</td>\n",
       "      <td>16</td>\n",
       "      <td>0</td>\n",
       "    </tr>\n",
       "    <tr>\n",
       "      <th>320</th>\n",
       "      <td>0</td>\n",
       "      <td>no_email</td>\n",
       "      <td>15</td>\n",
       "      <td>0</td>\n",
       "    </tr>\n",
       "    <tr>\n",
       "      <th>321</th>\n",
       "      <td>1</td>\n",
       "      <td>no_email</td>\n",
       "      <td>16</td>\n",
       "      <td>0</td>\n",
       "    </tr>\n",
       "    <tr>\n",
       "      <th>322</th>\n",
       "      <td>1</td>\n",
       "      <td>long</td>\n",
       "      <td>24</td>\n",
       "      <td>1</td>\n",
       "    </tr>\n",
       "  </tbody>\n",
       "</table>\n",
       "<p>323 rows × 4 columns</p>\n",
       "</div>"
      ],
      "text/plain": [
       "     gender cross_sell_email  age  conversion\n",
       "0         0            short   15           0\n",
       "1         1            short   27           0\n",
       "2         1             long   17           0\n",
       "3         1             long   34           0\n",
       "4         1         no_email   14           0\n",
       "..      ...              ...  ...         ...\n",
       "318       0             long   18           0\n",
       "319       1         no_email   16           0\n",
       "320       0         no_email   15           0\n",
       "321       1         no_email   16           0\n",
       "322       1             long   24           1\n",
       "\n",
       "[323 rows x 4 columns]"
      ]
     },
     "execution_count": 1,
     "metadata": {},
     "output_type": "execute_result"
    }
   ],
   "source": [
    "import numpy as np\n",
    "import pandas as pd\n",
    "\n",
    "url= \"https://raw.githubusercontent.com/matheusfacure/causal-inference-in-python-code/main/causal-inference-in-python/data/cross_sell_email.csv\"\n",
    "\n",
    "data=pd.read_csv(url)\n",
    "data"
   ]
  },
  {
   "cell_type": "markdown",
   "metadata": {},
   "source": [
    "해당 사례에서, $T$는 무작위로 배정되었다. 따라서 처치는 잠재적 결과와 독립이라고 ($(Y_0,Y_1) \\bot T$) 볼 수 있으며, 상관관계를 인과관계로 만든다.\n",
    "$$\n",
    "E[Y_1-Y_0] = E[Y\\ |\\ T=1]-E[Y\\ |\\ T=0]\n",
    "$$\n",
    "중요한 것은 단지 데이터만 보고 독립성 가정이 성립한다고 애기할 수는 없다는 점이다. 앞서 논의했듯이, 실험 대상에게 처치 배정에 관한 매커니즘 정보가 있어야 독립성 가정이 유지된다고 할 수 있다. 여기서는 무작위로 고객에게 이메일이 발송되었음을 알기 때문에 독립성 가정이 성립한다고 볼 수 있다."
   ]
  },
  {
   "cell_type": "markdown",
   "metadata": {},
   "source": [
    "### 인과관계 시각화"
   ]
  },
  {
   "cell_type": "markdown",
   "metadata": {},
   "source": [
    "교차 판매 이메일이 전환을 유도하고 관측된 다른 변수인 나이와 성별도 전환의 원인이 된다고 생각해보자. 또한 관측되지 않은 변수는 $U$로 표시한다. 예를 들어, 고객 소득, 사회적 배경, 나이(회사가 서비스하는 도시에서 제품이 다양한 인구 집단에 어떻게 어필되는지에 관한 정보)와 같이 전환을 유도하는 관측되지 않은 변수가 많을 것이다. 해당 변수들은 측정하지 않을 것이므로, 측정되지 않은 모든 변수를 나타내는 $U$ 노드(node)에 묶어서 표현한다. 마지막으로 $T$(처치)를 가리키는 랜덤화 노드를 추가하여 교차 판매 이메일이 무작위로 발생되었다는 구조를 나타낼 수 있다."
   ]
  },
  {
   "cell_type": "markdown",
   "metadata": {},
   "source": [
    "<div style=\"border: 2px solid rgb(233, 224, 222); padding: 10px; background-color: rgb(233, 224, 222); margin: 10px 0;\">\n",
    "    <strong style=\"font-weight: bold;\">● DAG</strong><br>\n",
    "    인과 그래프를 DAG라고 부르기도 한다. DAG는 <b>유향 비순환 그래프</b>(directed acyclic graph)의 약자이다. 방향이 있는 부분은 없는 부분과 달리, SNS처럼 엣지(edge)에 방향성을 나타낸다. 비순환 부분은 그래프에 루프나 순환(cycle)이 없음을 나타낸다. 인과관계에는 되돌릴 수 없는 비가역적(non-invertible) 가정이 있으므로 인과 그래프는 일반적으로 방향성있는 비순환 그래프이다.\n",
    "</div>"
   ]
  },
  {
   "cell_type": "markdown",
   "metadata": {},
   "source": [
    "다음과 같이 그래프 시각화 라이브러리 `graphviz`를 사용해서 그래프를 활용해 시각화할 수 있다."
   ]
  },
  {
   "cell_type": "code",
   "execution_count": 7,
   "metadata": {},
   "outputs": [],
   "source": [
    "import graphviz as gr"
   ]
  },
  {
   "cell_type": "code",
   "execution_count": 12,
   "metadata": {},
   "outputs": [
    {
     "data": {
      "image/svg+xml": [
       "<?xml version=\"1.0\" encoding=\"UTF-8\" standalone=\"no\"?>\n",
       "<!DOCTYPE svg PUBLIC \"-//W3C//DTD SVG 1.1//EN\"\n",
       " \"http://www.w3.org/Graphics/SVG/1.1/DTD/svg11.dtd\">\n",
       "<!-- Generated by graphviz version 12.2.1 (20241206.2353)\n",
       " -->\n",
       "<!-- Pages: 1 -->\n",
       "<svg width=\"329pt\" height=\"188pt\"\n",
       " viewBox=\"0.00 0.00 329.32 188.00\" xmlns=\"http://www.w3.org/2000/svg\" xmlns:xlink=\"http://www.w3.org/1999/xlink\">\n",
       "<g id=\"graph0\" class=\"graph\" transform=\"scale(1 1) rotate(0) translate(4 184)\">\n",
       "<polygon fill=\"white\" stroke=\"none\" points=\"-4,4 -4,-184 325.32,-184 325.32,4 -4,4\"/>\n",
       "<!-- U -->\n",
       "<g id=\"node1\" class=\"node\">\n",
       "<title>U</title>\n",
       "<ellipse fill=\"none\" stroke=\"black\" cx=\"40.47\" cy=\"-162\" rx=\"27\" ry=\"18\"/>\n",
       "<text text-anchor=\"middle\" x=\"40.47\" y=\"-156.95\" font-family=\"Times New Roman,serif\" font-size=\"14.00\">U</text>\n",
       "</g>\n",
       "<!-- Conversion -->\n",
       "<g id=\"node2\" class=\"node\">\n",
       "<title>Conversion</title>\n",
       "<ellipse fill=\"none\" stroke=\"black\" cx=\"80.47\" cy=\"-18\" rx=\"53.4\" ry=\"18\"/>\n",
       "<text text-anchor=\"middle\" x=\"80.47\" y=\"-12.95\" font-family=\"Times New Roman,serif\" font-size=\"14.00\">Conversion</text>\n",
       "</g>\n",
       "<!-- U&#45;&gt;Conversion -->\n",
       "<g id=\"edge1\" class=\"edge\">\n",
       "<title>U&#45;&gt;Conversion</title>\n",
       "<path fill=\"none\" stroke=\"black\" d=\"M26.58,-146.12C11.54,-128.13 -8.63,-97.12 4.47,-72 11.9,-57.77 25.08,-46.58 38.41,-38.22\"/>\n",
       "<polygon fill=\"black\" stroke=\"black\" points=\"39.84,-41.44 46.74,-33.4 36.34,-35.38 39.84,-41.44\"/>\n",
       "</g>\n",
       "<!-- age -->\n",
       "<g id=\"node3\" class=\"node\">\n",
       "<title>age</title>\n",
       "<ellipse fill=\"none\" stroke=\"black\" cx=\"40.47\" cy=\"-90\" rx=\"27\" ry=\"18\"/>\n",
       "<text text-anchor=\"middle\" x=\"40.47\" y=\"-84.95\" font-family=\"Times New Roman,serif\" font-size=\"14.00\">age</text>\n",
       "</g>\n",
       "<!-- U&#45;&gt;age -->\n",
       "<g id=\"edge2\" class=\"edge\">\n",
       "<title>U&#45;&gt;age</title>\n",
       "<path fill=\"none\" stroke=\"black\" d=\"M40.47,-143.7C40.47,-136.41 40.47,-127.73 40.47,-119.54\"/>\n",
       "<polygon fill=\"black\" stroke=\"black\" points=\"43.97,-119.62 40.47,-109.62 36.97,-119.62 43.97,-119.62\"/>\n",
       "</g>\n",
       "<!-- gender -->\n",
       "<g id=\"node4\" class=\"node\">\n",
       "<title>gender</title>\n",
       "<ellipse fill=\"none\" stroke=\"black\" cx=\"121.47\" cy=\"-90\" rx=\"36\" ry=\"18\"/>\n",
       "<text text-anchor=\"middle\" x=\"121.47\" y=\"-84.95\" font-family=\"Times New Roman,serif\" font-size=\"14.00\">gender</text>\n",
       "</g>\n",
       "<!-- U&#45;&gt;gender -->\n",
       "<g id=\"edge3\" class=\"edge\">\n",
       "<title>U&#45;&gt;gender</title>\n",
       "<path fill=\"none\" stroke=\"black\" d=\"M56.48,-147.17C67.64,-137.52 82.78,-124.44 95.64,-113.33\"/>\n",
       "<polygon fill=\"black\" stroke=\"black\" points=\"97.68,-116.19 102.96,-107 93.1,-110.89 97.68,-116.19\"/>\n",
       "</g>\n",
       "<!-- age&#45;&gt;Conversion -->\n",
       "<g id=\"edge6\" class=\"edge\">\n",
       "<title>age&#45;&gt;Conversion</title>\n",
       "<path fill=\"none\" stroke=\"black\" d=\"M49.75,-72.76C54.31,-64.78 59.93,-54.95 65.11,-45.89\"/>\n",
       "<polygon fill=\"black\" stroke=\"black\" points=\"68.01,-47.86 69.94,-37.44 61.94,-44.38 68.01,-47.86\"/>\n",
       "</g>\n",
       "<!-- gender&#45;&gt;Conversion -->\n",
       "<g id=\"edge7\" class=\"edge\">\n",
       "<title>gender&#45;&gt;Conversion</title>\n",
       "<path fill=\"none\" stroke=\"black\" d=\"M111.76,-72.41C107.08,-64.42 101.35,-54.64 96.08,-45.64\"/>\n",
       "<polygon fill=\"black\" stroke=\"black\" points=\"99.24,-44.12 91.17,-37.26 93.2,-47.66 99.24,-44.12\"/>\n",
       "</g>\n",
       "<!-- Random -->\n",
       "<g id=\"node5\" class=\"node\">\n",
       "<title>Random</title>\n",
       "<ellipse fill=\"none\" stroke=\"black\" cx=\"248.47\" cy=\"-162\" rx=\"42.65\" ry=\"18\"/>\n",
       "<text text-anchor=\"middle\" x=\"248.47\" y=\"-156.95\" font-family=\"Times New Roman,serif\" font-size=\"14.00\">Random</text>\n",
       "</g>\n",
       "<!-- cross_sell_email -->\n",
       "<g id=\"node6\" class=\"node\">\n",
       "<title>cross_sell_email</title>\n",
       "<ellipse fill=\"none\" stroke=\"black\" cx=\"248.47\" cy=\"-90\" rx=\"72.85\" ry=\"18\"/>\n",
       "<text text-anchor=\"middle\" x=\"248.47\" y=\"-84.95\" font-family=\"Times New Roman,serif\" font-size=\"14.00\">cross_sell_email</text>\n",
       "</g>\n",
       "<!-- Random&#45;&gt;cross_sell_email -->\n",
       "<g id=\"edge4\" class=\"edge\">\n",
       "<title>Random&#45;&gt;cross_sell_email</title>\n",
       "<path fill=\"none\" stroke=\"black\" d=\"M248.47,-143.7C248.47,-136.41 248.47,-127.73 248.47,-119.54\"/>\n",
       "<polygon fill=\"black\" stroke=\"black\" points=\"251.97,-119.62 248.47,-109.62 244.97,-119.62 251.97,-119.62\"/>\n",
       "</g>\n",
       "<!-- cross_sell_email&#45;&gt;Conversion -->\n",
       "<g id=\"edge5\" class=\"edge\">\n",
       "<title>cross_sell_email&#45;&gt;Conversion</title>\n",
       "<path fill=\"none\" stroke=\"black\" d=\"M212.43,-73.98C186.39,-63.13 151.09,-48.42 123.56,-36.95\"/>\n",
       "<polygon fill=\"black\" stroke=\"black\" points=\"125.02,-33.77 114.44,-33.15 122.32,-40.23 125.02,-33.77\"/>\n",
       "</g>\n",
       "</g>\n",
       "</svg>\n"
      ],
      "text/plain": [
       "<graphviz.graphs.Digraph at 0x2320758a860>"
      ]
     },
     "execution_count": 12,
     "metadata": {},
     "output_type": "execute_result"
    }
   ],
   "source": [
    "g_cross_sell = gr.Digraph()\n",
    "\n",
    "g_cross_sell.edge('U','Conversion')\n",
    "g_cross_sell.edge('U','age')\n",
    "g_cross_sell.edge('U','gender')\n",
    "\n",
    "g_cross_sell.edge('Random','cross_sell_email')\n",
    "g_cross_sell.edge('cross_sell_email','Conversion')\n",
    "g_cross_sell.edge('age','Conversion')\n",
    "g_cross_sell.edge('gender','Conversion')\n",
    "\n",
    "g_cross_sell"
   ]
  },
  {
   "cell_type": "markdown",
   "metadata": {},
   "source": [
    "그래프의 각 노드는 **확률변수(Random Variable,RV)** 이다. 화살표나 엣지를 사용하여 한 변수가 다른 변수의 원인이 되는지 표시할 수 있다. 이 그래프 모델에서는 전환의 원인은 이메일이 되고, $U$가 나이,전환,성별 등 변수의 원임임을 나타낸다. 이 그래프 모델 언어는 세상이 어떻게 작동하는지에 관한 믿음을 명확하게 반영하므로 인과관계에 대한 생각을 표현하는 데 도움이 된다. 그런데 오늘날 데이터 적용 사례에 일반적으로 존재하는 수백 개의 변수를 모두 그래프에 표현할 방법은 없다. 따라서 이 부분이 얼마나 비현실적인지 고민할 필요가 없다. 실제로 전달하려는 일반적인 인과 구조를 유지하면서 노드를 묶어 획기적으로 그래프를 단순화할 수 있다.  \n",
    "예를 들어, 앞의 그래프를 가지고 관측 가능한 변수를 $X$ 노드로 묶을 수 있다. 두 변수 $U$에 의해 발생하고 전환의 원인이 되므로 이들을 결합해도 인과 구조는 그대로 유지된다.  \n",
    "또한 무작위로 배정되거나 개입된 변수를 표현할 때는 들어오는 화살표를 모두 제거하면 된다."
   ]
  },
  {
   "cell_type": "code",
   "execution_count": 13,
   "metadata": {},
   "outputs": [
    {
     "data": {
      "image/svg+xml": [
       "<?xml version=\"1.0\" encoding=\"UTF-8\" standalone=\"no\"?>\n",
       "<!DOCTYPE svg PUBLIC \"-//W3C//DTD SVG 1.1//EN\"\n",
       " \"http://www.w3.org/Graphics/SVG/1.1/DTD/svg11.dtd\">\n",
       "<!-- Generated by graphviz version 12.2.1 (20241206.2353)\n",
       " -->\n",
       "<!-- Pages: 1 -->\n",
       "<svg width=\"391pt\" height=\"121pt\"\n",
       " viewBox=\"0.00 0.00 390.59 121.00\" xmlns=\"http://www.w3.org/2000/svg\" xmlns:xlink=\"http://www.w3.org/1999/xlink\">\n",
       "<g id=\"graph0\" class=\"graph\" transform=\"scale(1 1) rotate(0) translate(4 117)\">\n",
       "<polygon fill=\"white\" stroke=\"none\" points=\"-4,4 -4,-117 386.59,-117 386.59,4 -4,4\"/>\n",
       "<!-- U -->\n",
       "<g id=\"node1\" class=\"node\">\n",
       "<title>U</title>\n",
       "<ellipse fill=\"none\" stroke=\"black\" cx=\"27\" cy=\"-95\" rx=\"27\" ry=\"18\"/>\n",
       "<text text-anchor=\"middle\" x=\"27\" y=\"-89.95\" font-family=\"Times New Roman,serif\" font-size=\"14.00\">U</text>\n",
       "</g>\n",
       "<!-- Conversion -->\n",
       "<g id=\"node2\" class=\"node\">\n",
       "<title>Conversion</title>\n",
       "<ellipse fill=\"none\" stroke=\"black\" cx=\"329.19\" cy=\"-72\" rx=\"53.4\" ry=\"18\"/>\n",
       "<text text-anchor=\"middle\" x=\"329.19\" y=\"-66.95\" font-family=\"Times New Roman,serif\" font-size=\"14.00\">Conversion</text>\n",
       "</g>\n",
       "<!-- U&#45;&gt;Conversion -->\n",
       "<g id=\"edge1\" class=\"edge\">\n",
       "<title>U&#45;&gt;Conversion</title>\n",
       "<path fill=\"none\" stroke=\"black\" d=\"M53.93,-98.25C94.04,-102.66 173.41,-108.91 239.79,-99 253.68,-96.93 268.4,-93.12 281.76,-89\"/>\n",
       "<polygon fill=\"black\" stroke=\"black\" points=\"282.73,-92.36 291.18,-85.96 280.58,-85.7 282.73,-92.36\"/>\n",
       "</g>\n",
       "<!-- X -->\n",
       "<g id=\"node3\" class=\"node\">\n",
       "<title>X</title>\n",
       "<ellipse fill=\"none\" stroke=\"black\" cx=\"164.89\" cy=\"-72\" rx=\"27\" ry=\"18\"/>\n",
       "<text text-anchor=\"middle\" x=\"164.89\" y=\"-66.95\" font-family=\"Times New Roman,serif\" font-size=\"14.00\">X</text>\n",
       "</g>\n",
       "<!-- U&#45;&gt;X -->\n",
       "<g id=\"edge2\" class=\"edge\">\n",
       "<title>U&#45;&gt;X</title>\n",
       "<path fill=\"none\" stroke=\"black\" d=\"M53.56,-90.67C74.35,-87.16 103.94,-82.15 127.25,-78.2\"/>\n",
       "<polygon fill=\"black\" stroke=\"black\" points=\"127.68,-81.68 136.96,-76.56 126.51,-74.78 127.68,-81.68\"/>\n",
       "</g>\n",
       "<!-- X&#45;&gt;Conversion -->\n",
       "<g id=\"edge4\" class=\"edge\">\n",
       "<title>X&#45;&gt;Conversion</title>\n",
       "<path fill=\"none\" stroke=\"black\" d=\"M192.33,-72C211.8,-72 239.14,-72 264.2,-72\"/>\n",
       "<polygon fill=\"black\" stroke=\"black\" points=\"264,-75.5 274,-72 264,-68.5 264,-75.5\"/>\n",
       "</g>\n",
       "<!-- Cross_sell_email -->\n",
       "<g id=\"node4\" class=\"node\">\n",
       "<title>Cross_sell_email</title>\n",
       "<ellipse fill=\"none\" stroke=\"black\" cx=\"164.89\" cy=\"-18\" rx=\"74.89\" ry=\"18\"/>\n",
       "<text text-anchor=\"middle\" x=\"164.89\" y=\"-12.95\" font-family=\"Times New Roman,serif\" font-size=\"14.00\">Cross_sell_email</text>\n",
       "</g>\n",
       "<!-- Cross_sell_email&#45;&gt;Conversion -->\n",
       "<g id=\"edge3\" class=\"edge\">\n",
       "<title>Cross_sell_email&#45;&gt;Conversion</title>\n",
       "<path fill=\"none\" stroke=\"black\" d=\"M210.24,-32.76C231.68,-39.89 257.46,-48.47 279.45,-55.78\"/>\n",
       "<polygon fill=\"black\" stroke=\"black\" points=\"278.2,-59.06 288.79,-58.89 280.41,-52.41 278.2,-59.06\"/>\n",
       "</g>\n",
       "</g>\n",
       "</svg>\n"
      ],
      "text/plain": [
       "<graphviz.graphs.Digraph at 0x2320757c7f0>"
      ]
     },
     "execution_count": 13,
     "metadata": {},
     "output_type": "execute_result"
    }
   ],
   "source": [
    "# rankdir : LR인 경우, 그래프가 왼쪽에서 오른쪽으로 화살표가 향하도록 설정\n",
    "g_cross_sell = gr.Digraph(graph_attr={'rankdir':\"LR\"})\n",
    "\n",
    "g_cross_sell.edge('U','Conversion')\n",
    "g_cross_sell.edge('U','X')\n",
    "\n",
    "g_cross_sell.edge('Cross_sell_email','Conversion')\n",
    "g_cross_sell.edge('X','Conversion')\n",
    "\n",
    "g_cross_sell"
   ]
  },
  {
   "cell_type": "markdown",
   "metadata": {},
   "source": [
    "여기서 흥미로운 점은 DAG에서 가장 중요한 정보는 **그래프 안에서 누락될 수도 사실**이다. 즉, 한 변수에 다른 변수로 연결되는 엣지가 없다는 것은 두 변수 사이에 직접적인 인과관계가 없다고 가정한다는 의미이다. 예를 들어, 앞의 그래프에서는 처치와 결과, 두 노드 **모두**에게 영향을 주는 원인이 없다고 가정한다."
   ]
  },
  {
   "cell_type": "markdown",
   "metadata": {},
   "source": [
    "이 부분을 읽으면서 내용이 완전히 이치에 맞지 않는다고 생각할 수 있으며, 이해가 안되는 것이 지극히 정상이다. 하지만 지금은 그래프가 상관관계는 인과관계가 아닌 이유를 이해하는 데 매우 강력한 도구임을 기억하자."
   ]
  },
  {
   "cell_type": "markdown",
   "metadata": {},
   "source": [
    "### 컨설턴트 영입 여부 결정하기"
   ]
  },
  {
   "cell_type": "markdown",
   "metadata": {},
   "source": [
    "처치가 랜덤화되지 않은 예제를 살펴보며 DAG의 유용함을 알아본다. 만약 여러분이 최고 수준의 컨설턴트 영입 여부를 고려하는 회사의 관리자라고 생각해보자. 컨설턴트의 몸값이 비싸다는 것을 알지만, 그들이 업계 최고의 회사와 함께 일하며 쌓은 전문 지식을 보유했다는 것도 안다. 수익성이 매우 좋은 회사만 최고 수준의 컨설턴트를 고용할 수 있기 때문에 그러한 컨설턴트를 고용했을 때 비즈니스를 개선할 수 있는지, 그들의 존재가 좋은 회사의 실적(수익으로 측정)과 상관관계가 있는 건지 확신할 수 없다. 회사마다 컨설턴트를 무작위로 배정받을 수 있다면 최고 수준의 컨설턴트 고용이 얼마나 효과적인지 쉽게 답할 수 있지만, 현실적으로 어렵기에 다른 방법을 생각해 내야 한다. 이는 상관관계로부터 인과관계를 풀어야 하는 문제이다. 인과관계 메커니즘에 관한 생각을 다음과 같이 그래프로 표현해서 이를 이해할 수 있다."
   ]
  },
  {
   "cell_type": "code",
   "execution_count": 14,
   "metadata": {},
   "outputs": [
    {
     "data": {
      "image/svg+xml": [
       "<?xml version=\"1.0\" encoding=\"UTF-8\" standalone=\"no\"?>\n",
       "<!DOCTYPE svg PUBLIC \"-//W3C//DTD SVG 1.1//EN\"\n",
       " \"http://www.w3.org/Graphics/SVG/1.1/DTD/svg11.dtd\">\n",
       "<!-- Generated by graphviz version 12.2.1 (20241206.2353)\n",
       " -->\n",
       "<!-- Pages: 1 -->\n",
       "<svg width=\"688pt\" height=\"144pt\"\n",
       " viewBox=\"0.00 0.00 687.95 144.00\" xmlns=\"http://www.w3.org/2000/svg\" xmlns:xlink=\"http://www.w3.org/1999/xlink\">\n",
       "<g id=\"graph0\" class=\"graph\" transform=\"scale(1 1) rotate(0) translate(4 140)\">\n",
       "<polygon fill=\"white\" stroke=\"none\" points=\"-4,4 -4,-140 683.95,-140 683.95,4 -4,4\"/>\n",
       "<!-- U1 -->\n",
       "<g id=\"node1\" class=\"node\">\n",
       "<title>U1</title>\n",
       "<ellipse fill=\"none\" stroke=\"black\" cx=\"391.63\" cy=\"-118\" rx=\"27\" ry=\"18\"/>\n",
       "<text text-anchor=\"middle\" x=\"391.63\" y=\"-112.95\" font-family=\"Times New Roman,serif\" font-size=\"14.00\">U1</text>\n",
       "</g>\n",
       "<!-- Earnings after 6 months -->\n",
       "<g id=\"node2\" class=\"node\">\n",
       "<title>Earnings after 6 months</title>\n",
       "<ellipse fill=\"none\" stroke=\"black\" cx=\"579.46\" cy=\"-64\" rx=\"100.48\" ry=\"18\"/>\n",
       "<text text-anchor=\"middle\" x=\"579.46\" y=\"-58.95\" font-family=\"Times New Roman,serif\" font-size=\"14.00\">Earnings after 6 months</text>\n",
       "</g>\n",
       "<!-- U1&#45;&gt;Earnings after 6 months -->\n",
       "<g id=\"edge1\" class=\"edge\">\n",
       "<title>U1&#45;&gt;Earnings after 6 months</title>\n",
       "<path fill=\"none\" stroke=\"black\" d=\"M416.92,-110.94C441.6,-103.77 480.88,-92.36 514.52,-82.58\"/>\n",
       "<polygon fill=\"black\" stroke=\"black\" points=\"515.14,-86.05 523.77,-79.89 513.19,-79.32 515.14,-86.05\"/>\n",
       "</g>\n",
       "<!-- U2 -->\n",
       "<g id=\"node3\" class=\"node\">\n",
       "<title>U2</title>\n",
       "<ellipse fill=\"none\" stroke=\"black\" cx=\"197.14\" cy=\"-72\" rx=\"27\" ry=\"18\"/>\n",
       "<text text-anchor=\"middle\" x=\"197.14\" y=\"-66.95\" font-family=\"Times New Roman,serif\" font-size=\"14.00\">U2</text>\n",
       "</g>\n",
       "<!-- Consulting -->\n",
       "<g id=\"node4\" class=\"node\">\n",
       "<title>Consulting</title>\n",
       "<ellipse fill=\"none\" stroke=\"black\" cx=\"391.63\" cy=\"-64\" rx=\"51.35\" ry=\"18\"/>\n",
       "<text text-anchor=\"middle\" x=\"391.63\" y=\"-58.95\" font-family=\"Times New Roman,serif\" font-size=\"14.00\">Consulting</text>\n",
       "</g>\n",
       "<!-- U2&#45;&gt;Consulting -->\n",
       "<g id=\"edge2\" class=\"edge\">\n",
       "<title>U2&#45;&gt;Consulting</title>\n",
       "<path fill=\"none\" stroke=\"black\" d=\"M224.5,-70.9C251.35,-69.79 293.95,-68.02 329.28,-66.55\"/>\n",
       "<polygon fill=\"black\" stroke=\"black\" points=\"329.11,-70.06 338.96,-66.15 328.82,-63.07 329.11,-70.06\"/>\n",
       "</g>\n",
       "<!-- Consulting&#45;&gt;Earnings after 6 months -->\n",
       "<g id=\"edge4\" class=\"edge\">\n",
       "<title>Consulting&#45;&gt;Earnings after 6 months</title>\n",
       "<path fill=\"none\" stroke=\"black\" d=\"M443.41,-64C451.02,-64 459.11,-64 467.4,-64\"/>\n",
       "<polygon fill=\"black\" stroke=\"black\" points=\"467.28,-67.5 477.28,-64 467.28,-60.5 467.28,-67.5\"/>\n",
       "</g>\n",
       "<!-- U3 -->\n",
       "<g id=\"node5\" class=\"node\">\n",
       "<title>U3</title>\n",
       "<ellipse fill=\"none\" stroke=\"black\" cx=\"27\" cy=\"-18\" rx=\"27\" ry=\"18\"/>\n",
       "<text text-anchor=\"middle\" x=\"27\" y=\"-12.95\" font-family=\"Times New Roman,serif\" font-size=\"14.00\">U3</text>\n",
       "</g>\n",
       "<!-- Earnings before 6 months -->\n",
       "<g id=\"node6\" class=\"node\">\n",
       "<title>Earnings before 6 months</title>\n",
       "<ellipse fill=\"none\" stroke=\"black\" cx=\"197.14\" cy=\"-18\" rx=\"107.14\" ry=\"18\"/>\n",
       "<text text-anchor=\"middle\" x=\"197.14\" y=\"-12.95\" font-family=\"Times New Roman,serif\" font-size=\"14.00\">Earnings before 6 months</text>\n",
       "</g>\n",
       "<!-- U3&#45;&gt;Earnings before 6 months -->\n",
       "<g id=\"edge3\" class=\"edge\">\n",
       "<title>U3&#45;&gt;Earnings before 6 months</title>\n",
       "<path fill=\"none\" stroke=\"black\" d=\"M54.27,-18C61.35,-18 69.49,-18 78.21,-18\"/>\n",
       "<polygon fill=\"black\" stroke=\"black\" points=\"78.02,-21.5 88.02,-18 78.02,-14.5 78.02,-21.5\"/>\n",
       "</g>\n",
       "<!-- Earnings before 6 months&#45;&gt;Earnings after 6 months -->\n",
       "<g id=\"edge6\" class=\"edge\">\n",
       "<title>Earnings before 6 months&#45;&gt;Earnings after 6 months</title>\n",
       "<path fill=\"none\" stroke=\"black\" d=\"M300.28,-23.2C344.31,-26.14 396.31,-30.56 442.98,-37 462.93,-39.75 484.38,-43.6 504.19,-47.54\"/>\n",
       "<polygon fill=\"black\" stroke=\"black\" points=\"503.34,-50.94 513.83,-49.49 504.73,-44.08 503.34,-50.94\"/>\n",
       "</g>\n",
       "<!-- Earnings before 6 months&#45;&gt;Consulting -->\n",
       "<g id=\"edge5\" class=\"edge\">\n",
       "<title>Earnings before 6 months&#45;&gt;Consulting</title>\n",
       "<path fill=\"none\" stroke=\"black\" d=\"M260.63,-32.93C285.46,-38.87 313.72,-45.62 337.54,-51.31\"/>\n",
       "<polygon fill=\"black\" stroke=\"black\" points=\"336.48,-54.66 347.02,-53.58 338.1,-47.85 336.48,-54.66\"/>\n",
       "</g>\n",
       "</g>\n",
       "</svg>\n"
      ],
      "text/plain": [
       "<graphviz.graphs.Digraph at 0x2320757c790>"
      ]
     },
     "execution_count": 14,
     "metadata": {},
     "output_type": "execute_result"
    }
   ],
   "source": [
    "g_consulting = gr.Digraph(graph_attr={'rankdir':'LR'})\n",
    "\n",
    "g_consulting.edge('U1','Earnings after 6 months')\n",
    "g_consulting.edge('U2','Consulting')\n",
    "g_consulting.edge('U3','Earnings before 6 months')\n",
    "\n",
    "g_consulting.edge('Consulting','Earnings after 6 months')\n",
    "g_consulting.edge('Earnings before 6 months','Consulting')\n",
    "g_consulting.edge('Earnings before 6 months','Earnings after 6 months')\n",
    "\n",
    "g_consulting"
   ]
  },
  {
   "cell_type": "markdown",
   "metadata": {},
   "source": [
    "측정할 수 없는 다른 요소가 변수의 원인이라는 사실을 나타내려고 각 변수에 $U$ 노드를 추가한 부분을 보자. 그래프는 일반적으로 확률변수를 나타내므로 임의의 $U$가 모든 변수의 원인이 될 것으로 예상할 수 있다. 그러나 이러한 요소는 인과 구조에 영향을 주지 않을 것이므로 생략하는 편이 좋다."
   ]
  },
  {
   "cell_type": "code",
   "execution_count": 16,
   "metadata": {},
   "outputs": [
    {
     "data": {
      "image/svg+xml": [
       "<?xml version=\"1.0\" encoding=\"UTF-8\" standalone=\"no\"?>\n",
       "<!DOCTYPE svg PUBLIC \"-//W3C//DTD SVG 1.1//EN\"\n",
       " \"http://www.w3.org/Graphics/SVG/1.1/DTD/svg11.dtd\">\n",
       "<!-- Generated by graphviz version 12.2.1 (20241206.2353)\n",
       " -->\n",
       "<!-- Pages: 1 -->\n",
       "<svg width=\"598pt\" height=\"67pt\"\n",
       " viewBox=\"0.00 0.00 597.95 67.00\" xmlns=\"http://www.w3.org/2000/svg\" xmlns:xlink=\"http://www.w3.org/1999/xlink\">\n",
       "<g id=\"graph0\" class=\"graph\" transform=\"scale(1 1) rotate(0) translate(4 63)\">\n",
       "<polygon fill=\"white\" stroke=\"none\" points=\"-4,4 -4,-63 593.95,-63 593.95,4 -4,4\"/>\n",
       "<!-- Earnings before 6 months -->\n",
       "<g id=\"node1\" class=\"node\">\n",
       "<title>Earnings before 6 months</title>\n",
       "<ellipse fill=\"none\" stroke=\"black\" cx=\"107.14\" cy=\"-41\" rx=\"107.14\" ry=\"18\"/>\n",
       "<text text-anchor=\"middle\" x=\"107.14\" y=\"-35.95\" font-family=\"Times New Roman,serif\" font-size=\"14.00\">Earnings before 6 months</text>\n",
       "</g>\n",
       "<!-- Earnings after 6 months -->\n",
       "<g id=\"node2\" class=\"node\">\n",
       "<title>Earnings after 6 months</title>\n",
       "<ellipse fill=\"none\" stroke=\"black\" cx=\"489.46\" cy=\"-41\" rx=\"100.48\" ry=\"18\"/>\n",
       "<text text-anchor=\"middle\" x=\"489.46\" y=\"-35.95\" font-family=\"Times New Roman,serif\" font-size=\"14.00\">Earnings after 6 months</text>\n",
       "</g>\n",
       "<!-- Earnings before 6 months&#45;&gt;Earnings after 6 months -->\n",
       "<g id=\"edge1\" class=\"edge\">\n",
       "<title>Earnings before 6 months&#45;&gt;Earnings after 6 months</title>\n",
       "<path fill=\"none\" stroke=\"black\" d=\"M212.92,-44.28C225.51,-44.58 238.18,-44.83 250.28,-45 295.92,-45.64 307.34,-45.67 352.98,-45 361.32,-44.88 369.96,-44.71 378.64,-44.52\"/>\n",
       "<polygon fill=\"black\" stroke=\"black\" points=\"378.63,-48.02 388.54,-44.28 378.46,-41.02 378.63,-48.02\"/>\n",
       "</g>\n",
       "<!-- Consulting -->\n",
       "<g id=\"node3\" class=\"node\">\n",
       "<title>Consulting</title>\n",
       "<ellipse fill=\"none\" stroke=\"black\" cx=\"301.63\" cy=\"-18\" rx=\"51.35\" ry=\"18\"/>\n",
       "<text text-anchor=\"middle\" x=\"301.63\" y=\"-12.95\" font-family=\"Times New Roman,serif\" font-size=\"14.00\">Consulting</text>\n",
       "</g>\n",
       "<!-- Earnings before 6 months&#45;&gt;Consulting -->\n",
       "<g id=\"edge2\" class=\"edge\">\n",
       "<title>Earnings before 6 months&#45;&gt;Consulting</title>\n",
       "<path fill=\"none\" stroke=\"black\" d=\"M195.65,-30.54C211.09,-28.7 226.83,-26.82 241.27,-25.09\"/>\n",
       "<polygon fill=\"black\" stroke=\"black\" points=\"241.52,-28.59 251.03,-23.93 240.69,-21.64 241.52,-28.59\"/>\n",
       "</g>\n",
       "<!-- Consulting&#45;&gt;Earnings after 6 months -->\n",
       "<g id=\"edge3\" class=\"edge\">\n",
       "<title>Consulting&#45;&gt;Earnings after 6 months</title>\n",
       "<path fill=\"none\" stroke=\"black\" d=\"M350.49,-23.92C364.07,-25.6 379.35,-27.5 394.67,-29.39\"/>\n",
       "<polygon fill=\"black\" stroke=\"black\" points=\"393.95,-32.83 404.3,-30.58 394.81,-25.88 393.95,-32.83\"/>\n",
       "</g>\n",
       "</g>\n",
       "</svg>\n"
      ],
      "text/plain": [
       "<graphviz.graphs.Digraph at 0x2320757c2b0>"
      ]
     },
     "execution_count": 16,
     "metadata": {},
     "output_type": "execute_result"
    }
   ],
   "source": [
    "g_consulting = gr.Digraph(graph_attr={'rankdir':'LR'})\n",
    "\n",
    "g_consulting.edge('Earnings before 6 months','Earnings after 6 months')\n",
    "g_consulting.edge('Earnings before 6 months','Consulting')\n",
    "g_consulting.edge('Consulting','Earnings after 6 months')\n",
    "\n",
    "g_consulting"
   ]
  },
  {
   "cell_type": "markdown",
   "metadata": {},
   "source": [
    "이 사례에서 회사의 과거 실적이 최고 수준이 컨설턴트를 고용하게 한다고 애기한다. 회사가 잘 된다면 비싼 서비스 비용을 지불할 수 있지만, 실적이 좋지 않다면 지불할 여유가 없다. 따라서 과거 실적이 컨설턴트를 고용할 확률을 결정한다. 이 관계가 반드시 결정적(Deterministic)이지 않다는 점을 기억하자. 단지 **실적이 좋은 회사가 최고 수준의 컨설턴트를 고용할 가능성이 더 높다는 의미**이다."
   ]
  },
  {
   "cell_type": "markdown",
   "metadata": {},
   "source": [
    "그뿐만 아니라 지난 6개월 동안 잘된 회사는 이후 6개월 동안에도 잘될 가능성이 매우 높다. 물론 항상 그렇지는 않지만, 평균적으로 그렇기 때문에 과거 실적에서 미래 실적까지의 엣지를 추가했다. 마지막으로 컨설팅으로부터 회사의 미래 실적에 관한 엣지를 추가했다. 목표는 이러한 그래프 연결의 강점을 파악하는 것이며, 이 연결이 우리가 관심 있는 인과관계이다."
   ]
  },
  {
   "cell_type": "markdown",
   "metadata": {},
   "source": [
    "컨설팅이 실제로 회사의 실적을 높이는지에 대한 답을 하기는 간단하지 않다. 컨설팅과 미래 실적 사이의 연관성에는 두 가지 원인이 있다. 하나는 인과관계이지만 다른 하나는 인과관계가 아니다. 이를 이해하고 구분하려면 먼저 인과 그래프에서 연관성이 어떻게 흐르는지 간단히 살펴봐야 한다."
   ]
  },
  {
   "cell_type": "markdown",
   "metadata": {},
   "source": [
    "---"
   ]
  },
  {
   "cell_type": "markdown",
   "metadata": {},
   "source": [
    "## 3.2 그래프 모델의 구조"
   ]
  },
  {
   "cell_type": "markdown",
   "metadata": {},
   "source": []
  }
 ],
 "metadata": {
  "kernelspec": {
   "display_name": "base",
   "language": "python",
   "name": "python3"
  },
  "language_info": {
   "codemirror_mode": {
    "name": "ipython",
    "version": 3
   },
   "file_extension": ".py",
   "mimetype": "text/x-python",
   "name": "python",
   "nbconvert_exporter": "python",
   "pygments_lexer": "ipython3",
   "version": "3.10.9"
  }
 },
 "nbformat": 4,
 "nbformat_minor": 2
}
