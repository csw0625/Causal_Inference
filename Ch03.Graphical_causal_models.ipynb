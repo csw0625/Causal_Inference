{
 "cells": [
  {
   "cell_type": "markdown",
   "metadata": {},
   "source": [
    "# Ch3.Graphical Causal Models"
   ]
  },
  {
   "cell_type": "markdown",
   "metadata": {},
   "source": [
    "3장에서는 1장에서 배운 식별과 추정에서 **식별** 부분을 더 자세히 다룬다. 또한 데이터로 매개변수를 추정하지 않고 그래프 모델(graphical model)을 다루며 대부분 이론적인 내용이다. 식별은 인과추론의 핵심이므로 식별 이론 학습은 실생활에서 인과적 문제를 해결하는 데 기본이 된다. 이번 장에서는 다음과 같은 내용을 다룬다.  \n",
    "- 그래프 모델을 소개하면서 그래프 인과모델과 그래프에서 연관성이 어떻게 흐르는지, 기존 라이브러리를 사용하여 그래프를 쿼리(query)하는 법을 배운다.  \n",
    "- 그래프 모델을 통해서 식별의 개념을 재해석한다.  \n",
    "- 흔히 식별을 방해하는 편향의 원인 두 가지와 인과 그래프 구조를 바탕으로 할 수 있는 일을 알아본다."
   ]
  },
  {
   "cell_type": "markdown",
   "metadata": {},
   "source": [
    "---"
   ]
  },
  {
   "cell_type": "markdown",
   "metadata": {},
   "source": [
    "## 3.1 인과관계와 그래프"
   ]
  },
  {
   "cell_type": "markdown",
   "metadata": {},
   "source": [
    "잘 표현된 언어는 명확하게 생각하도록 만든다. 곧 배울 그래프 모델은 인과관계의 기본 언어 중 하나라고 볼 수 있다. 그래프 모델은 인과추론 문제를 **구조화**하며, 식별 가정을 명확하게 시각적으로 표현하는 강력한 방법이다. 즉 **그래프 모델은 생각을 명확하게 표현하도록 도와준다.**"
   ]
  },
  {
   "cell_type": "markdown",
   "metadata": {},
   "source": [
    "<div style=\"border: 2px solid rgb(233, 224, 222); padding: 10px; background-color: rgb(233, 224, 222); margin: 10px 0;\">\n",
    "    <strong style=\"font-weight: bold;\">● 구조적 인과모델</strong><br>\n",
    "    일부 과학자들은 인과추론의 통일된 언어를 지칭하는데 구조적 인과모델(Structural Causal Model,SCM)이라는 용어를 사용한다. 이 모델은 그래프와 인과 방정식(Causal equation)으로 구성된다. 이번 장에서는 주로 SCM의 그래프 측면에 초점을 맞춰 설명한다.\n",
    "</div>"
   ]
  },
  {
   "cell_type": "markdown",
   "metadata": {},
   "source": [
    "예시로, 교차 판매 이메일이 전환에 미치는 영향을 추정한 사례를 다시 살펴본다. 여기서 처치 $T$는 교차 판매 이메일이고 결과 $Y$는 고객이 신규 제품으로의 전환 여부를 나타낸다."
   ]
  },
  {
   "cell_type": "code",
   "execution_count": 1,
   "metadata": {},
   "outputs": [
    {
     "data": {
      "text/html": [
       "<div>\n",
       "<style scoped>\n",
       "    .dataframe tbody tr th:only-of-type {\n",
       "        vertical-align: middle;\n",
       "    }\n",
       "\n",
       "    .dataframe tbody tr th {\n",
       "        vertical-align: top;\n",
       "    }\n",
       "\n",
       "    .dataframe thead th {\n",
       "        text-align: right;\n",
       "    }\n",
       "</style>\n",
       "<table border=\"1\" class=\"dataframe\">\n",
       "  <thead>\n",
       "    <tr style=\"text-align: right;\">\n",
       "      <th></th>\n",
       "      <th>gender</th>\n",
       "      <th>cross_sell_email</th>\n",
       "      <th>age</th>\n",
       "      <th>conversion</th>\n",
       "    </tr>\n",
       "  </thead>\n",
       "  <tbody>\n",
       "    <tr>\n",
       "      <th>0</th>\n",
       "      <td>0</td>\n",
       "      <td>short</td>\n",
       "      <td>15</td>\n",
       "      <td>0</td>\n",
       "    </tr>\n",
       "    <tr>\n",
       "      <th>1</th>\n",
       "      <td>1</td>\n",
       "      <td>short</td>\n",
       "      <td>27</td>\n",
       "      <td>0</td>\n",
       "    </tr>\n",
       "    <tr>\n",
       "      <th>2</th>\n",
       "      <td>1</td>\n",
       "      <td>long</td>\n",
       "      <td>17</td>\n",
       "      <td>0</td>\n",
       "    </tr>\n",
       "    <tr>\n",
       "      <th>3</th>\n",
       "      <td>1</td>\n",
       "      <td>long</td>\n",
       "      <td>34</td>\n",
       "      <td>0</td>\n",
       "    </tr>\n",
       "    <tr>\n",
       "      <th>4</th>\n",
       "      <td>1</td>\n",
       "      <td>no_email</td>\n",
       "      <td>14</td>\n",
       "      <td>0</td>\n",
       "    </tr>\n",
       "    <tr>\n",
       "      <th>...</th>\n",
       "      <td>...</td>\n",
       "      <td>...</td>\n",
       "      <td>...</td>\n",
       "      <td>...</td>\n",
       "    </tr>\n",
       "    <tr>\n",
       "      <th>318</th>\n",
       "      <td>0</td>\n",
       "      <td>long</td>\n",
       "      <td>18</td>\n",
       "      <td>0</td>\n",
       "    </tr>\n",
       "    <tr>\n",
       "      <th>319</th>\n",
       "      <td>1</td>\n",
       "      <td>no_email</td>\n",
       "      <td>16</td>\n",
       "      <td>0</td>\n",
       "    </tr>\n",
       "    <tr>\n",
       "      <th>320</th>\n",
       "      <td>0</td>\n",
       "      <td>no_email</td>\n",
       "      <td>15</td>\n",
       "      <td>0</td>\n",
       "    </tr>\n",
       "    <tr>\n",
       "      <th>321</th>\n",
       "      <td>1</td>\n",
       "      <td>no_email</td>\n",
       "      <td>16</td>\n",
       "      <td>0</td>\n",
       "    </tr>\n",
       "    <tr>\n",
       "      <th>322</th>\n",
       "      <td>1</td>\n",
       "      <td>long</td>\n",
       "      <td>24</td>\n",
       "      <td>1</td>\n",
       "    </tr>\n",
       "  </tbody>\n",
       "</table>\n",
       "<p>323 rows × 4 columns</p>\n",
       "</div>"
      ],
      "text/plain": [
       "     gender cross_sell_email  age  conversion\n",
       "0         0            short   15           0\n",
       "1         1            short   27           0\n",
       "2         1             long   17           0\n",
       "3         1             long   34           0\n",
       "4         1         no_email   14           0\n",
       "..      ...              ...  ...         ...\n",
       "318       0             long   18           0\n",
       "319       1         no_email   16           0\n",
       "320       0         no_email   15           0\n",
       "321       1         no_email   16           0\n",
       "322       1             long   24           1\n",
       "\n",
       "[323 rows x 4 columns]"
      ]
     },
     "execution_count": 1,
     "metadata": {},
     "output_type": "execute_result"
    }
   ],
   "source": [
    "import numpy as np\n",
    "import pandas as pd\n",
    "\n",
    "url= \"https://raw.githubusercontent.com/matheusfacure/causal-inference-in-python-code/main/causal-inference-in-python/data/cross_sell_email.csv\"\n",
    "\n",
    "data=pd.read_csv(url)\n",
    "data"
   ]
  },
  {
   "cell_type": "markdown",
   "metadata": {},
   "source": [
    "해당 사례에서, $T$는 무작위로 배정되었다. 따라서 처치는 잠재적 결과와 독립이라고 ($(Y_0,Y_1) \\bot T$) 볼 수 있으며, 상관관계를 인과관계로 만든다.\n",
    "$$\n",
    "E[Y_1-Y_0] = E[Y\\ |\\ T=1]-E[Y\\ |\\ T=0]\n",
    "$$\n",
    "중요한 것은 단지 데이터만 보고 독립성 가정이 성립한다고 애기할 수는 없다는 점이다. 앞서 논의했듯이, 실험 대상에게 처치 배정에 관한 매커니즘 정보가 있어야 독립성 가정이 유지된다고 할 수 있다. 여기서는 무작위로 고객에게 이메일이 발송되었음을 알기 때문에 독립성 가정이 성립한다고 볼 수 있다."
   ]
  },
  {
   "cell_type": "markdown",
   "metadata": {},
   "source": [
    "### 인과관계 시각화"
   ]
  },
  {
   "cell_type": "markdown",
   "metadata": {},
   "source": [
    "교차 판매 이메일이 전환을 유도하고 관측된 다른 변수인 나이와 성별도 전환의 원인이 된다고 생각해보자. 또한 관측되지 않은 변수는 $U$로 표시한다. 예를 들어, 고객 소득, 사회적 배경, 나이(회사가 서비스하는 도시에서 제품이 다양한 인구 집단에 어떻게 어필되는지에 관한 정보)와 같이 전환을 유도하는 관측되지 않은 변수가 많을 것이다. 해당 변수들은 측정하지 않을 것이므로, 측정되지 않은 모든 변수를 나타내는 $U$ 노드(node)에 묶어서 표현한다. 마지막으로 $T$(처치)를 가리키는 랜덤화 노드를 추가하여 교차 판매 이메일이 무작위로 발생되었다는 구조를 나타낼 수 있다."
   ]
  },
  {
   "cell_type": "markdown",
   "metadata": {},
   "source": [
    "<div style=\"border: 2px solid rgb(233, 224, 222); padding: 10px; background-color: rgb(233, 224, 222); margin: 10px 0;\">\n",
    "    <strong style=\"font-weight: bold;\">● DAG</strong><br>\n",
    "    인과 그래프를 DAG라고 부르기도 한다. DAG는 <b>유향 비순환 그래프</b>(directed acyclic graph)의 약자이다. 방향이 있는 부분은 없는 부분과 달리, SNS처럼 엣지(edge)에 방향성을 나타낸다. 비순환 부분은 그래프에 루프나 순환(cycle)이 없음을 나타낸다. 인과관계에는 되돌릴 수 없는 비가역적(non-invertible) 가정이 있으므로 인과 그래프는 일반적으로 방향성있는 비순환 그래프이다.\n",
    "</div>"
   ]
  },
  {
   "cell_type": "markdown",
   "metadata": {},
   "source": [
    "다음과 같이 그래프 시각화 라이브러리 `graphviz`를 사용해서 그래프를 활용해 시각화할 수 있다."
   ]
  },
  {
   "cell_type": "code",
   "execution_count": 2,
   "metadata": {},
   "outputs": [],
   "source": [
    "import graphviz as gr"
   ]
  },
  {
   "cell_type": "code",
   "execution_count": 3,
   "metadata": {},
   "outputs": [
    {
     "data": {
      "image/svg+xml": [
       "<?xml version=\"1.0\" encoding=\"UTF-8\" standalone=\"no\"?>\n",
       "<!DOCTYPE svg PUBLIC \"-//W3C//DTD SVG 1.1//EN\"\n",
       " \"http://www.w3.org/Graphics/SVG/1.1/DTD/svg11.dtd\">\n",
       "<!-- Generated by graphviz version 12.2.1 (20241206.2353)\n",
       " -->\n",
       "<!-- Pages: 1 -->\n",
       "<svg width=\"329pt\" height=\"188pt\"\n",
       " viewBox=\"0.00 0.00 329.32 188.00\" xmlns=\"http://www.w3.org/2000/svg\" xmlns:xlink=\"http://www.w3.org/1999/xlink\">\n",
       "<g id=\"graph0\" class=\"graph\" transform=\"scale(1 1) rotate(0) translate(4 184)\">\n",
       "<polygon fill=\"white\" stroke=\"none\" points=\"-4,4 -4,-184 325.32,-184 325.32,4 -4,4\"/>\n",
       "<!-- U -->\n",
       "<g id=\"node1\" class=\"node\">\n",
       "<title>U</title>\n",
       "<ellipse fill=\"none\" stroke=\"black\" cx=\"40.47\" cy=\"-162\" rx=\"27\" ry=\"18\"/>\n",
       "<text text-anchor=\"middle\" x=\"40.47\" y=\"-156.95\" font-family=\"Times New Roman,serif\" font-size=\"14.00\">U</text>\n",
       "</g>\n",
       "<!-- Conversion -->\n",
       "<g id=\"node2\" class=\"node\">\n",
       "<title>Conversion</title>\n",
       "<ellipse fill=\"none\" stroke=\"black\" cx=\"80.47\" cy=\"-18\" rx=\"53.4\" ry=\"18\"/>\n",
       "<text text-anchor=\"middle\" x=\"80.47\" y=\"-12.95\" font-family=\"Times New Roman,serif\" font-size=\"14.00\">Conversion</text>\n",
       "</g>\n",
       "<!-- U&#45;&gt;Conversion -->\n",
       "<g id=\"edge1\" class=\"edge\">\n",
       "<title>U&#45;&gt;Conversion</title>\n",
       "<path fill=\"none\" stroke=\"black\" d=\"M26.58,-146.12C11.54,-128.13 -8.63,-97.12 4.47,-72 11.9,-57.77 25.08,-46.58 38.41,-38.22\"/>\n",
       "<polygon fill=\"black\" stroke=\"black\" points=\"39.84,-41.44 46.74,-33.4 36.34,-35.38 39.84,-41.44\"/>\n",
       "</g>\n",
       "<!-- age -->\n",
       "<g id=\"node3\" class=\"node\">\n",
       "<title>age</title>\n",
       "<ellipse fill=\"none\" stroke=\"black\" cx=\"40.47\" cy=\"-90\" rx=\"27\" ry=\"18\"/>\n",
       "<text text-anchor=\"middle\" x=\"40.47\" y=\"-84.95\" font-family=\"Times New Roman,serif\" font-size=\"14.00\">age</text>\n",
       "</g>\n",
       "<!-- U&#45;&gt;age -->\n",
       "<g id=\"edge2\" class=\"edge\">\n",
       "<title>U&#45;&gt;age</title>\n",
       "<path fill=\"none\" stroke=\"black\" d=\"M40.47,-143.7C40.47,-136.41 40.47,-127.73 40.47,-119.54\"/>\n",
       "<polygon fill=\"black\" stroke=\"black\" points=\"43.97,-119.62 40.47,-109.62 36.97,-119.62 43.97,-119.62\"/>\n",
       "</g>\n",
       "<!-- gender -->\n",
       "<g id=\"node4\" class=\"node\">\n",
       "<title>gender</title>\n",
       "<ellipse fill=\"none\" stroke=\"black\" cx=\"121.47\" cy=\"-90\" rx=\"36\" ry=\"18\"/>\n",
       "<text text-anchor=\"middle\" x=\"121.47\" y=\"-84.95\" font-family=\"Times New Roman,serif\" font-size=\"14.00\">gender</text>\n",
       "</g>\n",
       "<!-- U&#45;&gt;gender -->\n",
       "<g id=\"edge3\" class=\"edge\">\n",
       "<title>U&#45;&gt;gender</title>\n",
       "<path fill=\"none\" stroke=\"black\" d=\"M56.48,-147.17C67.64,-137.52 82.78,-124.44 95.64,-113.33\"/>\n",
       "<polygon fill=\"black\" stroke=\"black\" points=\"97.68,-116.19 102.96,-107 93.1,-110.89 97.68,-116.19\"/>\n",
       "</g>\n",
       "<!-- age&#45;&gt;Conversion -->\n",
       "<g id=\"edge6\" class=\"edge\">\n",
       "<title>age&#45;&gt;Conversion</title>\n",
       "<path fill=\"none\" stroke=\"black\" d=\"M49.75,-72.76C54.31,-64.78 59.93,-54.95 65.11,-45.89\"/>\n",
       "<polygon fill=\"black\" stroke=\"black\" points=\"68.01,-47.86 69.94,-37.44 61.94,-44.38 68.01,-47.86\"/>\n",
       "</g>\n",
       "<!-- gender&#45;&gt;Conversion -->\n",
       "<g id=\"edge7\" class=\"edge\">\n",
       "<title>gender&#45;&gt;Conversion</title>\n",
       "<path fill=\"none\" stroke=\"black\" d=\"M111.76,-72.41C107.08,-64.42 101.35,-54.64 96.08,-45.64\"/>\n",
       "<polygon fill=\"black\" stroke=\"black\" points=\"99.24,-44.12 91.17,-37.26 93.2,-47.66 99.24,-44.12\"/>\n",
       "</g>\n",
       "<!-- Random -->\n",
       "<g id=\"node5\" class=\"node\">\n",
       "<title>Random</title>\n",
       "<ellipse fill=\"none\" stroke=\"black\" cx=\"248.47\" cy=\"-162\" rx=\"42.65\" ry=\"18\"/>\n",
       "<text text-anchor=\"middle\" x=\"248.47\" y=\"-156.95\" font-family=\"Times New Roman,serif\" font-size=\"14.00\">Random</text>\n",
       "</g>\n",
       "<!-- cross_sell_email -->\n",
       "<g id=\"node6\" class=\"node\">\n",
       "<title>cross_sell_email</title>\n",
       "<ellipse fill=\"none\" stroke=\"black\" cx=\"248.47\" cy=\"-90\" rx=\"72.85\" ry=\"18\"/>\n",
       "<text text-anchor=\"middle\" x=\"248.47\" y=\"-84.95\" font-family=\"Times New Roman,serif\" font-size=\"14.00\">cross_sell_email</text>\n",
       "</g>\n",
       "<!-- Random&#45;&gt;cross_sell_email -->\n",
       "<g id=\"edge4\" class=\"edge\">\n",
       "<title>Random&#45;&gt;cross_sell_email</title>\n",
       "<path fill=\"none\" stroke=\"black\" d=\"M248.47,-143.7C248.47,-136.41 248.47,-127.73 248.47,-119.54\"/>\n",
       "<polygon fill=\"black\" stroke=\"black\" points=\"251.97,-119.62 248.47,-109.62 244.97,-119.62 251.97,-119.62\"/>\n",
       "</g>\n",
       "<!-- cross_sell_email&#45;&gt;Conversion -->\n",
       "<g id=\"edge5\" class=\"edge\">\n",
       "<title>cross_sell_email&#45;&gt;Conversion</title>\n",
       "<path fill=\"none\" stroke=\"black\" d=\"M212.43,-73.98C186.39,-63.13 151.09,-48.42 123.56,-36.95\"/>\n",
       "<polygon fill=\"black\" stroke=\"black\" points=\"125.02,-33.77 114.44,-33.15 122.32,-40.23 125.02,-33.77\"/>\n",
       "</g>\n",
       "</g>\n",
       "</svg>\n"
      ],
      "text/plain": [
       "<graphviz.graphs.Digraph at 0x24236c7b5e0>"
      ]
     },
     "execution_count": 3,
     "metadata": {},
     "output_type": "execute_result"
    }
   ],
   "source": [
    "g_cross_sell = gr.Digraph()\n",
    "\n",
    "g_cross_sell.edge('U','Conversion')\n",
    "g_cross_sell.edge('U','age')\n",
    "g_cross_sell.edge('U','gender')\n",
    "\n",
    "g_cross_sell.edge('Random','cross_sell_email')\n",
    "g_cross_sell.edge('cross_sell_email','Conversion')\n",
    "g_cross_sell.edge('age','Conversion')\n",
    "g_cross_sell.edge('gender','Conversion')\n",
    "\n",
    "g_cross_sell"
   ]
  },
  {
   "cell_type": "markdown",
   "metadata": {},
   "source": [
    "그래프의 각 노드는 **확률변수(Random Variable,RV)** 이다. 화살표나 엣지를 사용하여 한 변수가 다른 변수의 원인이 되는지 표시할 수 있다. 이 그래프 모델에서는 전환의 원인은 이메일이 되고, $U$가 나이,전환,성별 등 변수의 원임임을 나타낸다. 이 그래프 모델 언어는 세상이 어떻게 작동하는지에 관한 믿음을 명확하게 반영하므로 인과관계에 대한 생각을 표현하는 데 도움이 된다. 그런데 오늘날 데이터 적용 사례에 일반적으로 존재하는 수백 개의 변수를 모두 그래프에 표현할 방법은 없다. 따라서 이 부분이 얼마나 비현실적인지 고민할 필요가 없다. 실제로 전달하려는 일반적인 인과 구조를 유지하면서 노드를 묶어 획기적으로 그래프를 단순화할 수 있다.  \n",
    "예를 들어, 앞의 그래프를 가지고 관측 가능한 변수를 $X$ 노드로 묶을 수 있다. 두 변수 $U$에 의해 발생하고 전환의 원인이 되므로 이들을 결합해도 인과 구조는 그대로 유지된다.  \n",
    "또한 무작위로 배정되거나 개입된 변수를 표현할 때는 들어오는 화살표를 모두 제거하면 된다."
   ]
  },
  {
   "cell_type": "code",
   "execution_count": 4,
   "metadata": {},
   "outputs": [
    {
     "data": {
      "image/svg+xml": [
       "<?xml version=\"1.0\" encoding=\"UTF-8\" standalone=\"no\"?>\n",
       "<!DOCTYPE svg PUBLIC \"-//W3C//DTD SVG 1.1//EN\"\n",
       " \"http://www.w3.org/Graphics/SVG/1.1/DTD/svg11.dtd\">\n",
       "<!-- Generated by graphviz version 12.2.1 (20241206.2353)\n",
       " -->\n",
       "<!-- Pages: 1 -->\n",
       "<svg width=\"391pt\" height=\"121pt\"\n",
       " viewBox=\"0.00 0.00 390.59 121.00\" xmlns=\"http://www.w3.org/2000/svg\" xmlns:xlink=\"http://www.w3.org/1999/xlink\">\n",
       "<g id=\"graph0\" class=\"graph\" transform=\"scale(1 1) rotate(0) translate(4 117)\">\n",
       "<polygon fill=\"white\" stroke=\"none\" points=\"-4,4 -4,-117 386.59,-117 386.59,4 -4,4\"/>\n",
       "<!-- U -->\n",
       "<g id=\"node1\" class=\"node\">\n",
       "<title>U</title>\n",
       "<ellipse fill=\"none\" stroke=\"black\" cx=\"27\" cy=\"-95\" rx=\"27\" ry=\"18\"/>\n",
       "<text text-anchor=\"middle\" x=\"27\" y=\"-89.95\" font-family=\"Times New Roman,serif\" font-size=\"14.00\">U</text>\n",
       "</g>\n",
       "<!-- Conversion -->\n",
       "<g id=\"node2\" class=\"node\">\n",
       "<title>Conversion</title>\n",
       "<ellipse fill=\"none\" stroke=\"black\" cx=\"329.19\" cy=\"-72\" rx=\"53.4\" ry=\"18\"/>\n",
       "<text text-anchor=\"middle\" x=\"329.19\" y=\"-66.95\" font-family=\"Times New Roman,serif\" font-size=\"14.00\">Conversion</text>\n",
       "</g>\n",
       "<!-- U&#45;&gt;Conversion -->\n",
       "<g id=\"edge1\" class=\"edge\">\n",
       "<title>U&#45;&gt;Conversion</title>\n",
       "<path fill=\"none\" stroke=\"black\" d=\"M53.93,-98.25C94.04,-102.66 173.41,-108.91 239.79,-99 253.68,-96.93 268.4,-93.12 281.76,-89\"/>\n",
       "<polygon fill=\"black\" stroke=\"black\" points=\"282.73,-92.36 291.18,-85.96 280.58,-85.7 282.73,-92.36\"/>\n",
       "</g>\n",
       "<!-- X -->\n",
       "<g id=\"node3\" class=\"node\">\n",
       "<title>X</title>\n",
       "<ellipse fill=\"none\" stroke=\"black\" cx=\"164.89\" cy=\"-72\" rx=\"27\" ry=\"18\"/>\n",
       "<text text-anchor=\"middle\" x=\"164.89\" y=\"-66.95\" font-family=\"Times New Roman,serif\" font-size=\"14.00\">X</text>\n",
       "</g>\n",
       "<!-- U&#45;&gt;X -->\n",
       "<g id=\"edge2\" class=\"edge\">\n",
       "<title>U&#45;&gt;X</title>\n",
       "<path fill=\"none\" stroke=\"black\" d=\"M53.56,-90.67C74.35,-87.16 103.94,-82.15 127.25,-78.2\"/>\n",
       "<polygon fill=\"black\" stroke=\"black\" points=\"127.68,-81.68 136.96,-76.56 126.51,-74.78 127.68,-81.68\"/>\n",
       "</g>\n",
       "<!-- X&#45;&gt;Conversion -->\n",
       "<g id=\"edge4\" class=\"edge\">\n",
       "<title>X&#45;&gt;Conversion</title>\n",
       "<path fill=\"none\" stroke=\"black\" d=\"M192.33,-72C211.8,-72 239.14,-72 264.2,-72\"/>\n",
       "<polygon fill=\"black\" stroke=\"black\" points=\"264,-75.5 274,-72 264,-68.5 264,-75.5\"/>\n",
       "</g>\n",
       "<!-- Cross_sell_email -->\n",
       "<g id=\"node4\" class=\"node\">\n",
       "<title>Cross_sell_email</title>\n",
       "<ellipse fill=\"none\" stroke=\"black\" cx=\"164.89\" cy=\"-18\" rx=\"74.89\" ry=\"18\"/>\n",
       "<text text-anchor=\"middle\" x=\"164.89\" y=\"-12.95\" font-family=\"Times New Roman,serif\" font-size=\"14.00\">Cross_sell_email</text>\n",
       "</g>\n",
       "<!-- Cross_sell_email&#45;&gt;Conversion -->\n",
       "<g id=\"edge3\" class=\"edge\">\n",
       "<title>Cross_sell_email&#45;&gt;Conversion</title>\n",
       "<path fill=\"none\" stroke=\"black\" d=\"M210.24,-32.76C231.68,-39.89 257.46,-48.47 279.45,-55.78\"/>\n",
       "<polygon fill=\"black\" stroke=\"black\" points=\"278.2,-59.06 288.79,-58.89 280.41,-52.41 278.2,-59.06\"/>\n",
       "</g>\n",
       "</g>\n",
       "</svg>\n"
      ],
      "text/plain": [
       "<graphviz.graphs.Digraph at 0x24236c7b820>"
      ]
     },
     "execution_count": 4,
     "metadata": {},
     "output_type": "execute_result"
    }
   ],
   "source": [
    "# rankdir : LR인 경우, 그래프가 왼쪽에서 오른쪽으로 화살표가 향하도록 설정\n",
    "g_cross_sell = gr.Digraph(graph_attr={'rankdir':\"LR\"})\n",
    "\n",
    "g_cross_sell.edge('U','Conversion')\n",
    "g_cross_sell.edge('U','X')\n",
    "\n",
    "g_cross_sell.edge('Cross_sell_email','Conversion')\n",
    "g_cross_sell.edge('X','Conversion')\n",
    "\n",
    "g_cross_sell"
   ]
  },
  {
   "cell_type": "markdown",
   "metadata": {},
   "source": [
    "여기서 흥미로운 점은 DAG에서 가장 중요한 정보는 **그래프 안에서 누락될 수도 사실**이다. 즉, 한 변수에 다른 변수로 연결되는 엣지가 없다는 것은 두 변수 사이에 직접적인 인과관계가 없다고 가정한다는 의미이다. 예를 들어, 앞의 그래프에서는 처치와 결과, 두 노드 **모두**에게 영향을 주는 원인이 없다고 가정한다."
   ]
  },
  {
   "cell_type": "markdown",
   "metadata": {},
   "source": [
    "이 부분을 읽으면서 내용이 완전히 이치에 맞지 않는다고 생각할 수 있으며, 이해가 안되는 것이 지극히 정상이다. 하지만 지금은 그래프가 상관관계는 인과관계가 아닌 이유를 이해하는 데 매우 강력한 도구임을 기억하자."
   ]
  },
  {
   "cell_type": "markdown",
   "metadata": {},
   "source": [
    "### 컨설턴트 영입 여부 결정하기"
   ]
  },
  {
   "cell_type": "markdown",
   "metadata": {},
   "source": [
    "처치가 랜덤화되지 않은 예제를 살펴보며 DAG의 유용함을 알아본다. 만약 여러분이 최고 수준의 컨설턴트 영입 여부를 고려하는 회사의 관리자라고 생각해보자. 컨설턴트의 몸값이 비싸다는 것을 알지만, 그들이 업계 최고의 회사와 함께 일하며 쌓은 전문 지식을 보유했다는 것도 안다. 수익성이 매우 좋은 회사만 최고 수준의 컨설턴트를 고용할 수 있기 때문에 그러한 컨설턴트를 고용했을 때 비즈니스를 개선할 수 있는지, 그들의 존재가 좋은 회사의 실적(수익으로 측정)과 상관관계가 있는 건지 확신할 수 없다. 회사마다 컨설턴트를 무작위로 배정받을 수 있다면 최고 수준의 컨설턴트 고용이 얼마나 효과적인지 쉽게 답할 수 있지만, 현실적으로 어렵기에 다른 방법을 생각해 내야 한다. 이는 상관관계로부터 인과관계를 풀어야 하는 문제이다. 인과관계 메커니즘에 관한 생각을 다음과 같이 그래프로 표현해서 이를 이해할 수 있다."
   ]
  },
  {
   "cell_type": "code",
   "execution_count": 5,
   "metadata": {},
   "outputs": [
    {
     "data": {
      "image/svg+xml": [
       "<?xml version=\"1.0\" encoding=\"UTF-8\" standalone=\"no\"?>\n",
       "<!DOCTYPE svg PUBLIC \"-//W3C//DTD SVG 1.1//EN\"\n",
       " \"http://www.w3.org/Graphics/SVG/1.1/DTD/svg11.dtd\">\n",
       "<!-- Generated by graphviz version 12.2.1 (20241206.2353)\n",
       " -->\n",
       "<!-- Pages: 1 -->\n",
       "<svg width=\"688pt\" height=\"144pt\"\n",
       " viewBox=\"0.00 0.00 687.95 144.00\" xmlns=\"http://www.w3.org/2000/svg\" xmlns:xlink=\"http://www.w3.org/1999/xlink\">\n",
       "<g id=\"graph0\" class=\"graph\" transform=\"scale(1 1) rotate(0) translate(4 140)\">\n",
       "<polygon fill=\"white\" stroke=\"none\" points=\"-4,4 -4,-140 683.95,-140 683.95,4 -4,4\"/>\n",
       "<!-- U1 -->\n",
       "<g id=\"node1\" class=\"node\">\n",
       "<title>U1</title>\n",
       "<ellipse fill=\"none\" stroke=\"black\" cx=\"391.63\" cy=\"-118\" rx=\"27\" ry=\"18\"/>\n",
       "<text text-anchor=\"middle\" x=\"391.63\" y=\"-112.95\" font-family=\"Times New Roman,serif\" font-size=\"14.00\">U1</text>\n",
       "</g>\n",
       "<!-- Earnings after 6 months -->\n",
       "<g id=\"node2\" class=\"node\">\n",
       "<title>Earnings after 6 months</title>\n",
       "<ellipse fill=\"none\" stroke=\"black\" cx=\"579.46\" cy=\"-64\" rx=\"100.48\" ry=\"18\"/>\n",
       "<text text-anchor=\"middle\" x=\"579.46\" y=\"-58.95\" font-family=\"Times New Roman,serif\" font-size=\"14.00\">Earnings after 6 months</text>\n",
       "</g>\n",
       "<!-- U1&#45;&gt;Earnings after 6 months -->\n",
       "<g id=\"edge1\" class=\"edge\">\n",
       "<title>U1&#45;&gt;Earnings after 6 months</title>\n",
       "<path fill=\"none\" stroke=\"black\" d=\"M416.92,-110.94C441.6,-103.77 480.88,-92.36 514.52,-82.58\"/>\n",
       "<polygon fill=\"black\" stroke=\"black\" points=\"515.14,-86.05 523.77,-79.89 513.19,-79.32 515.14,-86.05\"/>\n",
       "</g>\n",
       "<!-- U2 -->\n",
       "<g id=\"node3\" class=\"node\">\n",
       "<title>U2</title>\n",
       "<ellipse fill=\"none\" stroke=\"black\" cx=\"197.14\" cy=\"-72\" rx=\"27\" ry=\"18\"/>\n",
       "<text text-anchor=\"middle\" x=\"197.14\" y=\"-66.95\" font-family=\"Times New Roman,serif\" font-size=\"14.00\">U2</text>\n",
       "</g>\n",
       "<!-- Consulting -->\n",
       "<g id=\"node4\" class=\"node\">\n",
       "<title>Consulting</title>\n",
       "<ellipse fill=\"none\" stroke=\"black\" cx=\"391.63\" cy=\"-64\" rx=\"51.35\" ry=\"18\"/>\n",
       "<text text-anchor=\"middle\" x=\"391.63\" y=\"-58.95\" font-family=\"Times New Roman,serif\" font-size=\"14.00\">Consulting</text>\n",
       "</g>\n",
       "<!-- U2&#45;&gt;Consulting -->\n",
       "<g id=\"edge2\" class=\"edge\">\n",
       "<title>U2&#45;&gt;Consulting</title>\n",
       "<path fill=\"none\" stroke=\"black\" d=\"M224.5,-70.9C251.35,-69.79 293.95,-68.02 329.28,-66.55\"/>\n",
       "<polygon fill=\"black\" stroke=\"black\" points=\"329.11,-70.06 338.96,-66.15 328.82,-63.07 329.11,-70.06\"/>\n",
       "</g>\n",
       "<!-- Consulting&#45;&gt;Earnings after 6 months -->\n",
       "<g id=\"edge4\" class=\"edge\">\n",
       "<title>Consulting&#45;&gt;Earnings after 6 months</title>\n",
       "<path fill=\"none\" stroke=\"black\" d=\"M443.41,-64C451.02,-64 459.11,-64 467.4,-64\"/>\n",
       "<polygon fill=\"black\" stroke=\"black\" points=\"467.28,-67.5 477.28,-64 467.28,-60.5 467.28,-67.5\"/>\n",
       "</g>\n",
       "<!-- U3 -->\n",
       "<g id=\"node5\" class=\"node\">\n",
       "<title>U3</title>\n",
       "<ellipse fill=\"none\" stroke=\"black\" cx=\"27\" cy=\"-18\" rx=\"27\" ry=\"18\"/>\n",
       "<text text-anchor=\"middle\" x=\"27\" y=\"-12.95\" font-family=\"Times New Roman,serif\" font-size=\"14.00\">U3</text>\n",
       "</g>\n",
       "<!-- Earnings before 6 months -->\n",
       "<g id=\"node6\" class=\"node\">\n",
       "<title>Earnings before 6 months</title>\n",
       "<ellipse fill=\"none\" stroke=\"black\" cx=\"197.14\" cy=\"-18\" rx=\"107.14\" ry=\"18\"/>\n",
       "<text text-anchor=\"middle\" x=\"197.14\" y=\"-12.95\" font-family=\"Times New Roman,serif\" font-size=\"14.00\">Earnings before 6 months</text>\n",
       "</g>\n",
       "<!-- U3&#45;&gt;Earnings before 6 months -->\n",
       "<g id=\"edge3\" class=\"edge\">\n",
       "<title>U3&#45;&gt;Earnings before 6 months</title>\n",
       "<path fill=\"none\" stroke=\"black\" d=\"M54.27,-18C61.35,-18 69.49,-18 78.21,-18\"/>\n",
       "<polygon fill=\"black\" stroke=\"black\" points=\"78.02,-21.5 88.02,-18 78.02,-14.5 78.02,-21.5\"/>\n",
       "</g>\n",
       "<!-- Earnings before 6 months&#45;&gt;Earnings after 6 months -->\n",
       "<g id=\"edge6\" class=\"edge\">\n",
       "<title>Earnings before 6 months&#45;&gt;Earnings after 6 months</title>\n",
       "<path fill=\"none\" stroke=\"black\" d=\"M300.28,-23.2C344.31,-26.14 396.31,-30.56 442.98,-37 462.93,-39.75 484.38,-43.6 504.19,-47.54\"/>\n",
       "<polygon fill=\"black\" stroke=\"black\" points=\"503.34,-50.94 513.83,-49.49 504.73,-44.08 503.34,-50.94\"/>\n",
       "</g>\n",
       "<!-- Earnings before 6 months&#45;&gt;Consulting -->\n",
       "<g id=\"edge5\" class=\"edge\">\n",
       "<title>Earnings before 6 months&#45;&gt;Consulting</title>\n",
       "<path fill=\"none\" stroke=\"black\" d=\"M260.63,-32.93C285.46,-38.87 313.72,-45.62 337.54,-51.31\"/>\n",
       "<polygon fill=\"black\" stroke=\"black\" points=\"336.48,-54.66 347.02,-53.58 338.1,-47.85 336.48,-54.66\"/>\n",
       "</g>\n",
       "</g>\n",
       "</svg>\n"
      ],
      "text/plain": [
       "<graphviz.graphs.Digraph at 0x242348a0fa0>"
      ]
     },
     "execution_count": 5,
     "metadata": {},
     "output_type": "execute_result"
    }
   ],
   "source": [
    "g_consulting = gr.Digraph(graph_attr={'rankdir':'LR'})\n",
    "\n",
    "g_consulting.edge('U1','Earnings after 6 months')\n",
    "g_consulting.edge('U2','Consulting')\n",
    "g_consulting.edge('U3','Earnings before 6 months')\n",
    "\n",
    "g_consulting.edge('Consulting','Earnings after 6 months')\n",
    "g_consulting.edge('Earnings before 6 months','Consulting')\n",
    "g_consulting.edge('Earnings before 6 months','Earnings after 6 months')\n",
    "\n",
    "g_consulting"
   ]
  },
  {
   "cell_type": "markdown",
   "metadata": {},
   "source": [
    "측정할 수 없는 다른 요소가 변수의 원인이라는 사실을 나타내려고 각 변수에 $U$ 노드를 추가한 부분을 보자. 그래프는 일반적으로 확률변수를 나타내므로 임의의 $U$가 모든 변수의 원인이 될 것으로 예상할 수 있다. 그러나 이러한 요소는 인과 구조에 영향을 주지 않을 것이므로 생략하는 편이 좋다."
   ]
  },
  {
   "cell_type": "code",
   "execution_count": 35,
   "metadata": {},
   "outputs": [
    {
     "data": {
      "image/svg+xml": [
       "<?xml version=\"1.0\" encoding=\"UTF-8\" standalone=\"no\"?>\n",
       "<!DOCTYPE svg PUBLIC \"-//W3C//DTD SVG 1.1//EN\"\n",
       " \"http://www.w3.org/Graphics/SVG/1.1/DTD/svg11.dtd\">\n",
       "<!-- Generated by graphviz version 12.2.1 (20241206.2353)\n",
       " -->\n",
       "<!-- Pages: 1 -->\n",
       "<svg width=\"598pt\" height=\"67pt\"\n",
       " viewBox=\"0.00 0.00 597.95 67.00\" xmlns=\"http://www.w3.org/2000/svg\" xmlns:xlink=\"http://www.w3.org/1999/xlink\">\n",
       "<g id=\"graph0\" class=\"graph\" transform=\"scale(1 1) rotate(0) translate(4 63)\">\n",
       "<polygon fill=\"white\" stroke=\"none\" points=\"-4,4 -4,-63 593.95,-63 593.95,4 -4,4\"/>\n",
       "<!-- Earnings before 6 months -->\n",
       "<g id=\"node1\" class=\"node\">\n",
       "<title>Earnings before 6 months</title>\n",
       "<ellipse fill=\"none\" stroke=\"black\" cx=\"107.14\" cy=\"-41\" rx=\"107.14\" ry=\"18\"/>\n",
       "<text text-anchor=\"middle\" x=\"107.14\" y=\"-35.95\" font-family=\"Times New Roman,serif\" font-size=\"14.00\">Earnings before 6 months</text>\n",
       "</g>\n",
       "<!-- Earnings after 6 months -->\n",
       "<g id=\"node2\" class=\"node\">\n",
       "<title>Earnings after 6 months</title>\n",
       "<ellipse fill=\"none\" stroke=\"black\" cx=\"489.46\" cy=\"-41\" rx=\"100.48\" ry=\"18\"/>\n",
       "<text text-anchor=\"middle\" x=\"489.46\" y=\"-35.95\" font-family=\"Times New Roman,serif\" font-size=\"14.00\">Earnings after 6 months</text>\n",
       "</g>\n",
       "<!-- Earnings before 6 months&#45;&gt;Earnings after 6 months -->\n",
       "<g id=\"edge1\" class=\"edge\">\n",
       "<title>Earnings before 6 months&#45;&gt;Earnings after 6 months</title>\n",
       "<path fill=\"none\" stroke=\"black\" d=\"M212.92,-44.28C225.51,-44.58 238.18,-44.83 250.28,-45 295.92,-45.64 307.34,-45.67 352.98,-45 361.32,-44.88 369.96,-44.71 378.64,-44.52\"/>\n",
       "<polygon fill=\"black\" stroke=\"black\" points=\"378.63,-48.02 388.54,-44.28 378.46,-41.02 378.63,-48.02\"/>\n",
       "</g>\n",
       "<!-- Consulting -->\n",
       "<g id=\"node3\" class=\"node\">\n",
       "<title>Consulting</title>\n",
       "<ellipse fill=\"none\" stroke=\"black\" cx=\"301.63\" cy=\"-18\" rx=\"51.35\" ry=\"18\"/>\n",
       "<text text-anchor=\"middle\" x=\"301.63\" y=\"-12.95\" font-family=\"Times New Roman,serif\" font-size=\"14.00\">Consulting</text>\n",
       "</g>\n",
       "<!-- Earnings before 6 months&#45;&gt;Consulting -->\n",
       "<g id=\"edge2\" class=\"edge\">\n",
       "<title>Earnings before 6 months&#45;&gt;Consulting</title>\n",
       "<path fill=\"none\" stroke=\"black\" d=\"M195.65,-30.54C211.09,-28.7 226.83,-26.82 241.27,-25.09\"/>\n",
       "<polygon fill=\"black\" stroke=\"black\" points=\"241.52,-28.59 251.03,-23.93 240.69,-21.64 241.52,-28.59\"/>\n",
       "</g>\n",
       "<!-- Consulting&#45;&gt;Earnings after 6 months -->\n",
       "<g id=\"edge3\" class=\"edge\">\n",
       "<title>Consulting&#45;&gt;Earnings after 6 months</title>\n",
       "<path fill=\"none\" stroke=\"black\" d=\"M350.49,-23.92C364.07,-25.6 379.35,-27.5 394.67,-29.39\"/>\n",
       "<polygon fill=\"black\" stroke=\"black\" points=\"393.95,-32.83 404.3,-30.58 394.81,-25.88 393.95,-32.83\"/>\n",
       "</g>\n",
       "</g>\n",
       "</svg>\n"
      ],
      "text/plain": [
       "<graphviz.graphs.Digraph at 0x24237128190>"
      ]
     },
     "execution_count": 35,
     "metadata": {},
     "output_type": "execute_result"
    }
   ],
   "source": [
    "g_consulting = gr.Digraph(graph_attr={'rankdir':'LR'})\n",
    "\n",
    "g_consulting.edge('Earnings before 6 months','Earnings after 6 months')\n",
    "g_consulting.edge('Earnings before 6 months','Consulting')\n",
    "g_consulting.edge('Consulting','Earnings after 6 months')\n",
    "\n",
    "g_consulting"
   ]
  },
  {
   "cell_type": "markdown",
   "metadata": {},
   "source": [
    "이 사례에서 회사의 과거 실적이 최고 수준이 컨설턴트를 고용하게 한다고 애기한다. 회사가 잘 된다면 비싼 서비스 비용을 지불할 수 있지만, 실적이 좋지 않다면 지불할 여유가 없다. 따라서 과거 실적이 컨설턴트를 고용할 확률을 결정한다. 이 관계가 반드시 결정적(Deterministic)이지 않다는 점을 기억하자. 단지 **실적이 좋은 회사가 최고 수준의 컨설턴트를 고용할 가능성이 더 높다는 의미**이다."
   ]
  },
  {
   "cell_type": "markdown",
   "metadata": {},
   "source": [
    "그뿐만 아니라 지난 6개월 동안 잘된 회사는 이후 6개월 동안에도 잘될 가능성이 매우 높다. 물론 항상 그렇지는 않지만, 평균적으로 그렇기 때문에 과거 실적에서 미래 실적까지의 엣지를 추가했다. 마지막으로 컨설팅으로부터 회사의 미래 실적에 관한 엣지를 추가했다. 목표는 이러한 그래프 연결의 강점을 파악하는 것이며, 이 연결이 우리가 관심 있는 인과관계이다."
   ]
  },
  {
   "cell_type": "markdown",
   "metadata": {},
   "source": [
    "컨설팅이 실제로 회사의 실적을 높이는지에 대한 답을 하기는 간단하지 않다. 컨설팅과 미래 실적 사이의 연관성에는 두 가지 원인이 있다. 하나는 인과관계이지만 다른 하나는 인과관계가 아니다. 이를 이해하고 구분하려면 먼저 인과 그래프에서 연관성이 어떻게 흐르는지 간단히 살펴봐야 한다."
   ]
  },
  {
   "cell_type": "markdown",
   "metadata": {},
   "source": [
    "---"
   ]
  },
  {
   "cell_type": "markdown",
   "metadata": {},
   "source": [
    "## 3.2 그래프 모델의 구조"
   ]
  },
  {
   "cell_type": "markdown",
   "metadata": {},
   "source": [
    "그래프 모델을 보통 대학교에서 한 학기 내내 수업을 한다. 하지만 여기선 **그래프 모델에 어떤 독립성 및 조건부 독립성 가정이 수반되는지 이해하는 것**이 중요하다. 연관성은 개울에 물 흐르듯이 그래프 모델을 따라 흐른다. 그래프에서 어떻게 변수를 다루는지에 따라 이 흐름을 막거나 활성화할 수 있다. 다음 세 가지 그래프 구조와 예시를 보면서 이를 이해해본다. 그래프 모델에서 상관관계, 독립성 및 조건부 독립성의 흐름에 관한 모든 내용을 파악할 수 있다."
   ]
  },
  {
   "cell_type": "markdown",
   "metadata": {},
   "source": [
    "### 사슬 구조 (Chain)"
   ]
  },
  {
   "cell_type": "markdown",
   "metadata": {},
   "source": [
    "첫 번째로 간단한 그래프인 사슬(chain)구조를 살펴본다. 여기서 $T$는 $M$의 원인이 되고, $M$은 $Y$의 원인이 된다. 중간 노드(intermediary node)는 $T$와 $Y$ 사이의 관계를 매개하는 역할이므로 매개자(mediator)라고 한다."
   ]
  },
  {
   "cell_type": "code",
   "execution_count": 7,
   "metadata": {},
   "outputs": [
    {
     "data": {
      "image/svg+xml": [
       "<?xml version=\"1.0\" encoding=\"UTF-8\" standalone=\"no\"?>\n",
       "<!DOCTYPE svg PUBLIC \"-//W3C//DTD SVG 1.1//EN\"\n",
       " \"http://www.w3.org/Graphics/SVG/1.1/DTD/svg11.dtd\">\n",
       "<!-- Generated by graphviz version 12.2.1 (20241206.2353)\n",
       " -->\n",
       "<!-- Pages: 1 -->\n",
       "<svg width=\"242pt\" height=\"44pt\"\n",
       " viewBox=\"0.00 0.00 242.00 44.00\" xmlns=\"http://www.w3.org/2000/svg\" xmlns:xlink=\"http://www.w3.org/1999/xlink\">\n",
       "<g id=\"graph0\" class=\"graph\" transform=\"scale(1 1) rotate(0) translate(4 40)\">\n",
       "<polygon fill=\"white\" stroke=\"none\" points=\"-4,4 -4,-40 238,-40 238,4 -4,4\"/>\n",
       "<!-- T -->\n",
       "<g id=\"node1\" class=\"node\">\n",
       "<title>T</title>\n",
       "<ellipse fill=\"none\" stroke=\"black\" cx=\"27\" cy=\"-18\" rx=\"27\" ry=\"18\"/>\n",
       "<text text-anchor=\"middle\" x=\"27\" y=\"-12.95\" font-family=\"Times New Roman,serif\" font-size=\"14.00\">T</text>\n",
       "</g>\n",
       "<!-- M -->\n",
       "<g id=\"node2\" class=\"node\">\n",
       "<title>M</title>\n",
       "<ellipse fill=\"none\" stroke=\"black\" cx=\"117\" cy=\"-18\" rx=\"27\" ry=\"18\"/>\n",
       "<text text-anchor=\"middle\" x=\"117\" y=\"-12.95\" font-family=\"Times New Roman,serif\" font-size=\"14.00\">M</text>\n",
       "</g>\n",
       "<!-- T&#45;&gt;M -->\n",
       "<g id=\"edge1\" class=\"edge\">\n",
       "<title>T&#45;&gt;M</title>\n",
       "<path fill=\"none\" stroke=\"black\" d=\"M54.4,-18C61.89,-18 70.18,-18 78.2,-18\"/>\n",
       "<polygon fill=\"black\" stroke=\"black\" points=\"78.1,-21.5 88.1,-18 78.1,-14.5 78.1,-21.5\"/>\n",
       "</g>\n",
       "<!-- Y -->\n",
       "<g id=\"node3\" class=\"node\">\n",
       "<title>Y</title>\n",
       "<ellipse fill=\"none\" stroke=\"black\" cx=\"207\" cy=\"-18\" rx=\"27\" ry=\"18\"/>\n",
       "<text text-anchor=\"middle\" x=\"207\" y=\"-12.95\" font-family=\"Times New Roman,serif\" font-size=\"14.00\">Y</text>\n",
       "</g>\n",
       "<!-- M&#45;&gt;Y -->\n",
       "<g id=\"edge2\" class=\"edge\">\n",
       "<title>M&#45;&gt;Y</title>\n",
       "<path fill=\"none\" stroke=\"black\" d=\"M144.4,-18C151.89,-18 160.18,-18 168.2,-18\"/>\n",
       "<polygon fill=\"black\" stroke=\"black\" points=\"168.1,-21.5 178.1,-18 168.1,-14.5 168.1,-21.5\"/>\n",
       "</g>\n",
       "</g>\n",
       "</svg>\n"
      ],
      "text/plain": [
       "<graphviz.graphs.Digraph at 0x242348a0fd0>"
      ]
     },
     "execution_count": 7,
     "metadata": {},
     "output_type": "execute_result"
    }
   ],
   "source": [
    "g_chain = gr.Digraph(graph_attr={'rankdir':'LR'})\n",
    "\n",
    "g_chain.edge('T','M')\n",
    "g_chain.edge('M','Y')\n",
    "\n",
    "g_chain"
   ]
  },
  {
   "cell_type": "markdown",
   "metadata": {},
   "source": [
    "이 그래프에서 **인과관계는 화살표 방향으로 흐르지만, 상관관계는 쌍방으로 흐른다.** 구체적인 예시를 통해 이해해보자. 인과추론을 알게 되면($T$) 문제 해결력이 향상되고($M$), 문제 해결력을 향상시키면 승진할 가능성($Y$)이 높아진다고 해보자. 따라서 인과적 지식은 문제 해결력을 향상시키고, 이는 결국 승진의 원인이 된다. 여기서 승진은 인과추론 지식에 달려 있다고 말할 수 있고, 인과추론 전문성이 높을수록 승진할 가능성이 높아진다. 또한 승진 가능성이 높을수록 인과추론 지식이 많을 확률도 높아진다.  \n",
    "즉, 비록 인과관계가 한 방향으로만 존재하더라도 **승진이 인과추론 지식과 연관되는것과 마찬가지로 인과추론 지식도 승진과 연관된다.** 이렇게 두 변수가 서로 연관되면 '두 변수는 독립이 아니다'($T\\not\\perp Y$)라고 한다."
   ]
  },
  {
   "cell_type": "markdown",
   "metadata": {},
   "source": [
    "이제 매개자 $M$을 **고정**해본다. 이 예제에서는 $M$이 동일한 사람, 즉 예시에서 문제 해결력이 동일한 사람만 살펴본다. 이를 공식적으로는 $M$에 대한 조건부라고 한다. 이 경우 **종속성(dependency)이 차단(block)** 된다. 그래서 $M$이 주어졌을 때 $T$와 $Y$는 독립이다. 이를 수학적으로 다음과 같이 쓸 수 있다.\n",
    "$$\n",
    "T \\bot Y \\ |\\ M\n",
    "$$"
   ]
  },
  {
   "cell_type": "markdown",
   "metadata": {},
   "source": [
    "<div style=\"border: 2px solid rgb(233, 224, 222); padding: 10px; background-color: rgb(233, 224, 222); margin: 10px 0;\">\n",
    "    <strong style=\"font-weight: bold;\">● 변수 고정</strong><br>\n",
    "    그래프에서 변수를 고정하는 것은 특정 변수의 값을 일정하게 유지하면서 다른 변수들 간의 관계를 관측하는 것을 의미한다. 이 과정을 통해 해당 고정 변수의 영향을 통제하고, 다른 변수들 사이의 관계를 더 명확하게 이해할 수 있다. 고정하는 과정을 종종 <b>조건부로 설정</b>한다고 한다.\n",
    "</div>"
   ]
  },
  {
   "cell_type": "markdown",
   "metadata": {},
   "source": [
    "노드가 조건부로 주어진 경우는 다음과 같이 음영 처리한다."
   ]
  },
  {
   "cell_type": "code",
   "execution_count": 8,
   "metadata": {},
   "outputs": [
    {
     "data": {
      "image/svg+xml": [
       "<?xml version=\"1.0\" encoding=\"UTF-8\" standalone=\"no\"?>\n",
       "<!DOCTYPE svg PUBLIC \"-//W3C//DTD SVG 1.1//EN\"\n",
       " \"http://www.w3.org/Graphics/SVG/1.1/DTD/svg11.dtd\">\n",
       "<!-- Generated by graphviz version 12.2.1 (20241206.2353)\n",
       " -->\n",
       "<!-- Pages: 1 -->\n",
       "<svg width=\"242pt\" height=\"44pt\"\n",
       " viewBox=\"0.00 0.00 242.00 44.00\" xmlns=\"http://www.w3.org/2000/svg\" xmlns:xlink=\"http://www.w3.org/1999/xlink\">\n",
       "<g id=\"graph0\" class=\"graph\" transform=\"scale(1 1) rotate(0) translate(4 40)\">\n",
       "<polygon fill=\"white\" stroke=\"none\" points=\"-4,4 -4,-40 238,-40 238,4 -4,4\"/>\n",
       "<!-- T -->\n",
       "<g id=\"node1\" class=\"node\">\n",
       "<title>T</title>\n",
       "<ellipse fill=\"none\" stroke=\"black\" cx=\"27\" cy=\"-18\" rx=\"27\" ry=\"18\"/>\n",
       "<text text-anchor=\"middle\" x=\"27\" y=\"-12.95\" font-family=\"Times New Roman,serif\" font-size=\"14.00\">T</text>\n",
       "</g>\n",
       "<!-- M -->\n",
       "<g id=\"node2\" class=\"node\">\n",
       "<title>M</title>\n",
       "<ellipse fill=\"grey\" stroke=\"black\" cx=\"117\" cy=\"-18\" rx=\"27\" ry=\"18\"/>\n",
       "<text text-anchor=\"middle\" x=\"117\" y=\"-12.95\" font-family=\"Times New Roman,serif\" font-size=\"14.00\">M</text>\n",
       "</g>\n",
       "<!-- T&#45;&gt;M -->\n",
       "<g id=\"edge1\" class=\"edge\">\n",
       "<title>T&#45;&gt;M</title>\n",
       "<path fill=\"none\" stroke=\"black\" d=\"M54.4,-18C61.89,-18 70.18,-18 78.2,-18\"/>\n",
       "<polygon fill=\"black\" stroke=\"black\" points=\"78.1,-21.5 88.1,-18 78.1,-14.5 78.1,-21.5\"/>\n",
       "</g>\n",
       "<!-- Y -->\n",
       "<g id=\"node3\" class=\"node\">\n",
       "<title>Y</title>\n",
       "<ellipse fill=\"none\" stroke=\"black\" cx=\"207\" cy=\"-18\" rx=\"27\" ry=\"18\"/>\n",
       "<text text-anchor=\"middle\" x=\"207\" y=\"-12.95\" font-family=\"Times New Roman,serif\" font-size=\"14.00\">Y</text>\n",
       "</g>\n",
       "<!-- M&#45;&gt;Y -->\n",
       "<g id=\"edge2\" class=\"edge\">\n",
       "<title>M&#45;&gt;Y</title>\n",
       "<path fill=\"none\" stroke=\"black\" d=\"M144.4,-18C151.89,-18 160.18,-18 168.2,-18\"/>\n",
       "<polygon fill=\"black\" stroke=\"black\" points=\"168.1,-21.5 178.1,-18 168.1,-14.5 168.1,-21.5\"/>\n",
       "</g>\n",
       "</g>\n",
       "</svg>\n"
      ],
      "text/plain": [
       "<graphviz.graphs.Digraph at 0x24234373040>"
      ]
     },
     "execution_count": 8,
     "metadata": {},
     "output_type": "execute_result"
    }
   ],
   "source": [
    "g_chain = gr.Digraph(graph_attr={'rankdir':'LR'})\n",
    "\n",
    "g_chain.edge('T','M')\n",
    "g_chain.edge('M','Y')\n",
    "\n",
    "g_chain.node('M',style='filled',fillcolor = 'grey')\n",
    "\n",
    "g_chain"
   ]
  },
  {
   "cell_type": "code",
   "execution_count": 9,
   "metadata": {},
   "outputs": [
    {
     "data": {
      "image/svg+xml": [
       "<?xml version=\"1.0\" encoding=\"UTF-8\" standalone=\"no\"?>\n",
       "<!DOCTYPE svg PUBLIC \"-//W3C//DTD SVG 1.1//EN\"\n",
       " \"http://www.w3.org/Graphics/SVG/1.1/DTD/svg11.dtd\">\n",
       "<!-- Generated by graphviz version 12.2.1 (20241206.2353)\n",
       " -->\n",
       "<!-- Pages: 1 -->\n",
       "<svg width=\"471pt\" height=\"44pt\"\n",
       " viewBox=\"0.00 0.00 471.02 44.00\" xmlns=\"http://www.w3.org/2000/svg\" xmlns:xlink=\"http://www.w3.org/1999/xlink\">\n",
       "<g id=\"graph0\" class=\"graph\" transform=\"scale(1 1) rotate(0) translate(4 40)\">\n",
       "<polygon fill=\"white\" stroke=\"none\" points=\"-4,4 -4,-40 467.02,-40 467.02,4 -4,4\"/>\n",
       "<!-- Causal inference -->\n",
       "<g id=\"node1\" class=\"node\">\n",
       "<title>Causal inference</title>\n",
       "<ellipse fill=\"none\" stroke=\"black\" cx=\"72.85\" cy=\"-18\" rx=\"72.85\" ry=\"18\"/>\n",
       "<text text-anchor=\"middle\" x=\"72.85\" y=\"-12.95\" font-family=\"Times New Roman,serif\" font-size=\"14.00\">Causal inference</text>\n",
       "</g>\n",
       "<!-- Problem solving -->\n",
       "<g id=\"node2\" class=\"node\">\n",
       "<title>Problem solving</title>\n",
       "<ellipse fill=\"grey\" stroke=\"black\" cx=\"254.03\" cy=\"-18\" rx=\"72.34\" ry=\"18\"/>\n",
       "<text text-anchor=\"middle\" x=\"254.03\" y=\"-12.95\" font-family=\"Times New Roman,serif\" font-size=\"14.00\">Problem solving</text>\n",
       "</g>\n",
       "<!-- Causal inference&#45;&gt;Problem solving -->\n",
       "<g id=\"edge1\" class=\"edge\">\n",
       "<title>Causal inference&#45;&gt;Problem solving</title>\n",
       "<path fill=\"none\" stroke=\"black\" d=\"M145.95,-18C153.89,-18 162.01,-18 170.06,-18\"/>\n",
       "<polygon fill=\"black\" stroke=\"black\" points=\"169.85,-21.5 179.85,-18 169.85,-14.5 169.85,-21.5\"/>\n",
       "</g>\n",
       "<!-- Promotion -->\n",
       "<g id=\"node3\" class=\"node\">\n",
       "<title>Promotion</title>\n",
       "<ellipse fill=\"none\" stroke=\"black\" cx=\"412.69\" cy=\"-18\" rx=\"50.33\" ry=\"18\"/>\n",
       "<text text-anchor=\"middle\" x=\"412.69\" y=\"-12.95\" font-family=\"Times New Roman,serif\" font-size=\"14.00\">Promotion</text>\n",
       "</g>\n",
       "<!-- Problem solving&#45;&gt;Promotion -->\n",
       "<g id=\"edge2\" class=\"edge\">\n",
       "<title>Problem solving&#45;&gt;Promotion</title>\n",
       "<path fill=\"none\" stroke=\"black\" d=\"M326.49,-18C334.62,-18 342.85,-18 350.83,-18\"/>\n",
       "<polygon fill=\"black\" stroke=\"black\" points=\"350.78,-21.5 360.78,-18 350.78,-14.5 350.78,-21.5\"/>\n",
       "</g>\n",
       "</g>\n",
       "</svg>\n"
      ],
      "text/plain": [
       "<graphviz.graphs.Digraph at 0x242348a04f0>"
      ]
     },
     "execution_count": 9,
     "metadata": {},
     "output_type": "execute_result"
    }
   ],
   "source": [
    "g_promotion =gr.Digraph(graph_attr={'rankdir':'LR'})\n",
    "\n",
    "g_promotion.edge('Causal inference','Problem solving')\n",
    "g_promotion.edge('Problem solving','Promotion')\n",
    "\n",
    "g_promotion.node('Problem solving',style='filled',fillcolor='grey')\n",
    "\n",
    "g_promotion"
   ]
  },
  {
   "cell_type": "markdown",
   "metadata": {},
   "source": [
    "M에 대한 조건부란, 문제 해결력이 동일한 사람들을 살펴볼 때 어떤 사람이 인과추론에 능숙한지 아는 것만으로는 승진 가능성에 대한 추가 정보를 얻을 수 없다는 의미다. 수학적으로는 다음과 같다.\n",
    "$$\n",
    "E[Y\\ |\\ M,T] = E[Y\\ |\\ M]\n",
    "$$\n",
    "$$\n",
    "E[Promotion\\ |\\ Problem\\ solving\\ ability,Causal\\ inference\\ ability ]\\ = E[Promotion\\ |\\ Problem\\ solving\\ ability]\n",
    "$$\n",
    "그 반대도 마찬가지로, 어떤 사람의 문제 해결력을 알게 되면 직장 승진 상태를 알아도 인과추론 지식에 관한 추가 정보를 제공하지 않는다."
   ]
  },
  {
   "cell_type": "markdown",
   "metadata": {},
   "source": [
    "일반적으로, 앞서 그래프에서와 같은 사슬이 있을 때, 매개자 $M$을 조건부로 하면 $T$에서 $Y$로 흐르는 연관성은 차단된다.  \n",
    "$$\n",
    "T \\not\\perp Y\n",
    "$$\n",
    "하지만 $M$이 주어진 경우는 다음과 같다.\n",
    "$$\n",
    "T \\perp Y\\ |\\ M\n",
    "$$"
   ]
  },
  {
   "cell_type": "markdown",
   "metadata": {},
   "source": [
    "### 분기 구조 (Fork)"
   ]
  },
  {
   "cell_type": "markdown",
   "metadata": {},
   "source": [
    "다음으로 분기(fork) 구조를 살펴본다. 이 구조에는 **공통 원인**(common cause)이 존재한다. 같은 변수가 그래프 아래쪽 다른 변수의 원인이 된다. 분기 구조에서 연관성은 화살표의 반대 반향으로 흐른다."
   ]
  },
  {
   "cell_type": "code",
   "execution_count": 10,
   "metadata": {},
   "outputs": [
    {
     "data": {
      "image/svg+xml": [
       "<?xml version=\"1.0\" encoding=\"UTF-8\" standalone=\"no\"?>\n",
       "<!DOCTYPE svg PUBLIC \"-//W3C//DTD SVG 1.1//EN\"\n",
       " \"http://www.w3.org/Graphics/SVG/1.1/DTD/svg11.dtd\">\n",
       "<!-- Generated by graphviz version 12.2.1 (20241206.2353)\n",
       " -->\n",
       "<!-- Pages: 1 -->\n",
       "<svg width=\"134pt\" height=\"116pt\"\n",
       " viewBox=\"0.00 0.00 134.00 116.00\" xmlns=\"http://www.w3.org/2000/svg\" xmlns:xlink=\"http://www.w3.org/1999/xlink\">\n",
       "<g id=\"graph0\" class=\"graph\" transform=\"scale(1 1) rotate(0) translate(4 112)\">\n",
       "<polygon fill=\"white\" stroke=\"none\" points=\"-4,4 -4,-112 130,-112 130,4 -4,4\"/>\n",
       "<!-- X -->\n",
       "<g id=\"node1\" class=\"node\">\n",
       "<title>X</title>\n",
       "<ellipse fill=\"none\" stroke=\"black\" cx=\"63\" cy=\"-90\" rx=\"27\" ry=\"18\"/>\n",
       "<text text-anchor=\"middle\" x=\"63\" y=\"-84.95\" font-family=\"Times New Roman,serif\" font-size=\"14.00\">X</text>\n",
       "</g>\n",
       "<!-- Y -->\n",
       "<g id=\"node2\" class=\"node\">\n",
       "<title>Y</title>\n",
       "<ellipse fill=\"none\" stroke=\"black\" cx=\"27\" cy=\"-18\" rx=\"27\" ry=\"18\"/>\n",
       "<text text-anchor=\"middle\" x=\"27\" y=\"-12.95\" font-family=\"Times New Roman,serif\" font-size=\"14.00\">Y</text>\n",
       "</g>\n",
       "<!-- X&#45;&gt;Y -->\n",
       "<g id=\"edge1\" class=\"edge\">\n",
       "<title>X&#45;&gt;Y</title>\n",
       "<path fill=\"none\" stroke=\"black\" d=\"M54.65,-72.76C50.42,-64.55 45.19,-54.37 40.42,-45.09\"/>\n",
       "<polygon fill=\"black\" stroke=\"black\" points=\"43.68,-43.79 36,-36.49 37.46,-46.99 43.68,-43.79\"/>\n",
       "</g>\n",
       "<!-- T -->\n",
       "<g id=\"node3\" class=\"node\">\n",
       "<title>T</title>\n",
       "<ellipse fill=\"none\" stroke=\"black\" cx=\"99\" cy=\"-18\" rx=\"27\" ry=\"18\"/>\n",
       "<text text-anchor=\"middle\" x=\"99\" y=\"-12.95\" font-family=\"Times New Roman,serif\" font-size=\"14.00\">T</text>\n",
       "</g>\n",
       "<!-- X&#45;&gt;T -->\n",
       "<g id=\"edge2\" class=\"edge\">\n",
       "<title>X&#45;&gt;T</title>\n",
       "<path fill=\"none\" stroke=\"black\" d=\"M71.35,-72.76C75.58,-64.55 80.81,-54.37 85.58,-45.09\"/>\n",
       "<polygon fill=\"black\" stroke=\"black\" points=\"88.54,-46.99 90,-36.49 82.32,-43.79 88.54,-46.99\"/>\n",
       "</g>\n",
       "</g>\n",
       "</svg>\n"
      ],
      "text/plain": [
       "<graphviz.graphs.Digraph at 0x24236c7ae00>"
      ]
     },
     "execution_count": 10,
     "metadata": {},
     "output_type": "execute_result"
    }
   ],
   "source": [
    "g_fork = gr.Digraph()\n",
    "\n",
    "g_fork.edge('X','Y')\n",
    "g_fork.edge('X','T')\n",
    "\n",
    "g_fork"
   ]
  },
  {
   "cell_type": "markdown",
   "metadata": {},
   "source": [
    "예를 들어, 통계학($X$) 덕분에 인과추론($Y$)과 머신러닝($T$)에 관해 더 많이 알게 되었다고 해보자. 하지만 인과추론을 잘 알아도 머신러닝에 큰 도움이 되지는 않으며, 그 반대도 마찬가지이므로 두 변수 사이에는 화살표가 없다.  \n",
    "이 그래프는 인과추론이 머신러닝에 도움이 되지는 않지만, 누군가의 통계 지적수준을 모르더라도 인과추론을 잘 안다면 머신러닝도 능숙할 가능성이 높음을 알려준다. 만약 인과추론에 능숙하다면 통계를 잘 알 가능성이 높으므로 머신러닝도 잘 다룰 가능성이 높다.  \n",
    "분기 끝에 있는 변수들은 서로의 원인이 아니지만, 같은 원인으로 발생하므로 함께 움직인다. 인과추론에서는 **처치와 결과 사이에 공통 원인이 있을 때, 그 공통 원인을 교란 변수(confounder)라고 한다.**"
   ]
  },
  {
   "cell_type": "markdown",
   "metadata": {},
   "source": [
    "분기 구조는 인과추론에서 매우 중요하다. 다른 예시로 기술 채용 담당자들을 때때로 지원자들에게 이진 트리(binary tree)를 뒤집거나 파이썬에서 중복 요소를 세는 것과 같은 문제들을 해결하도록 요청한다. 채용 담당자들은 기본적으로 다음 그래프에서처럼 분기 구조를 통해 연관성이 흐른다는 사실을 활용한다."
   ]
  },
  {
   "cell_type": "code",
   "execution_count": 11,
   "metadata": {},
   "outputs": [
    {
     "data": {
      "image/svg+xml": [
       "<?xml version=\"1.0\" encoding=\"UTF-8\" standalone=\"no\"?>\n",
       "<!DOCTYPE svg PUBLIC \"-//W3C//DTD SVG 1.1//EN\"\n",
       " \"http://www.w3.org/Graphics/SVG/1.1/DTD/svg11.dtd\">\n",
       "<!-- Generated by graphviz version 12.2.1 (20241206.2353)\n",
       " -->\n",
       "<!-- Pages: 1 -->\n",
       "<svg width=\"394pt\" height=\"116pt\"\n",
       " viewBox=\"0.00 0.00 393.57 116.00\" xmlns=\"http://www.w3.org/2000/svg\" xmlns:xlink=\"http://www.w3.org/1999/xlink\">\n",
       "<g id=\"graph0\" class=\"graph\" transform=\"scale(1 1) rotate(0) translate(4 112)\">\n",
       "<polygon fill=\"white\" stroke=\"none\" points=\"-4,4 -4,-112 389.57,-112 389.57,4 -4,4\"/>\n",
       "<!-- Proficient programmer -->\n",
       "<g id=\"node1\" class=\"node\">\n",
       "<title>Proficient programmer</title>\n",
       "<ellipse fill=\"none\" stroke=\"black\" cx=\"214.28\" cy=\"-90\" rx=\"96.39\" ry=\"18\"/>\n",
       "<text text-anchor=\"middle\" x=\"214.28\" y=\"-84.95\" font-family=\"Times New Roman,serif\" font-size=\"14.00\">Proficient programmer</text>\n",
       "</g>\n",
       "<!-- Ability to invert binary tree -->\n",
       "<g id=\"node2\" class=\"node\">\n",
       "<title>Ability to invert binary tree</title>\n",
       "<ellipse fill=\"none\" stroke=\"black\" cx=\"113.28\" cy=\"-18\" rx=\"113.28\" ry=\"18\"/>\n",
       "<text text-anchor=\"middle\" x=\"113.28\" y=\"-12.95\" font-family=\"Times New Roman,serif\" font-size=\"14.00\">Ability to invert binary tree</text>\n",
       "</g>\n",
       "<!-- Proficient programmer&#45;&gt;Ability to invert binary tree -->\n",
       "<g id=\"edge1\" class=\"edge\">\n",
       "<title>Proficient programmer&#45;&gt;Ability to invert binary tree</title>\n",
       "<path fill=\"none\" stroke=\"black\" d=\"M190.09,-72.23C177.19,-63.29 161.12,-52.15 147.01,-42.38\"/>\n",
       "<polygon fill=\"black\" stroke=\"black\" points=\"149.08,-39.55 138.87,-36.73 145.09,-45.31 149.08,-39.55\"/>\n",
       "</g>\n",
       "<!-- Good employee -->\n",
       "<g id=\"node3\" class=\"node\">\n",
       "<title>Good employee</title>\n",
       "<ellipse fill=\"none\" stroke=\"black\" cx=\"315.28\" cy=\"-18\" rx=\"70.29\" ry=\"18\"/>\n",
       "<text text-anchor=\"middle\" x=\"315.28\" y=\"-12.95\" font-family=\"Times New Roman,serif\" font-size=\"14.00\">Good employee</text>\n",
       "</g>\n",
       "<!-- Proficient programmer&#45;&gt;Good employee -->\n",
       "<g id=\"edge2\" class=\"edge\">\n",
       "<title>Proficient programmer&#45;&gt;Good employee</title>\n",
       "<path fill=\"none\" stroke=\"black\" d=\"M238.47,-72.23C251.69,-63.08 268.23,-51.61 282.58,-41.66\"/>\n",
       "<polygon fill=\"black\" stroke=\"black\" points=\"284.16,-44.82 290.39,-36.25 280.18,-39.07 284.16,-44.82\"/>\n",
       "</g>\n",
       "</g>\n",
       "</svg>\n"
      ],
      "text/plain": [
       "<graphviz.graphs.Digraph at 0x24236c7a410>"
      ]
     },
     "execution_count": 11,
     "metadata": {},
     "output_type": "execute_result"
    }
   ],
   "source": [
    "g_employment = gr.Digraph()\n",
    "\n",
    "g_employment.edge('Proficient programmer','Ability to invert binary tree')\n",
    "g_employment.edge('Proficient programmer','Good employee')\n",
    "\n",
    "g_employment"
   ]
  },
  {
   "cell_type": "markdown",
   "metadata": {},
   "source": [
    "채용 담당자는 능력있는 프로그래머가 좋은 성과를 낸다는 사실을 안다. 하지만 면접을 볼 때까지는 지원자가 좋은 프로그래머인지 알 수 없다. 그래서 채용 담당자는 지원자들이 좋은 프로그래머라면 답변할 수 있을 만한 질문을 한다. 이 질문은 지원자가 실무에서 마주칠 문제와 관련이 없어도 된다. **이는 단지 좋은 프로그래머인지 아닌지를 나타내는 신호일 뿐이다.** 이 질문에 답하는 지원자는 아마도 좋은 프로그래머일 것이고, 이는 곧 좋은 직원이 될 가능성이 높음을 의미한다."
   ]
  },
  {
   "cell_type": "markdown",
   "metadata": {},
   "source": [
    "이제 채용 담당자가 지원자가 이미 좋은 프로그래머임을 안다고 해보자. 지원자가 이전 회사에서 일할 때 만났던 사람이거나 경력이 훌륭할 수도 있다. 이 경우, 지원자가 면접 질문에 대답할 수 있는지가 좋은 직원이 될 것인지에 관한 추가 정보를 제공하지 않는다. 즉, **좋은 프로그래머라는 정보가 조건부로 주어졌다면 질문에 대답하는 것과 좋은 직원이 되는 것은 독립이다.**"
   ]
  },
  {
   "cell_type": "markdown",
   "metadata": {},
   "source": [
    "일반적으로 분기 구조에서 공통 원인을 공유하는 두 변수는 종속이지만, 공통 원인이 주어지면 독립이다. $X$가 조건부로 주어지지 않는 경우, 다음과 같이 수식으로 표현할 수 있다.\n",
    "$$\n",
    "T \\not\\perp Y\n",
    "$$\n",
    "하지만 $X$가 주어진 경우는 다음과 같다.\n",
    "$$\n",
    "T \\perp Y\\ |\\ X\n",
    "$$"
   ]
  },
  {
   "cell_type": "markdown",
   "metadata": {},
   "source": [
    "### 충돌부 구조 (Collider)"
   ]
  },
  {
   "cell_type": "markdown",
   "metadata": {},
   "source": [
    "마지막으로 충돌부(collider) 구조를 살펴본다. 충돌부 구조는 두 노드가 하나의 자식(child)을 공유하지만, 그들 사이에 직접적인 관계가 없는 경우이다. 즉, 두 변수가 공통의 효과를 공유한다고 볼 수 있다. 이 공통 효과는 두 개의 화살표가 충돌하므로 **충돌부**라고 한다."
   ]
  },
  {
   "cell_type": "code",
   "execution_count": 12,
   "metadata": {},
   "outputs": [
    {
     "data": {
      "image/svg+xml": [
       "<?xml version=\"1.0\" encoding=\"UTF-8\" standalone=\"no\"?>\n",
       "<!DOCTYPE svg PUBLIC \"-//W3C//DTD SVG 1.1//EN\"\n",
       " \"http://www.w3.org/Graphics/SVG/1.1/DTD/svg11.dtd\">\n",
       "<!-- Generated by graphviz version 12.2.1 (20241206.2353)\n",
       " -->\n",
       "<!-- Pages: 1 -->\n",
       "<svg width=\"134pt\" height=\"116pt\"\n",
       " viewBox=\"0.00 0.00 134.00 116.00\" xmlns=\"http://www.w3.org/2000/svg\" xmlns:xlink=\"http://www.w3.org/1999/xlink\">\n",
       "<g id=\"graph0\" class=\"graph\" transform=\"scale(1 1) rotate(0) translate(4 112)\">\n",
       "<polygon fill=\"white\" stroke=\"none\" points=\"-4,4 -4,-112 130,-112 130,4 -4,4\"/>\n",
       "<!-- Y -->\n",
       "<g id=\"node1\" class=\"node\">\n",
       "<title>Y</title>\n",
       "<ellipse fill=\"none\" stroke=\"black\" cx=\"27\" cy=\"-90\" rx=\"27\" ry=\"18\"/>\n",
       "<text text-anchor=\"middle\" x=\"27\" y=\"-84.95\" font-family=\"Times New Roman,serif\" font-size=\"14.00\">Y</text>\n",
       "</g>\n",
       "<!-- X -->\n",
       "<g id=\"node2\" class=\"node\">\n",
       "<title>X</title>\n",
       "<ellipse fill=\"none\" stroke=\"black\" cx=\"63\" cy=\"-18\" rx=\"27\" ry=\"18\"/>\n",
       "<text text-anchor=\"middle\" x=\"63\" y=\"-12.95\" font-family=\"Times New Roman,serif\" font-size=\"14.00\">X</text>\n",
       "</g>\n",
       "<!-- Y&#45;&gt;X -->\n",
       "<g id=\"edge1\" class=\"edge\">\n",
       "<title>Y&#45;&gt;X</title>\n",
       "<path fill=\"none\" stroke=\"black\" d=\"M35.35,-72.76C39.58,-64.55 44.81,-54.37 49.58,-45.09\"/>\n",
       "<polygon fill=\"black\" stroke=\"black\" points=\"52.54,-46.99 54,-36.49 46.32,-43.79 52.54,-46.99\"/>\n",
       "</g>\n",
       "<!-- T -->\n",
       "<g id=\"node3\" class=\"node\">\n",
       "<title>T</title>\n",
       "<ellipse fill=\"none\" stroke=\"black\" cx=\"99\" cy=\"-90\" rx=\"27\" ry=\"18\"/>\n",
       "<text text-anchor=\"middle\" x=\"99\" y=\"-84.95\" font-family=\"Times New Roman,serif\" font-size=\"14.00\">T</text>\n",
       "</g>\n",
       "<!-- T&#45;&gt;X -->\n",
       "<g id=\"edge2\" class=\"edge\">\n",
       "<title>T&#45;&gt;X</title>\n",
       "<path fill=\"none\" stroke=\"black\" d=\"M90.65,-72.76C86.42,-64.55 81.19,-54.37 76.42,-45.09\"/>\n",
       "<polygon fill=\"black\" stroke=\"black\" points=\"79.68,-43.79 72,-36.49 73.46,-46.99 79.68,-43.79\"/>\n",
       "</g>\n",
       "</g>\n",
       "</svg>\n"
      ],
      "text/plain": [
       "<graphviz.graphs.Digraph at 0x24236c7a320>"
      ]
     },
     "execution_count": 12,
     "metadata": {},
     "output_type": "execute_result"
    }
   ],
   "source": [
    "g_collider = gr.Digraph()\n",
    "\n",
    "g_collider.edge('Y','X')\n",
    "g_collider.edge('T','X')\n",
    "\n",
    "g_collider"
   ]
  },
  {
   "cell_type": "markdown",
   "metadata": {},
   "source": [
    "충돌부 구조에서 두 부모(Parent) 노드는 서로 독립이다. 하지만 공통 효과를 조건부로 두면 서로 종속관계가 된다. 예를 들어, 승진($X$)하는 방법에 통계학을 잘 알거나($Y$), 상사에게 잘 아부하는 것($T$) 두 가지 방법이 있다고 생각해보자. 승진을 조건부로 하지 않는다면(승진 여부를 모른다면) 통계 지식수준과 아부는 독립이다. 즉, 통계에 얼마나 능숙한지를 아는 것은 상사에게 얼마나 아부를 잘하는지에 관해서는 아무것도 말해주지 않는다. 반면, 승진했다면 갑자기 통계 지식수준이 상사에게 아부하는 수준에 관해 말해준다. 통계를 잘 알지 못해도 승진을 했다면 상사에게 아부를 잘할 가능성이 높다. 이와 반대로 통계를 잘 안다면 통계 수준이 이미 승진을 설명해주므로 아부를 잘하지 못할 가능성이 크다(물론 현실에서는 둘 다 잘할 수도 있다).  \n",
    "이를 종종 **다른 요인에 의해 설명되는(explaining away) 현상**이라고도 한다."
   ]
  },
  {
   "cell_type": "markdown",
   "metadata": {},
   "source": [
    "일반적으로 충돌부에 조건부를 두면 연관 경로가 열리면서 부모 노드의 변수들은 종속관계가 생긴다. $X$를 조건부로 두지 않으면 경로가 닫힌 상태로 유지가 된다. 이를 다음과 같이 수식으로 표현할 수 있다.\n",
    "$$\n",
    "T \\perp Y\n",
    "$$\n",
    "$X$가 주어진 경우는 다음과 같다.\n",
    "$$\n",
    "T \\not\\perp Y\\ |\\ X\n",
    "$$"
   ]
  },
  {
   "cell_type": "markdown",
   "metadata": {},
   "source": [
    "중요한 것은, 충돌부에 대한 조건부 대신 충돌부의 효과에 조건부를 두어도 동일한 종속 경로(dependence path)를 열 수 있다는 점이다. 이제 앞선 예제에서 승진이 연봉을 크게 올린다는 가정을 추가로 해보자. 이를 그래프로 다음과 같이 표현할 수 있다."
   ]
  },
  {
   "cell_type": "code",
   "execution_count": 13,
   "metadata": {},
   "outputs": [
    {
     "data": {
      "image/svg+xml": [
       "<?xml version=\"1.0\" encoding=\"UTF-8\" standalone=\"no\"?>\n",
       "<!DOCTYPE svg PUBLIC \"-//W3C//DTD SVG 1.1//EN\"\n",
       " \"http://www.w3.org/Graphics/SVG/1.1/DTD/svg11.dtd\">\n",
       "<!-- Generated by graphviz version 12.2.1 (20241206.2353)\n",
       " -->\n",
       "<!-- Pages: 1 -->\n",
       "<svg width=\"134pt\" height=\"188pt\"\n",
       " viewBox=\"0.00 0.00 134.00 188.00\" xmlns=\"http://www.w3.org/2000/svg\" xmlns:xlink=\"http://www.w3.org/1999/xlink\">\n",
       "<g id=\"graph0\" class=\"graph\" transform=\"scale(1 1) rotate(0) translate(4 184)\">\n",
       "<polygon fill=\"white\" stroke=\"none\" points=\"-4,4 -4,-184 130,-184 130,4 -4,4\"/>\n",
       "<!-- Y -->\n",
       "<g id=\"node1\" class=\"node\">\n",
       "<title>Y</title>\n",
       "<ellipse fill=\"none\" stroke=\"black\" cx=\"27\" cy=\"-162\" rx=\"27\" ry=\"18\"/>\n",
       "<text text-anchor=\"middle\" x=\"27\" y=\"-156.95\" font-family=\"Times New Roman,serif\" font-size=\"14.00\">Y</text>\n",
       "</g>\n",
       "<!-- X1 -->\n",
       "<g id=\"node2\" class=\"node\">\n",
       "<title>X1</title>\n",
       "<ellipse fill=\"none\" stroke=\"black\" cx=\"63\" cy=\"-90\" rx=\"27\" ry=\"18\"/>\n",
       "<text text-anchor=\"middle\" x=\"63\" y=\"-84.95\" font-family=\"Times New Roman,serif\" font-size=\"14.00\">X1</text>\n",
       "</g>\n",
       "<!-- Y&#45;&gt;X1 -->\n",
       "<g id=\"edge1\" class=\"edge\">\n",
       "<title>Y&#45;&gt;X1</title>\n",
       "<path fill=\"none\" stroke=\"black\" d=\"M35.35,-144.76C39.58,-136.55 44.81,-126.37 49.58,-117.09\"/>\n",
       "<polygon fill=\"black\" stroke=\"black\" points=\"52.54,-118.99 54,-108.49 46.32,-115.79 52.54,-118.99\"/>\n",
       "</g>\n",
       "<!-- X2 -->\n",
       "<g id=\"node4\" class=\"node\">\n",
       "<title>X2</title>\n",
       "<ellipse fill=\"grey\" stroke=\"black\" cx=\"63\" cy=\"-18\" rx=\"27\" ry=\"18\"/>\n",
       "<text text-anchor=\"middle\" x=\"63\" y=\"-12.95\" font-family=\"Times New Roman,serif\" font-size=\"14.00\">X2</text>\n",
       "</g>\n",
       "<!-- X1&#45;&gt;X2 -->\n",
       "<g id=\"edge3\" class=\"edge\">\n",
       "<title>X1&#45;&gt;X2</title>\n",
       "<path fill=\"none\" stroke=\"black\" d=\"M63,-71.7C63,-64.41 63,-55.73 63,-47.54\"/>\n",
       "<polygon fill=\"black\" stroke=\"black\" points=\"66.5,-47.62 63,-37.62 59.5,-47.62 66.5,-47.62\"/>\n",
       "</g>\n",
       "<!-- T -->\n",
       "<g id=\"node3\" class=\"node\">\n",
       "<title>T</title>\n",
       "<ellipse fill=\"none\" stroke=\"black\" cx=\"99\" cy=\"-162\" rx=\"27\" ry=\"18\"/>\n",
       "<text text-anchor=\"middle\" x=\"99\" y=\"-156.95\" font-family=\"Times New Roman,serif\" font-size=\"14.00\">T</text>\n",
       "</g>\n",
       "<!-- T&#45;&gt;X1 -->\n",
       "<g id=\"edge2\" class=\"edge\">\n",
       "<title>T&#45;&gt;X1</title>\n",
       "<path fill=\"none\" stroke=\"black\" d=\"M90.65,-144.76C86.42,-136.55 81.19,-126.37 76.42,-117.09\"/>\n",
       "<polygon fill=\"black\" stroke=\"black\" points=\"79.68,-115.79 72,-108.49 73.46,-118.99 79.68,-115.79\"/>\n",
       "</g>\n",
       "</g>\n",
       "</svg>\n"
      ],
      "text/plain": [
       "<graphviz.graphs.Digraph at 0x24236c7ad70>"
      ]
     },
     "execution_count": 13,
     "metadata": {},
     "output_type": "execute_result"
    }
   ],
   "source": [
    "g_collider = gr.Digraph()\n",
    "\n",
    "g_collider.edge('Y','X1')\n",
    "g_collider.edge('T','X1')\n",
    "g_collider.edge('X1','X2')\n",
    "\n",
    "g_collider.node('X2',style='filled',fillcolor = 'grey')\n",
    "\n",
    "g_collider"
   ]
  },
  {
   "cell_type": "markdown",
   "metadata": {},
   "source": [
    "이 그래프에서 충돌부를 조건으로 두지 않고 해당 충돌부의 결과를 조건부로 해도, 충돌부 원인들은 종속이 된다. 즉, 승진 정보를 모르지만 거액 연봉 정보를 안다면, 통계 지식과 아부는 종속적인 관계가 된다."
   ]
  },
  {
   "cell_type": "code",
   "execution_count": 14,
   "metadata": {},
   "outputs": [
    {
     "data": {
      "image/svg+xml": [
       "<?xml version=\"1.0\" encoding=\"UTF-8\" standalone=\"no\"?>\n",
       "<!DOCTYPE svg PUBLIC \"-//W3C//DTD SVG 1.1//EN\"\n",
       " \"http://www.w3.org/Graphics/SVG/1.1/DTD/svg11.dtd\">\n",
       "<!-- Generated by graphviz version 12.2.1 (20241206.2353)\n",
       " -->\n",
       "<!-- Pages: 1 -->\n",
       "<svg width=\"186pt\" height=\"188pt\"\n",
       " viewBox=\"0.00 0.00 186.18 188.00\" xmlns=\"http://www.w3.org/2000/svg\" xmlns:xlink=\"http://www.w3.org/1999/xlink\">\n",
       "<g id=\"graph0\" class=\"graph\" transform=\"scale(1 1) rotate(0) translate(4 184)\">\n",
       "<polygon fill=\"white\" stroke=\"none\" points=\"-4,4 -4,-184 182.18,-184 182.18,4 -4,4\"/>\n",
       "<!-- Statistic -->\n",
       "<g id=\"node1\" class=\"node\">\n",
       "<title>Statistic</title>\n",
       "<ellipse fill=\"none\" stroke=\"black\" cx=\"40.6\" cy=\"-162\" rx=\"40.6\" ry=\"18\"/>\n",
       "<text text-anchor=\"middle\" x=\"40.6\" y=\"-156.95\" font-family=\"Times New Roman,serif\" font-size=\"14.00\">Statistic</text>\n",
       "</g>\n",
       "<!-- Promotion -->\n",
       "<g id=\"node2\" class=\"node\">\n",
       "<title>Promotion</title>\n",
       "<ellipse fill=\"none\" stroke=\"black\" cx=\"89.6\" cy=\"-90\" rx=\"50.33\" ry=\"18\"/>\n",
       "<text text-anchor=\"middle\" x=\"89.6\" y=\"-84.95\" font-family=\"Times New Roman,serif\" font-size=\"14.00\">Promotion</text>\n",
       "</g>\n",
       "<!-- Statistic&#45;&gt;Promotion -->\n",
       "<g id=\"edge1\" class=\"edge\">\n",
       "<title>Statistic&#45;&gt;Promotion</title>\n",
       "<path fill=\"none\" stroke=\"black\" d=\"M52.22,-144.41C57.87,-136.34 64.8,-126.43 71.16,-117.35\"/>\n",
       "<polygon fill=\"black\" stroke=\"black\" points=\"74,-119.4 76.87,-109.2 68.26,-115.38 74,-119.4\"/>\n",
       "</g>\n",
       "<!-- High salary -->\n",
       "<g id=\"node4\" class=\"node\">\n",
       "<title>High salary</title>\n",
       "<ellipse fill=\"grey\" stroke=\"black\" cx=\"89.6\" cy=\"-18\" rx=\"53.91\" ry=\"18\"/>\n",
       "<text text-anchor=\"middle\" x=\"89.6\" y=\"-12.95\" font-family=\"Times New Roman,serif\" font-size=\"14.00\">High salary</text>\n",
       "</g>\n",
       "<!-- Promotion&#45;&gt;High salary -->\n",
       "<g id=\"edge3\" class=\"edge\">\n",
       "<title>Promotion&#45;&gt;High salary</title>\n",
       "<path fill=\"none\" stroke=\"black\" d=\"M89.6,-71.7C89.6,-64.41 89.6,-55.73 89.6,-47.54\"/>\n",
       "<polygon fill=\"black\" stroke=\"black\" points=\"93.1,-47.62 89.6,-37.62 86.1,-47.62 93.1,-47.62\"/>\n",
       "</g>\n",
       "<!-- Flattery -->\n",
       "<g id=\"node3\" class=\"node\">\n",
       "<title>Flattery</title>\n",
       "<ellipse fill=\"none\" stroke=\"black\" cx=\"138.6\" cy=\"-162\" rx=\"39.58\" ry=\"18\"/>\n",
       "<text text-anchor=\"middle\" x=\"138.6\" y=\"-156.95\" font-family=\"Times New Roman,serif\" font-size=\"14.00\">Flattery</text>\n",
       "</g>\n",
       "<!-- Flattery&#45;&gt;Promotion -->\n",
       "<g id=\"edge2\" class=\"edge\">\n",
       "<title>Flattery&#45;&gt;Promotion</title>\n",
       "<path fill=\"none\" stroke=\"black\" d=\"M126.99,-144.41C121.34,-136.34 114.41,-126.43 108.05,-117.35\"/>\n",
       "<polygon fill=\"black\" stroke=\"black\" points=\"110.94,-115.38 102.34,-109.2 105.21,-119.4 110.94,-115.38\"/>\n",
       "</g>\n",
       "</g>\n",
       "</svg>\n"
      ],
      "text/plain": [
       "<graphviz.graphs.Digraph at 0x24236c7ada0>"
      ]
     },
     "execution_count": 14,
     "metadata": {},
     "output_type": "execute_result"
    }
   ],
   "source": [
    "g_collider = gr.Digraph()\n",
    "\n",
    "g_collider.edge('Statistic','Promotion')\n",
    "g_collider.edge('Flattery','Promotion')\n",
    "g_collider.edge('Promotion','High salary')\n",
    "\n",
    "g_collider.node('High salary',style='filled',fillcolor = 'grey')\n",
    "\n",
    "g_collider"
   ]
  },
  {
   "cell_type": "markdown",
   "metadata": {},
   "source": [
    "<div style=\"border: 2px solid rgb(233, 224, 222); padding: 10px; background-color: rgb(233, 224, 222); margin: 10px 0;\">\n",
    "    <strong style=\"font-weight: bold;\">● 충돌부 구조의 명칭</strong><br>\n",
    "    인과추론에서는 일반적으로 충돌부 구조를 영어로 collider 말고도 <b>Immorality</b>라고도 한다. 이는 부도덕성이라는 뜻을 가지며, 한 자식 노드가 서로 연관성이 없는 부모 노드를 갖는 구조이며 해당 구조가 마치 두 부모 노드 간에 '도덕적'인 관계가 결여된 것처럼 보인다는 점에서 유래되었다.\n",
    "</div>"
   ]
  },
  {
   "cell_type": "markdown",
   "metadata": {},
   "source": [
    "### 연관성 흐름 치트 시트"
   ]
  },
  {
   "cell_type": "markdown",
   "metadata": {},
   "source": [
    "앞서 배웠듯이, 세 가지 구조(사슬, 분기, 충돌부)를 알면 독립성과 연관성에 대한 흐름의 더 일반적인 규칙을 그래프로 도출할 수 있다. 경로는 다음과 같은 필요충분조건에 따라 차단될 수 있다.  \n",
    "1. 조건으로 주어진 비충돌부(non-collider) 구조가 포함됨  \n",
    "2. 조건부오 주어지지 않고 자식(descendant)이 없는 충돌부가 포함됨"
   ]
  },
  {
   "cell_type": "markdown",
   "metadata": {},
   "source": [
    "다음 그림은 어떻게 종속성(연관성)이 그래프에서 흐르는지 보여준다."
   ]
  },
  {
   "attachments": {
    "image.png": {
     "image/png": "[encoded data removed]"
    }
   },
   "cell_type": "markdown",
   "metadata": {},
   "source": [
    "<center>\n",
    "\n",
    "![image.png](attachment:image.png)\n",
    "\n",
    "</center>"
   ]
  },
  {
   "cell_type": "markdown",
   "metadata": {},
   "source": [
    "이러한 규칙이 잘 이해되지 않는다면, 기존 알고리즘을 활용해서 그래프 내 두 변수가 서로 종속인지 또는 독립인지 확인해볼 수 있다. 지금까지 배운 모든 내용을 종합한 마지막 예제를 살펴보고 어떻게 구현하는지 살펴본다."
   ]
  },
  {
   "cell_type": "markdown",
   "metadata": {},
   "source": [
    "### 파이썬에서 그래프 쿼리"
   ]
  },
  {
   "cell_type": "markdown",
   "metadata": {},
   "source": [
    "다음 그래프를 보면서 방금 배운 개념을 체득하는 연습을 한다."
   ]
  },
  {
   "cell_type": "code",
   "execution_count": 15,
   "metadata": {},
   "outputs": [
    {
     "data": {
      "image/svg+xml": [
       "<?xml version=\"1.0\" encoding=\"UTF-8\" standalone=\"no\"?>\n",
       "<!DOCTYPE svg PUBLIC \"-//W3C//DTD SVG 1.1//EN\"\n",
       " \"http://www.w3.org/Graphics/SVG/1.1/DTD/svg11.dtd\">\n",
       "<!-- Generated by graphviz version 12.2.1 (20241206.2353)\n",
       " -->\n",
       "<!-- Pages: 1 -->\n",
       "<svg width=\"242pt\" height=\"152pt\"\n",
       " viewBox=\"0.00 0.00 242.00 152.00\" xmlns=\"http://www.w3.org/2000/svg\" xmlns:xlink=\"http://www.w3.org/1999/xlink\">\n",
       "<g id=\"graph0\" class=\"graph\" transform=\"scale(1 1) rotate(0) translate(4 148)\">\n",
       "<polygon fill=\"white\" stroke=\"none\" points=\"-4,4 -4,-148 238,-148 238,4 -4,4\"/>\n",
       "<!-- D -->\n",
       "<g id=\"node1\" class=\"node\">\n",
       "<title>D</title>\n",
       "<ellipse fill=\"none\" stroke=\"black\" cx=\"27\" cy=\"-126\" rx=\"27\" ry=\"18\"/>\n",
       "<text text-anchor=\"middle\" x=\"27\" y=\"-120.95\" font-family=\"Times New Roman,serif\" font-size=\"14.00\">D</text>\n",
       "</g>\n",
       "<!-- A -->\n",
       "<g id=\"node2\" class=\"node\">\n",
       "<title>A</title>\n",
       "<ellipse fill=\"none\" stroke=\"black\" cx=\"117\" cy=\"-126\" rx=\"27\" ry=\"18\"/>\n",
       "<text text-anchor=\"middle\" x=\"117\" y=\"-120.95\" font-family=\"Times New Roman,serif\" font-size=\"14.00\">A</text>\n",
       "</g>\n",
       "<!-- D&#45;&gt;A -->\n",
       "<g id=\"edge1\" class=\"edge\">\n",
       "<title>D&#45;&gt;A</title>\n",
       "<path fill=\"none\" stroke=\"black\" d=\"M54.4,-126C61.89,-126 70.18,-126 78.2,-126\"/>\n",
       "<polygon fill=\"black\" stroke=\"black\" points=\"78.1,-129.5 88.1,-126 78.1,-122.5 78.1,-129.5\"/>\n",
       "</g>\n",
       "<!-- G -->\n",
       "<g id=\"node3\" class=\"node\">\n",
       "<title>G</title>\n",
       "<ellipse fill=\"none\" stroke=\"black\" cx=\"207\" cy=\"-126\" rx=\"27\" ry=\"18\"/>\n",
       "<text text-anchor=\"middle\" x=\"207\" y=\"-120.95\" font-family=\"Times New Roman,serif\" font-size=\"14.00\">G</text>\n",
       "</g>\n",
       "<!-- A&#45;&gt;G -->\n",
       "<g id=\"edge2\" class=\"edge\">\n",
       "<title>A&#45;&gt;G</title>\n",
       "<path fill=\"none\" stroke=\"black\" d=\"M144.4,-126C151.89,-126 160.18,-126 168.2,-126\"/>\n",
       "<polygon fill=\"black\" stroke=\"black\" points=\"168.1,-129.5 178.1,-126 168.1,-122.5 168.1,-129.5\"/>\n",
       "</g>\n",
       "<!-- C -->\n",
       "<g id=\"node4\" class=\"node\">\n",
       "<title>C</title>\n",
       "<ellipse fill=\"none\" stroke=\"black\" cx=\"27\" cy=\"-72\" rx=\"27\" ry=\"18\"/>\n",
       "<text text-anchor=\"middle\" x=\"27\" y=\"-66.95\" font-family=\"Times New Roman,serif\" font-size=\"14.00\">C</text>\n",
       "</g>\n",
       "<!-- C&#45;&gt;A -->\n",
       "<g id=\"edge3\" class=\"edge\">\n",
       "<title>C&#45;&gt;A</title>\n",
       "<path fill=\"none\" stroke=\"black\" d=\"M47.53,-83.98C59.15,-91.12 74.11,-100.3 87.08,-108.25\"/>\n",
       "<polygon fill=\"black\" stroke=\"black\" points=\"84.88,-111.01 95.23,-113.26 88.54,-105.04 84.88,-111.01\"/>\n",
       "</g>\n",
       "<!-- B -->\n",
       "<g id=\"node5\" class=\"node\">\n",
       "<title>B</title>\n",
       "<ellipse fill=\"none\" stroke=\"black\" cx=\"117\" cy=\"-72\" rx=\"27\" ry=\"18\"/>\n",
       "<text text-anchor=\"middle\" x=\"117\" y=\"-66.95\" font-family=\"Times New Roman,serif\" font-size=\"14.00\">B</text>\n",
       "</g>\n",
       "<!-- C&#45;&gt;B -->\n",
       "<g id=\"edge4\" class=\"edge\">\n",
       "<title>C&#45;&gt;B</title>\n",
       "<path fill=\"none\" stroke=\"black\" d=\"M54.4,-72C61.89,-72 70.18,-72 78.2,-72\"/>\n",
       "<polygon fill=\"black\" stroke=\"black\" points=\"78.1,-75.5 88.1,-72 78.1,-68.5 78.1,-75.5\"/>\n",
       "</g>\n",
       "<!-- E -->\n",
       "<g id=\"node6\" class=\"node\">\n",
       "<title>E</title>\n",
       "<ellipse fill=\"none\" stroke=\"black\" cx=\"207\" cy=\"-45\" rx=\"27\" ry=\"18\"/>\n",
       "<text text-anchor=\"middle\" x=\"207\" y=\"-39.95\" font-family=\"Times New Roman,serif\" font-size=\"14.00\">E</text>\n",
       "</g>\n",
       "<!-- B&#45;&gt;E -->\n",
       "<g id=\"edge5\" class=\"edge\">\n",
       "<title>B&#45;&gt;E</title>\n",
       "<path fill=\"none\" stroke=\"black\" d=\"M142.05,-64.62C150.97,-61.88 161.29,-58.72 170.99,-55.74\"/>\n",
       "<polygon fill=\"black\" stroke=\"black\" points=\"172,-59.09 180.54,-52.81 169.95,-52.4 172,-59.09\"/>\n",
       "</g>\n",
       "<!-- F -->\n",
       "<g id=\"node7\" class=\"node\">\n",
       "<title>F</title>\n",
       "<ellipse fill=\"none\" stroke=\"black\" cx=\"117\" cy=\"-18\" rx=\"27\" ry=\"18\"/>\n",
       "<text text-anchor=\"middle\" x=\"117\" y=\"-12.95\" font-family=\"Times New Roman,serif\" font-size=\"14.00\">F</text>\n",
       "</g>\n",
       "<!-- F&#45;&gt;E -->\n",
       "<g id=\"edge6\" class=\"edge\">\n",
       "<title>F&#45;&gt;E</title>\n",
       "<path fill=\"none\" stroke=\"black\" d=\"M142.05,-25.38C150.97,-28.12 161.29,-31.28 170.99,-34.26\"/>\n",
       "<polygon fill=\"black\" stroke=\"black\" points=\"169.95,-37.6 180.54,-37.19 172,-30.91 169.95,-37.6\"/>\n",
       "</g>\n",
       "</g>\n",
       "</svg>\n"
      ],
      "text/plain": [
       "<graphviz.graphs.Digraph at 0x242348a06d0>"
      ]
     },
     "execution_count": 15,
     "metadata": {},
     "output_type": "execute_result"
    }
   ],
   "source": [
    "g_graph = gr.Digraph(graph_attr={'rankdir':'LR'})\n",
    "\n",
    "g_graph.edge('D','A')\n",
    "g_graph.edge('A','G')\n",
    "\n",
    "g_graph.edge('C','A')\n",
    "g_graph.edge('C','B')\n",
    "\n",
    "g_graph.edge('B','E')\n",
    "g_graph.edge('F','E')\n",
    "\n",
    "g_graph"
   ]
  },
  {
   "cell_type": "markdown",
   "metadata": {},
   "source": [
    "- 1. D와 C는 종속인가?  \n",
    "- 2. A가 주어진 경우, D와 C는 종속인가?  \n",
    "- 3. G가 주어진 경우, D와 C는 종속인가?  \n",
    "- 4. D와 G는 종속인가?\n",
    "- 5. A가 주어진 경우 D와 G는 종속인가?\n",
    "- 6. A와 B는 종속인가?  \n",
    "- 7. C가 주어진 경우, A와 B는 종속인가?  \n",
    "- 8. G와 F는 종속인가?  \n",
    "- 9. E가 주어진 경우, G와 F는 종속인가? "
   ]
  },
  {
   "cell_type": "markdown",
   "metadata": {},
   "source": [
    "그래프를 `networkx` 라이브러리의 `Digraph` 함수에 넣어서 정답을 확인할 수 있다. `networkx`는 그래프 모델을 다루는 라이브러리로, 그래프에 도움이 되는 여러 가지 유용한 알고리즘을 제공한다."
   ]
  },
  {
   "cell_type": "code",
   "execution_count": 16,
   "metadata": {},
   "outputs": [],
   "source": [
    "import networkx as nx\n",
    "\n",
    "model = nx.DiGraph([\n",
    "    ('C','A'),\n",
    "    ('C','B'),\n",
    "    ('D','A'),\n",
    "    ('B','E'),\n",
    "    ('F','E'),\n",
    "    ('A','G'),\n",
    "])"
   ]
  },
  {
   "cell_type": "markdown",
   "metadata": {},
   "source": [
    "이제부터 위의 질문들에 대해 알아보자."
   ]
  },
  {
   "cell_type": "markdown",
   "metadata": {},
   "source": [
    "#### 1.D와 C는 종속인가?  \n",
    "#### 2.A가 주어진 경우, D와 C는 종속인가?  \n",
    "#### 3.G가 주어진 경우, D와 C는 종속인가?"
   ]
  },
  {
   "cell_type": "code",
   "execution_count": 17,
   "metadata": {},
   "outputs": [
    {
     "data": {
      "image/svg+xml": [
       "<?xml version=\"1.0\" encoding=\"UTF-8\" standalone=\"no\"?>\n",
       "<!DOCTYPE svg PUBLIC \"-//W3C//DTD SVG 1.1//EN\"\n",
       " \"http://www.w3.org/Graphics/SVG/1.1/DTD/svg11.dtd\">\n",
       "<!-- Generated by graphviz version 12.2.1 (20241206.2353)\n",
       " -->\n",
       "<!-- Pages: 1 -->\n",
       "<svg width=\"242pt\" height=\"98pt\"\n",
       " viewBox=\"0.00 0.00 242.00 98.00\" xmlns=\"http://www.w3.org/2000/svg\" xmlns:xlink=\"http://www.w3.org/1999/xlink\">\n",
       "<g id=\"graph0\" class=\"graph\" transform=\"scale(1 1) rotate(0) translate(4 94)\">\n",
       "<polygon fill=\"white\" stroke=\"none\" points=\"-4,4 -4,-94 238,-94 238,4 -4,4\"/>\n",
       "<!-- D -->\n",
       "<g id=\"node1\" class=\"node\">\n",
       "<title>D</title>\n",
       "<ellipse fill=\"none\" stroke=\"black\" cx=\"27\" cy=\"-72\" rx=\"27\" ry=\"18\"/>\n",
       "<text text-anchor=\"middle\" x=\"27\" y=\"-66.95\" font-family=\"Times New Roman,serif\" font-size=\"14.00\">D</text>\n",
       "</g>\n",
       "<!-- A -->\n",
       "<g id=\"node2\" class=\"node\">\n",
       "<title>A</title>\n",
       "<ellipse fill=\"none\" stroke=\"black\" cx=\"117\" cy=\"-45\" rx=\"27\" ry=\"18\"/>\n",
       "<text text-anchor=\"middle\" x=\"117\" y=\"-39.95\" font-family=\"Times New Roman,serif\" font-size=\"14.00\">A</text>\n",
       "</g>\n",
       "<!-- D&#45;&gt;A -->\n",
       "<g id=\"edge1\" class=\"edge\">\n",
       "<title>D&#45;&gt;A</title>\n",
       "<path fill=\"none\" stroke=\"black\" d=\"M52.05,-64.62C60.97,-61.88 71.29,-58.72 80.99,-55.74\"/>\n",
       "<polygon fill=\"black\" stroke=\"black\" points=\"82,-59.09 90.54,-52.81 79.95,-52.4 82,-59.09\"/>\n",
       "</g>\n",
       "<!-- G -->\n",
       "<g id=\"node4\" class=\"node\">\n",
       "<title>G</title>\n",
       "<ellipse fill=\"none\" stroke=\"black\" cx=\"207\" cy=\"-45\" rx=\"27\" ry=\"18\"/>\n",
       "<text text-anchor=\"middle\" x=\"207\" y=\"-39.95\" font-family=\"Times New Roman,serif\" font-size=\"14.00\">G</text>\n",
       "</g>\n",
       "<!-- A&#45;&gt;G -->\n",
       "<g id=\"edge3\" class=\"edge\">\n",
       "<title>A&#45;&gt;G</title>\n",
       "<path fill=\"none\" stroke=\"black\" d=\"M144.4,-45C151.89,-45 160.18,-45 168.2,-45\"/>\n",
       "<polygon fill=\"black\" stroke=\"black\" points=\"168.1,-48.5 178.1,-45 168.1,-41.5 168.1,-48.5\"/>\n",
       "</g>\n",
       "<!-- C -->\n",
       "<g id=\"node3\" class=\"node\">\n",
       "<title>C</title>\n",
       "<ellipse fill=\"none\" stroke=\"black\" cx=\"27\" cy=\"-18\" rx=\"27\" ry=\"18\"/>\n",
       "<text text-anchor=\"middle\" x=\"27\" y=\"-12.95\" font-family=\"Times New Roman,serif\" font-size=\"14.00\">C</text>\n",
       "</g>\n",
       "<!-- C&#45;&gt;A -->\n",
       "<g id=\"edge2\" class=\"edge\">\n",
       "<title>C&#45;&gt;A</title>\n",
       "<path fill=\"none\" stroke=\"black\" d=\"M52.05,-25.38C60.97,-28.12 71.29,-31.28 80.99,-34.26\"/>\n",
       "<polygon fill=\"black\" stroke=\"black\" points=\"79.95,-37.6 90.54,-37.19 82,-30.91 79.95,-37.6\"/>\n",
       "</g>\n",
       "</g>\n",
       "</svg>\n"
      ],
      "text/plain": [
       "<graphviz.graphs.Digraph at 0x242348a1270>"
      ]
     },
     "execution_count": 17,
     "metadata": {},
     "output_type": "execute_result"
    }
   ],
   "source": [
    "g_collider_ex = gr.Digraph(graph_attr={'rankdir':'LR'})\n",
    "\n",
    "g_collider_ex.edge('D','A')\n",
    "g_collider_ex.edge('C','A')\n",
    "\n",
    "g_collider_ex.edge('A','G')\n",
    "\n",
    "g_collider_ex"
   ]
  },
  {
   "cell_type": "markdown",
   "metadata": {},
   "source": [
    "이들은 아까 살펴본 **충돌부 구조**를 형성하며, A가 충돌부이다. 충돌부 구조의 독립성 규칙에 따라 D와 C는 독립임을 알 수 있다. 또한 충돌부 A가 조건부로 주어졌다면 두 변수 사이에 연관성이 흐르기 시작한다는 것도 알 수 있다. `d_seperated` 메서드는 그래프에서 두 변수 간의 연관성 여부를 알려준다(d-seperation은 그래프에서 두 변수 간의 독립성을 표현하는 또 다른 용어이다). 변수를 조건부로 두려면 해당 변수를 관측된 집합에 추가하면 된다. 예를 들어, A가 주어졌을 때 D와 C가 종속인지 확인하려면 `d_seperated`에서 네 번째 인수에 `z={'A'}`를 전달한다."
   ]
  },
  {
   "cell_type": "code",
   "execution_count": 18,
   "metadata": {},
   "outputs": [
    {
     "name": "stdout",
     "output_type": "stream",
     "text": [
      "Are D and C dependent?\n",
      "False\n",
      "Are D and C dependent when A is given?\n",
      "True\n",
      "Are D and C dependent when G is given?\n",
      "True\n"
     ]
    }
   ],
   "source": [
    "print('Are D and C dependent?')\n",
    "print(not(nx.d_separated(model,{'D'},{'C'},{})))\n",
    "\n",
    "print('Are D and C dependent when A is given?')\n",
    "print(not(nx.d_separated(model,{'D'},{'C'},{'A'})))\n",
    "\n",
    "print('Are D and C dependent when G is given?')\n",
    "print(not(nx.d_separated(model,{'D'},{'C'},{'G'})))\n"
   ]
  },
  {
   "cell_type": "markdown",
   "metadata": {},
   "source": [
    "#### 4.D와 G는 종속인가?  \n",
    "#### 5.A가 주어진 경우 D와 G는 종속인가?"
   ]
  },
  {
   "cell_type": "markdown",
   "metadata": {},
   "source": [
    "변수 D,A,G가 **사슬 구조**를 형성하는 것을 주목하자. 연관성은 연쇄적으로 흐르므로 D는 G와 독립적이지 않다. 그러나 매개자 A를 조건으로 두면 연관성 경로는 차단된다."
   ]
  },
  {
   "cell_type": "code",
   "execution_count": 19,
   "metadata": {},
   "outputs": [
    {
     "data": {
      "image/svg+xml": [
       "<?xml version=\"1.0\" encoding=\"UTF-8\" standalone=\"no\"?>\n",
       "<!DOCTYPE svg PUBLIC \"-//W3C//DTD SVG 1.1//EN\"\n",
       " \"http://www.w3.org/Graphics/SVG/1.1/DTD/svg11.dtd\">\n",
       "<!-- Generated by graphviz version 12.2.1 (20241206.2353)\n",
       " -->\n",
       "<!-- Pages: 1 -->\n",
       "<svg width=\"242pt\" height=\"44pt\"\n",
       " viewBox=\"0.00 0.00 242.00 44.00\" xmlns=\"http://www.w3.org/2000/svg\" xmlns:xlink=\"http://www.w3.org/1999/xlink\">\n",
       "<g id=\"graph0\" class=\"graph\" transform=\"scale(1 1) rotate(0) translate(4 40)\">\n",
       "<polygon fill=\"white\" stroke=\"none\" points=\"-4,4 -4,-40 238,-40 238,4 -4,4\"/>\n",
       "<!-- D -->\n",
       "<g id=\"node1\" class=\"node\">\n",
       "<title>D</title>\n",
       "<ellipse fill=\"none\" stroke=\"black\" cx=\"27\" cy=\"-18\" rx=\"27\" ry=\"18\"/>\n",
       "<text text-anchor=\"middle\" x=\"27\" y=\"-12.95\" font-family=\"Times New Roman,serif\" font-size=\"14.00\">D</text>\n",
       "</g>\n",
       "<!-- A -->\n",
       "<g id=\"node2\" class=\"node\">\n",
       "<title>A</title>\n",
       "<ellipse fill=\"none\" stroke=\"black\" cx=\"117\" cy=\"-18\" rx=\"27\" ry=\"18\"/>\n",
       "<text text-anchor=\"middle\" x=\"117\" y=\"-12.95\" font-family=\"Times New Roman,serif\" font-size=\"14.00\">A</text>\n",
       "</g>\n",
       "<!-- D&#45;&gt;A -->\n",
       "<g id=\"edge1\" class=\"edge\">\n",
       "<title>D&#45;&gt;A</title>\n",
       "<path fill=\"none\" stroke=\"black\" d=\"M54.4,-18C61.89,-18 70.18,-18 78.2,-18\"/>\n",
       "<polygon fill=\"black\" stroke=\"black\" points=\"78.1,-21.5 88.1,-18 78.1,-14.5 78.1,-21.5\"/>\n",
       "</g>\n",
       "<!-- G -->\n",
       "<g id=\"node3\" class=\"node\">\n",
       "<title>G</title>\n",
       "<ellipse fill=\"none\" stroke=\"black\" cx=\"207\" cy=\"-18\" rx=\"27\" ry=\"18\"/>\n",
       "<text text-anchor=\"middle\" x=\"207\" y=\"-12.95\" font-family=\"Times New Roman,serif\" font-size=\"14.00\">G</text>\n",
       "</g>\n",
       "<!-- A&#45;&gt;G -->\n",
       "<g id=\"edge2\" class=\"edge\">\n",
       "<title>A&#45;&gt;G</title>\n",
       "<path fill=\"none\" stroke=\"black\" d=\"M144.4,-18C151.89,-18 160.18,-18 168.2,-18\"/>\n",
       "<polygon fill=\"black\" stroke=\"black\" points=\"168.1,-21.5 178.1,-18 168.1,-14.5 168.1,-21.5\"/>\n",
       "</g>\n",
       "</g>\n",
       "</svg>\n"
      ],
      "text/plain": [
       "<graphviz.graphs.Digraph at 0x242348a1300>"
      ]
     },
     "execution_count": 19,
     "metadata": {},
     "output_type": "execute_result"
    }
   ],
   "source": [
    "g_chain_ex = gr.Digraph(graph_attr={'rankdir':'LR'})\n",
    "\n",
    "g_chain_ex.edge('D','A')\n",
    "g_chain_ex.edge('A','G')\n",
    "\n",
    "g_chain_ex"
   ]
  },
  {
   "cell_type": "code",
   "execution_count": 20,
   "metadata": {},
   "outputs": [
    {
     "name": "stdout",
     "output_type": "stream",
     "text": [
      "Are G and D dependent?\n",
      "True\n",
      "Are G and D dependent when A is given?\n",
      "False\n"
     ]
    }
   ],
   "source": [
    "print('Are G and D dependent?')\n",
    "print(not(nx.d_separated(model,{'G'},{'D'},{})))\n",
    "\n",
    "print('Are G and D dependent when A is given?')\n",
    "print(not(nx.d_separated(model,{'G'},{'D'},{'A'})))"
   ]
  },
  {
   "cell_type": "markdown",
   "metadata": {},
   "source": [
    "#### 6.A와 B는 종속인가?  \n",
    "#### 7.C가 주어진 경우, A와 B는 종속인가?"
   ]
  },
  {
   "cell_type": "markdown",
   "metadata": {},
   "source": [
    "A,B,C는 **분기 구조**를 형성하며,C는 A와 B의 공통 원인이다. 분기를 통해 연관성이 흐름을 알기 때문에 A와 B는 독립이 아니다. 그러나 공통 원인을 조건으로 둔다면 연관성 경로는 차단된다."
   ]
  },
  {
   "cell_type": "code",
   "execution_count": 21,
   "metadata": {},
   "outputs": [
    {
     "data": {
      "image/svg+xml": [
       "<?xml version=\"1.0\" encoding=\"UTF-8\" standalone=\"no\"?>\n",
       "<!DOCTYPE svg PUBLIC \"-//W3C//DTD SVG 1.1//EN\"\n",
       " \"http://www.w3.org/Graphics/SVG/1.1/DTD/svg11.dtd\">\n",
       "<!-- Generated by graphviz version 12.2.1 (20241206.2353)\n",
       " -->\n",
       "<!-- Pages: 1 -->\n",
       "<svg width=\"134pt\" height=\"116pt\"\n",
       " viewBox=\"0.00 0.00 134.00 116.00\" xmlns=\"http://www.w3.org/2000/svg\" xmlns:xlink=\"http://www.w3.org/1999/xlink\">\n",
       "<g id=\"graph0\" class=\"graph\" transform=\"scale(1 1) rotate(0) translate(4 112)\">\n",
       "<polygon fill=\"white\" stroke=\"none\" points=\"-4,4 -4,-112 130,-112 130,4 -4,4\"/>\n",
       "<!-- C -->\n",
       "<g id=\"node1\" class=\"node\">\n",
       "<title>C</title>\n",
       "<ellipse fill=\"none\" stroke=\"black\" cx=\"63\" cy=\"-90\" rx=\"27\" ry=\"18\"/>\n",
       "<text text-anchor=\"middle\" x=\"63\" y=\"-84.95\" font-family=\"Times New Roman,serif\" font-size=\"14.00\">C</text>\n",
       "</g>\n",
       "<!-- A -->\n",
       "<g id=\"node2\" class=\"node\">\n",
       "<title>A</title>\n",
       "<ellipse fill=\"none\" stroke=\"black\" cx=\"27\" cy=\"-18\" rx=\"27\" ry=\"18\"/>\n",
       "<text text-anchor=\"middle\" x=\"27\" y=\"-12.95\" font-family=\"Times New Roman,serif\" font-size=\"14.00\">A</text>\n",
       "</g>\n",
       "<!-- C&#45;&gt;A -->\n",
       "<g id=\"edge1\" class=\"edge\">\n",
       "<title>C&#45;&gt;A</title>\n",
       "<path fill=\"none\" stroke=\"black\" d=\"M54.65,-72.76C50.42,-64.55 45.19,-54.37 40.42,-45.09\"/>\n",
       "<polygon fill=\"black\" stroke=\"black\" points=\"43.68,-43.79 36,-36.49 37.46,-46.99 43.68,-43.79\"/>\n",
       "</g>\n",
       "<!-- B -->\n",
       "<g id=\"node3\" class=\"node\">\n",
       "<title>B</title>\n",
       "<ellipse fill=\"none\" stroke=\"black\" cx=\"99\" cy=\"-18\" rx=\"27\" ry=\"18\"/>\n",
       "<text text-anchor=\"middle\" x=\"99\" y=\"-12.95\" font-family=\"Times New Roman,serif\" font-size=\"14.00\">B</text>\n",
       "</g>\n",
       "<!-- C&#45;&gt;B -->\n",
       "<g id=\"edge2\" class=\"edge\">\n",
       "<title>C&#45;&gt;B</title>\n",
       "<path fill=\"none\" stroke=\"black\" d=\"M71.35,-72.76C75.58,-64.55 80.81,-54.37 85.58,-45.09\"/>\n",
       "<polygon fill=\"black\" stroke=\"black\" points=\"88.54,-46.99 90,-36.49 82.32,-43.79 88.54,-46.99\"/>\n",
       "</g>\n",
       "</g>\n",
       "</svg>\n"
      ],
      "text/plain": [
       "<graphviz.graphs.Digraph at 0x242370f2650>"
      ]
     },
     "execution_count": 21,
     "metadata": {},
     "output_type": "execute_result"
    }
   ],
   "source": [
    "g_fork_ex = gr.Digraph()\n",
    "\n",
    "g_fork_ex.edge('C','A')\n",
    "g_fork_ex.edge('C','B')\n",
    "\n",
    "g_fork_ex"
   ]
  },
  {
   "cell_type": "code",
   "execution_count": 22,
   "metadata": {},
   "outputs": [
    {
     "name": "stdout",
     "output_type": "stream",
     "text": [
      "Are A and B dependent?\n",
      "True\n",
      "Are A and B dependent when C is given?\n",
      "False\n"
     ]
    }
   ],
   "source": [
    "print('Are A and B dependent?')\n",
    "print(not(nx.d_separated(model,{'A'},{'B'},{})))\n",
    "\n",
    "print('Are A and B dependent when C is given?')\n",
    "print(not(nx.d_separated(model,{'A'},{'B'},{'C'})))"
   ]
  },
  {
   "cell_type": "markdown",
   "metadata": {},
   "source": [
    "#### 8. G와 F는 종속인가?  \n",
    "#### 9. E가 주어진 경우, G와 F는 종속인가? "
   ]
  },
  {
   "cell_type": "markdown",
   "metadata": {},
   "source": [
    "마지막으로 모든 것을 종합하여 G와 F에 대한 질문을 살펴본다. G부터 보면, G와 E는 C로부터 **분기하는 구조**이므로, 연관성이 흐르는 것을 알 수 있다. 그러나 연관성은 **충돌부** E에서 멈추며, 이는 G와 F가 독립임을 알 수 있다."
   ]
  },
  {
   "cell_type": "code",
   "execution_count": 23,
   "metadata": {},
   "outputs": [
    {
     "data": {
      "image/svg+xml": [
       "<?xml version=\"1.0\" encoding=\"UTF-8\" standalone=\"no\"?>\n",
       "<!DOCTYPE svg PUBLIC \"-//W3C//DTD SVG 1.1//EN\"\n",
       " \"http://www.w3.org/Graphics/SVG/1.1/DTD/svg11.dtd\">\n",
       "<!-- Generated by graphviz version 12.2.1 (20241206.2353)\n",
       " -->\n",
       "<!-- Pages: 1 -->\n",
       "<svg width=\"206pt\" height=\"188pt\"\n",
       " viewBox=\"0.00 0.00 206.00 188.00\" xmlns=\"http://www.w3.org/2000/svg\" xmlns:xlink=\"http://www.w3.org/1999/xlink\">\n",
       "<g id=\"graph0\" class=\"graph\" transform=\"scale(1 1) rotate(0) translate(4 184)\">\n",
       "<polygon fill=\"white\" stroke=\"none\" points=\"-4,4 -4,-184 202,-184 202,4 -4,4\"/>\n",
       "<!-- C -->\n",
       "<g id=\"node1\" class=\"node\">\n",
       "<title>C</title>\n",
       "<ellipse fill=\"none\" stroke=\"black\" cx=\"63\" cy=\"-162\" rx=\"27\" ry=\"18\"/>\n",
       "<text text-anchor=\"middle\" x=\"63\" y=\"-156.95\" font-family=\"Times New Roman,serif\" font-size=\"14.00\">C</text>\n",
       "</g>\n",
       "<!-- A -->\n",
       "<g id=\"node2\" class=\"node\">\n",
       "<title>A</title>\n",
       "<ellipse fill=\"none\" stroke=\"black\" cx=\"27\" cy=\"-90\" rx=\"27\" ry=\"18\"/>\n",
       "<text text-anchor=\"middle\" x=\"27\" y=\"-84.95\" font-family=\"Times New Roman,serif\" font-size=\"14.00\">A</text>\n",
       "</g>\n",
       "<!-- C&#45;&gt;A -->\n",
       "<g id=\"edge1\" class=\"edge\">\n",
       "<title>C&#45;&gt;A</title>\n",
       "<path fill=\"none\" stroke=\"black\" d=\"M54.65,-144.76C50.42,-136.55 45.19,-126.37 40.42,-117.09\"/>\n",
       "<polygon fill=\"black\" stroke=\"black\" points=\"43.68,-115.79 36,-108.49 37.46,-118.99 43.68,-115.79\"/>\n",
       "</g>\n",
       "<!-- B -->\n",
       "<g id=\"node3\" class=\"node\">\n",
       "<title>B</title>\n",
       "<ellipse fill=\"none\" stroke=\"black\" cx=\"99\" cy=\"-90\" rx=\"27\" ry=\"18\"/>\n",
       "<text text-anchor=\"middle\" x=\"99\" y=\"-84.95\" font-family=\"Times New Roman,serif\" font-size=\"14.00\">B</text>\n",
       "</g>\n",
       "<!-- C&#45;&gt;B -->\n",
       "<g id=\"edge2\" class=\"edge\">\n",
       "<title>C&#45;&gt;B</title>\n",
       "<path fill=\"none\" stroke=\"black\" d=\"M71.35,-144.76C75.58,-136.55 80.81,-126.37 85.58,-117.09\"/>\n",
       "<polygon fill=\"black\" stroke=\"black\" points=\"88.54,-118.99 90,-108.49 82.32,-115.79 88.54,-118.99\"/>\n",
       "</g>\n",
       "<!-- G -->\n",
       "<g id=\"node4\" class=\"node\">\n",
       "<title>G</title>\n",
       "<ellipse fill=\"none\" stroke=\"black\" cx=\"27\" cy=\"-18\" rx=\"27\" ry=\"18\"/>\n",
       "<text text-anchor=\"middle\" x=\"27\" y=\"-12.95\" font-family=\"Times New Roman,serif\" font-size=\"14.00\">G</text>\n",
       "</g>\n",
       "<!-- A&#45;&gt;G -->\n",
       "<g id=\"edge3\" class=\"edge\">\n",
       "<title>A&#45;&gt;G</title>\n",
       "<path fill=\"none\" stroke=\"black\" d=\"M27,-71.7C27,-64.41 27,-55.73 27,-47.54\"/>\n",
       "<polygon fill=\"black\" stroke=\"black\" points=\"30.5,-47.62 27,-37.62 23.5,-47.62 30.5,-47.62\"/>\n",
       "</g>\n",
       "<!-- E -->\n",
       "<g id=\"node5\" class=\"node\">\n",
       "<title>E</title>\n",
       "<ellipse fill=\"none\" stroke=\"black\" cx=\"135\" cy=\"-18\" rx=\"27\" ry=\"18\"/>\n",
       "<text text-anchor=\"middle\" x=\"135\" y=\"-12.95\" font-family=\"Times New Roman,serif\" font-size=\"14.00\">E</text>\n",
       "</g>\n",
       "<!-- B&#45;&gt;E -->\n",
       "<g id=\"edge4\" class=\"edge\">\n",
       "<title>B&#45;&gt;E</title>\n",
       "<path fill=\"none\" stroke=\"black\" d=\"M107.35,-72.76C111.58,-64.55 116.81,-54.37 121.58,-45.09\"/>\n",
       "<polygon fill=\"black\" stroke=\"black\" points=\"124.54,-46.99 126,-36.49 118.32,-43.79 124.54,-46.99\"/>\n",
       "</g>\n",
       "<!-- F -->\n",
       "<g id=\"node6\" class=\"node\">\n",
       "<title>F</title>\n",
       "<ellipse fill=\"none\" stroke=\"black\" cx=\"171\" cy=\"-90\" rx=\"27\" ry=\"18\"/>\n",
       "<text text-anchor=\"middle\" x=\"171\" y=\"-84.95\" font-family=\"Times New Roman,serif\" font-size=\"14.00\">F</text>\n",
       "</g>\n",
       "<!-- F&#45;&gt;E -->\n",
       "<g id=\"edge5\" class=\"edge\">\n",
       "<title>F&#45;&gt;E</title>\n",
       "<path fill=\"none\" stroke=\"black\" d=\"M162.65,-72.76C158.42,-64.55 153.19,-54.37 148.42,-45.09\"/>\n",
       "<polygon fill=\"black\" stroke=\"black\" points=\"151.68,-43.79 144,-36.49 145.46,-46.99 151.68,-43.79\"/>\n",
       "</g>\n",
       "</g>\n",
       "</svg>\n"
      ],
      "text/plain": [
       "<graphviz.graphs.Digraph at 0x242370f2500>"
      ]
     },
     "execution_count": 23,
     "metadata": {},
     "output_type": "execute_result"
    }
   ],
   "source": [
    "g_gf = gr.Digraph()\n",
    "\n",
    "g_gf.edge('C','A')\n",
    "g_gf.edge('C','B')\n",
    "\n",
    "g_gf.edge('A','G')\n",
    "g_gf.edge('B','E')\n",
    "\n",
    "g_gf.edge('F','E')\n",
    "\n",
    "g_gf"
   ]
  },
  {
   "cell_type": "markdown",
   "metadata": {},
   "source": [
    "만약 E를 조건부로 두면 연관성이 충돌부로 흐르기 시작하고 경로가 열리면서 G와 F가 연결이 되어 종속관계가 생긴다."
   ]
  },
  {
   "cell_type": "code",
   "execution_count": 24,
   "metadata": {},
   "outputs": [
    {
     "data": {
      "image/svg+xml": [
       "<?xml version=\"1.0\" encoding=\"UTF-8\" standalone=\"no\"?>\n",
       "<!DOCTYPE svg PUBLIC \"-//W3C//DTD SVG 1.1//EN\"\n",
       " \"http://www.w3.org/Graphics/SVG/1.1/DTD/svg11.dtd\">\n",
       "<!-- Generated by graphviz version 12.2.1 (20241206.2353)\n",
       " -->\n",
       "<!-- Pages: 1 -->\n",
       "<svg width=\"206pt\" height=\"188pt\"\n",
       " viewBox=\"0.00 0.00 206.00 188.00\" xmlns=\"http://www.w3.org/2000/svg\" xmlns:xlink=\"http://www.w3.org/1999/xlink\">\n",
       "<g id=\"graph0\" class=\"graph\" transform=\"scale(1 1) rotate(0) translate(4 184)\">\n",
       "<polygon fill=\"white\" stroke=\"none\" points=\"-4,4 -4,-184 202,-184 202,4 -4,4\"/>\n",
       "<!-- C -->\n",
       "<g id=\"node1\" class=\"node\">\n",
       "<title>C</title>\n",
       "<ellipse fill=\"none\" stroke=\"black\" cx=\"63\" cy=\"-162\" rx=\"27\" ry=\"18\"/>\n",
       "<text text-anchor=\"middle\" x=\"63\" y=\"-156.95\" font-family=\"Times New Roman,serif\" font-size=\"14.00\">C</text>\n",
       "</g>\n",
       "<!-- A -->\n",
       "<g id=\"node2\" class=\"node\">\n",
       "<title>A</title>\n",
       "<ellipse fill=\"none\" stroke=\"black\" cx=\"27\" cy=\"-90\" rx=\"27\" ry=\"18\"/>\n",
       "<text text-anchor=\"middle\" x=\"27\" y=\"-84.95\" font-family=\"Times New Roman,serif\" font-size=\"14.00\">A</text>\n",
       "</g>\n",
       "<!-- C&#45;&gt;A -->\n",
       "<g id=\"edge1\" class=\"edge\">\n",
       "<title>C&#45;&gt;A</title>\n",
       "<path fill=\"none\" stroke=\"black\" d=\"M54.65,-144.76C50.42,-136.55 45.19,-126.37 40.42,-117.09\"/>\n",
       "<polygon fill=\"black\" stroke=\"black\" points=\"43.68,-115.79 36,-108.49 37.46,-118.99 43.68,-115.79\"/>\n",
       "</g>\n",
       "<!-- B -->\n",
       "<g id=\"node3\" class=\"node\">\n",
       "<title>B</title>\n",
       "<ellipse fill=\"none\" stroke=\"black\" cx=\"99\" cy=\"-90\" rx=\"27\" ry=\"18\"/>\n",
       "<text text-anchor=\"middle\" x=\"99\" y=\"-84.95\" font-family=\"Times New Roman,serif\" font-size=\"14.00\">B</text>\n",
       "</g>\n",
       "<!-- C&#45;&gt;B -->\n",
       "<g id=\"edge2\" class=\"edge\">\n",
       "<title>C&#45;&gt;B</title>\n",
       "<path fill=\"none\" stroke=\"black\" d=\"M71.35,-144.76C75.58,-136.55 80.81,-126.37 85.58,-117.09\"/>\n",
       "<polygon fill=\"black\" stroke=\"black\" points=\"88.54,-118.99 90,-108.49 82.32,-115.79 88.54,-118.99\"/>\n",
       "</g>\n",
       "<!-- G -->\n",
       "<g id=\"node4\" class=\"node\">\n",
       "<title>G</title>\n",
       "<ellipse fill=\"none\" stroke=\"black\" cx=\"27\" cy=\"-18\" rx=\"27\" ry=\"18\"/>\n",
       "<text text-anchor=\"middle\" x=\"27\" y=\"-12.95\" font-family=\"Times New Roman,serif\" font-size=\"14.00\">G</text>\n",
       "</g>\n",
       "<!-- A&#45;&gt;G -->\n",
       "<g id=\"edge3\" class=\"edge\">\n",
       "<title>A&#45;&gt;G</title>\n",
       "<path fill=\"none\" stroke=\"black\" d=\"M27,-71.7C27,-64.41 27,-55.73 27,-47.54\"/>\n",
       "<polygon fill=\"black\" stroke=\"black\" points=\"30.5,-47.62 27,-37.62 23.5,-47.62 30.5,-47.62\"/>\n",
       "</g>\n",
       "<!-- E -->\n",
       "<g id=\"node5\" class=\"node\">\n",
       "<title>E</title>\n",
       "<ellipse fill=\"grey\" stroke=\"black\" cx=\"135\" cy=\"-18\" rx=\"27\" ry=\"18\"/>\n",
       "<text text-anchor=\"middle\" x=\"135\" y=\"-12.95\" font-family=\"Times New Roman,serif\" font-size=\"14.00\">E</text>\n",
       "</g>\n",
       "<!-- B&#45;&gt;E -->\n",
       "<g id=\"edge4\" class=\"edge\">\n",
       "<title>B&#45;&gt;E</title>\n",
       "<path fill=\"none\" stroke=\"black\" d=\"M107.35,-72.76C111.58,-64.55 116.81,-54.37 121.58,-45.09\"/>\n",
       "<polygon fill=\"black\" stroke=\"black\" points=\"124.54,-46.99 126,-36.49 118.32,-43.79 124.54,-46.99\"/>\n",
       "</g>\n",
       "<!-- F -->\n",
       "<g id=\"node6\" class=\"node\">\n",
       "<title>F</title>\n",
       "<ellipse fill=\"none\" stroke=\"black\" cx=\"171\" cy=\"-90\" rx=\"27\" ry=\"18\"/>\n",
       "<text text-anchor=\"middle\" x=\"171\" y=\"-84.95\" font-family=\"Times New Roman,serif\" font-size=\"14.00\">F</text>\n",
       "</g>\n",
       "<!-- F&#45;&gt;E -->\n",
       "<g id=\"edge5\" class=\"edge\">\n",
       "<title>F&#45;&gt;E</title>\n",
       "<path fill=\"none\" stroke=\"black\" d=\"M162.65,-72.76C158.42,-64.55 153.19,-54.37 148.42,-45.09\"/>\n",
       "<polygon fill=\"black\" stroke=\"black\" points=\"151.68,-43.79 144,-36.49 145.46,-46.99 151.68,-43.79\"/>\n",
       "</g>\n",
       "</g>\n",
       "</svg>\n"
      ],
      "text/plain": [
       "<graphviz.graphs.Digraph at 0x242370f2500>"
      ]
     },
     "execution_count": 24,
     "metadata": {},
     "output_type": "execute_result"
    }
   ],
   "source": [
    "g_gf.node('E',style='filled',fillcolor='grey')\n",
    "\n",
    "g_gf"
   ]
  },
  {
   "cell_type": "markdown",
   "metadata": {},
   "source": [
    "세 가지 그래프 기본 구조와 함께 파이썬 라이브러리를 활용해서 그래프에서 독립성을 확인하는 방법을 배웠다. 이전의 컨설턴트 예제를 다시 생각해보자. 몸값이 비싼 최고의 컨설턴트를 고용하는 일이 회사 실적에 미치는 영향을 다음 그래프와 같이 이해하려고 했다."
   ]
  },
  {
   "cell_type": "code",
   "execution_count": 25,
   "metadata": {},
   "outputs": [
    {
     "data": {
      "image/svg+xml": [
       "<?xml version=\"1.0\" encoding=\"UTF-8\" standalone=\"no\"?>\n",
       "<!DOCTYPE svg PUBLIC \"-//W3C//DTD SVG 1.1//EN\"\n",
       " \"http://www.w3.org/Graphics/SVG/1.1/DTD/svg11.dtd\">\n",
       "<!-- Generated by graphviz version 12.2.1 (20241206.2353)\n",
       " -->\n",
       "<!-- Pages: 1 -->\n",
       "<svg width=\"598pt\" height=\"67pt\"\n",
       " viewBox=\"0.00 0.00 597.95 67.00\" xmlns=\"http://www.w3.org/2000/svg\" xmlns:xlink=\"http://www.w3.org/1999/xlink\">\n",
       "<g id=\"graph0\" class=\"graph\" transform=\"scale(1 1) rotate(0) translate(4 63)\">\n",
       "<polygon fill=\"white\" stroke=\"none\" points=\"-4,4 -4,-63 593.95,-63 593.95,4 -4,4\"/>\n",
       "<!-- Earnings before 6 months -->\n",
       "<g id=\"node1\" class=\"node\">\n",
       "<title>Earnings before 6 months</title>\n",
       "<ellipse fill=\"none\" stroke=\"black\" cx=\"107.14\" cy=\"-41\" rx=\"107.14\" ry=\"18\"/>\n",
       "<text text-anchor=\"middle\" x=\"107.14\" y=\"-35.95\" font-family=\"Times New Roman,serif\" font-size=\"14.00\">Earnings before 6 months</text>\n",
       "</g>\n",
       "<!-- Earnings after 6 months -->\n",
       "<g id=\"node2\" class=\"node\">\n",
       "<title>Earnings after 6 months</title>\n",
       "<ellipse fill=\"none\" stroke=\"black\" cx=\"489.46\" cy=\"-41\" rx=\"100.48\" ry=\"18\"/>\n",
       "<text text-anchor=\"middle\" x=\"489.46\" y=\"-35.95\" font-family=\"Times New Roman,serif\" font-size=\"14.00\">Earnings after 6 months</text>\n",
       "</g>\n",
       "<!-- Earnings before 6 months&#45;&gt;Earnings after 6 months -->\n",
       "<g id=\"edge1\" class=\"edge\">\n",
       "<title>Earnings before 6 months&#45;&gt;Earnings after 6 months</title>\n",
       "<path fill=\"none\" stroke=\"black\" d=\"M212.92,-44.28C225.51,-44.58 238.18,-44.83 250.28,-45 295.92,-45.64 307.34,-45.67 352.98,-45 361.32,-44.88 369.96,-44.71 378.64,-44.52\"/>\n",
       "<polygon fill=\"black\" stroke=\"black\" points=\"378.63,-48.02 388.54,-44.28 378.46,-41.02 378.63,-48.02\"/>\n",
       "</g>\n",
       "<!-- Consulting -->\n",
       "<g id=\"node3\" class=\"node\">\n",
       "<title>Consulting</title>\n",
       "<ellipse fill=\"none\" stroke=\"black\" cx=\"301.63\" cy=\"-18\" rx=\"51.35\" ry=\"18\"/>\n",
       "<text text-anchor=\"middle\" x=\"301.63\" y=\"-12.95\" font-family=\"Times New Roman,serif\" font-size=\"14.00\">Consulting</text>\n",
       "</g>\n",
       "<!-- Earnings before 6 months&#45;&gt;Consulting -->\n",
       "<g id=\"edge2\" class=\"edge\">\n",
       "<title>Earnings before 6 months&#45;&gt;Consulting</title>\n",
       "<path fill=\"none\" stroke=\"black\" d=\"M195.65,-30.54C211.09,-28.7 226.83,-26.82 241.27,-25.09\"/>\n",
       "<polygon fill=\"black\" stroke=\"black\" points=\"241.52,-28.59 251.03,-23.93 240.69,-21.64 241.52,-28.59\"/>\n",
       "</g>\n",
       "<!-- Consulting&#45;&gt;Earnings after 6 months -->\n",
       "<g id=\"edge3\" class=\"edge\">\n",
       "<title>Consulting&#45;&gt;Earnings after 6 months</title>\n",
       "<path fill=\"none\" stroke=\"black\" d=\"M350.49,-23.92C364.07,-25.6 379.35,-27.5 394.67,-29.39\"/>\n",
       "<polygon fill=\"black\" stroke=\"black\" points=\"393.95,-32.83 404.3,-30.58 394.81,-25.88 393.95,-32.83\"/>\n",
       "</g>\n",
       "</g>\n",
       "</svg>\n"
      ],
      "text/plain": [
       "<graphviz.graphs.Digraph at 0x242348a12d0>"
      ]
     },
     "execution_count": 25,
     "metadata": {},
     "output_type": "execute_result"
    }
   ],
   "source": [
    "g_consulting"
   ]
  },
  {
   "cell_type": "markdown",
   "metadata": {},
   "source": [
    "이 그래프에서 상관관계는 인과관계가 아닌 이유를 우리는 그래프 모델에서 배운 지식을 통해 확인할 수 있다. 이 그래프에는 **분기 구조**가 있다. 따라서 컨설팅과 기업의 미래 실적 사이에는 두 가지 흐름이 연관된다. 즉, 직접적인 인과 경로와 공통 원인 때문에 교란받는 **비인과 경로(Non-causal path)** 가 존재한다. 후자를 **뒷문 경로(backdoor path)** 라고 부른다. 이 그래프에서 교란을 주는 뒷문 경로가 있다는 사실은 컨설팅과 회사 실적 간의 관측된 상관관계를 인과관계만으로 설명할 수 없음을 보여준다.  \n",
    "해당 예제에서 인과 경로는 컨설팅과 6개월 이후의 회사의 수익이며, 뒷문 경로는 이전 6개월 회사 수익이다."
   ]
  },
  {
   "cell_type": "markdown",
   "metadata": {},
   "source": [
    "그래프 내에서 연관성이 비인과 경로로 어떻게 흐르는지 이해하면 연관성과 인과성의 차이를 훨씬 더 정확하게 이해할 수 있다. 따라서 이제 그래프 모델이라는 새로운 관점에서 **식별**의 개념을 다시 살펴본다."
   ]
  },
  {
   "cell_type": "markdown",
   "metadata": {},
   "source": [
    "---"
   ]
  },
  {
   "cell_type": "markdown",
   "metadata": {},
   "source": [
    "## 3.3 그래프 관점에서 식별 재해석"
   ]
  },
  {
   "cell_type": "markdown",
   "metadata": {},
   "source": [
    "지금까지 무작위 배정이 없는 상황에서 인과관계를 찾기 어려운 이유는 실험군과 대조군을 서로 비교할 수 없어서라고 설명했다. 예를 들어, 고가의 컨설턴트를 고용하는 회사는 고용하지 않는 회사보다 일반적으로 과거 실적이 좋다. 이로써 앞서 보았듯이 편향이 발생한다.\n",
    "$$\n",
    "E[Y|T=1]-E[Y|T=0] = \n",
    "\\underbrace{E[Y_1-Y_0|T=1]}_{\\text{ATT}} + \n",
    "\\underbrace{\\{E[Y_0|T=1]-E[Y_0|T=0]\\}}_{\\text{Bias}}\n",
    "$$"
   ]
  },
  {
   "cell_type": "markdown",
   "metadata": {},
   "source": [
    "이제 인과 그래프를 배웠으므로 편향의 본질을 더 정확하게 파악할 수 있다. 중요한 점은 편향을 없애려면 무엇을 해야 하는지 이해할 수 있다는 것이다. 식별은 그래프 모델에서의 독립성과 밀접한 관련이 있다. 처치, 결과, 기타 관련 변수 간의 인과관계를 나타내는 그래프가 있는 경우, 식별은 해당 그래프에서 처치와 결과 간의 인과관계를 분리하는 과정이라고 볼 수 있다. 기본적으로 **식별 단계에서는 바람직하지 않은 모든 연관성을 차단한다.**"
   ]
  },
  {
   "cell_type": "markdown",
   "metadata": {},
   "source": [
    "컨설팅 그래프를 살펴본다. 처치와 결과 사이에는 두 가지 연관성 경로가 있다."
   ]
  },
  {
   "cell_type": "code",
   "execution_count": 26,
   "metadata": {},
   "outputs": [
    {
     "data": {
      "image/svg+xml": [
       "<?xml version=\"1.0\" encoding=\"UTF-8\" standalone=\"no\"?>\n",
       "<!DOCTYPE svg PUBLIC \"-//W3C//DTD SVG 1.1//EN\"\n",
       " \"http://www.w3.org/Graphics/SVG/1.1/DTD/svg11.dtd\">\n",
       "<!-- Generated by graphviz version 12.2.1 (20241206.2353)\n",
       " -->\n",
       "<!-- Pages: 1 -->\n",
       "<svg width=\"598pt\" height=\"67pt\"\n",
       " viewBox=\"0.00 0.00 597.95 67.00\" xmlns=\"http://www.w3.org/2000/svg\" xmlns:xlink=\"http://www.w3.org/1999/xlink\">\n",
       "<g id=\"graph0\" class=\"graph\" transform=\"scale(1 1) rotate(0) translate(4 63)\">\n",
       "<polygon fill=\"white\" stroke=\"none\" points=\"-4,4 -4,-63 593.95,-63 593.95,4 -4,4\"/>\n",
       "<!-- Earnings before 6 months -->\n",
       "<g id=\"node1\" class=\"node\">\n",
       "<title>Earnings before 6 months</title>\n",
       "<ellipse fill=\"none\" stroke=\"black\" cx=\"107.14\" cy=\"-41\" rx=\"107.14\" ry=\"18\"/>\n",
       "<text text-anchor=\"middle\" x=\"107.14\" y=\"-35.95\" font-family=\"Times New Roman,serif\" font-size=\"14.00\">Earnings before 6 months</text>\n",
       "</g>\n",
       "<!-- Earnings after 6 months -->\n",
       "<g id=\"node2\" class=\"node\">\n",
       "<title>Earnings after 6 months</title>\n",
       "<ellipse fill=\"none\" stroke=\"black\" cx=\"489.46\" cy=\"-41\" rx=\"100.48\" ry=\"18\"/>\n",
       "<text text-anchor=\"middle\" x=\"489.46\" y=\"-35.95\" font-family=\"Times New Roman,serif\" font-size=\"14.00\">Earnings after 6 months</text>\n",
       "</g>\n",
       "<!-- Earnings before 6 months&#45;&gt;Earnings after 6 months -->\n",
       "<g id=\"edge1\" class=\"edge\">\n",
       "<title>Earnings before 6 months&#45;&gt;Earnings after 6 months</title>\n",
       "<path fill=\"none\" stroke=\"black\" d=\"M212.92,-44.28C225.51,-44.58 238.18,-44.83 250.28,-45 295.92,-45.64 307.34,-45.67 352.98,-45 361.32,-44.88 369.96,-44.71 378.64,-44.52\"/>\n",
       "<polygon fill=\"black\" stroke=\"black\" points=\"378.63,-48.02 388.54,-44.28 378.46,-41.02 378.63,-48.02\"/>\n",
       "</g>\n",
       "<!-- Consulting -->\n",
       "<g id=\"node3\" class=\"node\">\n",
       "<title>Consulting</title>\n",
       "<ellipse fill=\"none\" stroke=\"black\" cx=\"301.63\" cy=\"-18\" rx=\"51.35\" ry=\"18\"/>\n",
       "<text text-anchor=\"middle\" x=\"301.63\" y=\"-12.95\" font-family=\"Times New Roman,serif\" font-size=\"14.00\">Consulting</text>\n",
       "</g>\n",
       "<!-- Earnings before 6 months&#45;&gt;Consulting -->\n",
       "<g id=\"edge2\" class=\"edge\">\n",
       "<title>Earnings before 6 months&#45;&gt;Consulting</title>\n",
       "<path fill=\"none\" stroke=\"black\" d=\"M195.65,-30.54C211.09,-28.7 226.83,-26.82 241.27,-25.09\"/>\n",
       "<polygon fill=\"black\" stroke=\"black\" points=\"241.52,-28.59 251.03,-23.93 240.69,-21.64 241.52,-28.59\"/>\n",
       "</g>\n",
       "<!-- Consulting&#45;&gt;Earnings after 6 months -->\n",
       "<g id=\"edge3\" class=\"edge\">\n",
       "<title>Consulting&#45;&gt;Earnings after 6 months</title>\n",
       "<path fill=\"none\" stroke=\"black\" d=\"M350.49,-23.92C364.07,-25.6 379.35,-27.5 394.67,-29.39\"/>\n",
       "<polygon fill=\"black\" stroke=\"black\" points=\"393.95,-32.83 404.3,-30.58 394.81,-25.88 393.95,-32.83\"/>\n",
       "</g>\n",
       "</g>\n",
       "</svg>\n"
      ],
      "text/plain": [
       "<graphviz.graphs.Digraph at 0x242348a12d0>"
      ]
     },
     "execution_count": 26,
     "metadata": {},
     "output_type": "execute_result"
    }
   ],
   "source": [
    "g_consulting"
   ]
  },
  {
   "cell_type": "markdown",
   "metadata": {},
   "source": [
    "두 개의 연관성 경로가 있지만, 그 중 하나만 인과관계이다. 인과관계가 제거된 원래 그래프와 똑같은 인과 그래프를 만들어 편향을 확인할 수 있다. 이 그래프에서 처치와 결과가 여전히 연결된다면 비인과 경로 때문이며, 이는 편향이 있음을 나타낸다."
   ]
  },
  {
   "cell_type": "code",
   "execution_count": null,
   "metadata": {},
   "outputs": [
    {
     "name": "stdout",
     "output_type": "stream",
     "text": [
      "True\n"
     ]
    }
   ],
   "source": [
    "consulting_model_severed = nx.DiGraph([\n",
    "    ('Earnings before 6 months','Earnings after 6 months'),\n",
    "    ('Earnings before 6 months','consulting'),\n",
    "    ('consulting','Earnings after 6 months'), \n",
    "])\n",
    "\n",
    "print(not(nx.d_separated(consulting_model_severed,{'consulting'},{'Earnings after 6 months'},{})))"
   ]
  },
  {
   "cell_type": "markdown",
   "metadata": {},
   "source": [
    "이러한 비인과적 연결 흐름을 뒷문 경로라고 한다. $T$와 $Y$ 사이의 인과관계를 식별하려면 두 경로를 차단해 **인과 경로(Causal path)** 를 하나만 남겨야 한다. 컨설팅 예제에서, 공통 원인인 회사의 과거 실적을 조건으로 하면 해당 경로가 닫힘을 알 수 있다."
   ]
  },
  {
   "cell_type": "code",
   "execution_count": 36,
   "metadata": {},
   "outputs": [
    {
     "data": {
      "image/svg+xml": [
       "<?xml version=\"1.0\" encoding=\"UTF-8\" standalone=\"no\"?>\n",
       "<!DOCTYPE svg PUBLIC \"-//W3C//DTD SVG 1.1//EN\"\n",
       " \"http://www.w3.org/Graphics/SVG/1.1/DTD/svg11.dtd\">\n",
       "<!-- Generated by graphviz version 12.2.1 (20241206.2353)\n",
       " -->\n",
       "<!-- Pages: 1 -->\n",
       "<svg width=\"598pt\" height=\"67pt\"\n",
       " viewBox=\"0.00 0.00 597.95 67.00\" xmlns=\"http://www.w3.org/2000/svg\" xmlns:xlink=\"http://www.w3.org/1999/xlink\">\n",
       "<g id=\"graph0\" class=\"graph\" transform=\"scale(1 1) rotate(0) translate(4 63)\">\n",
       "<polygon fill=\"white\" stroke=\"none\" points=\"-4,4 -4,-63 593.95,-63 593.95,4 -4,4\"/>\n",
       "<!-- Earnings before 6 months -->\n",
       "<g id=\"node1\" class=\"node\">\n",
       "<title>Earnings before 6 months</title>\n",
       "<ellipse fill=\"grey\" stroke=\"black\" cx=\"107.14\" cy=\"-41\" rx=\"107.14\" ry=\"18\"/>\n",
       "<text text-anchor=\"middle\" x=\"107.14\" y=\"-35.95\" font-family=\"Times New Roman,serif\" font-size=\"14.00\">Earnings before 6 months</text>\n",
       "</g>\n",
       "<!-- Earnings after 6 months -->\n",
       "<g id=\"node2\" class=\"node\">\n",
       "<title>Earnings after 6 months</title>\n",
       "<ellipse fill=\"none\" stroke=\"black\" cx=\"489.46\" cy=\"-41\" rx=\"100.48\" ry=\"18\"/>\n",
       "<text text-anchor=\"middle\" x=\"489.46\" y=\"-35.95\" font-family=\"Times New Roman,serif\" font-size=\"14.00\">Earnings after 6 months</text>\n",
       "</g>\n",
       "<!-- Earnings before 6 months&#45;&gt;Earnings after 6 months -->\n",
       "<g id=\"edge1\" class=\"edge\">\n",
       "<title>Earnings before 6 months&#45;&gt;Earnings after 6 months</title>\n",
       "<path fill=\"none\" stroke=\"black\" d=\"M212.92,-44.28C225.51,-44.58 238.18,-44.83 250.28,-45 295.92,-45.64 307.34,-45.67 352.98,-45 361.32,-44.88 369.96,-44.71 378.64,-44.52\"/>\n",
       "<polygon fill=\"black\" stroke=\"black\" points=\"378.63,-48.02 388.54,-44.28 378.46,-41.02 378.63,-48.02\"/>\n",
       "</g>\n",
       "<!-- Consulting -->\n",
       "<g id=\"node3\" class=\"node\">\n",
       "<title>Consulting</title>\n",
       "<ellipse fill=\"none\" stroke=\"black\" cx=\"301.63\" cy=\"-18\" rx=\"51.35\" ry=\"18\"/>\n",
       "<text text-anchor=\"middle\" x=\"301.63\" y=\"-12.95\" font-family=\"Times New Roman,serif\" font-size=\"14.00\">Consulting</text>\n",
       "</g>\n",
       "<!-- Earnings before 6 months&#45;&gt;Consulting -->\n",
       "<g id=\"edge2\" class=\"edge\">\n",
       "<title>Earnings before 6 months&#45;&gt;Consulting</title>\n",
       "<path fill=\"none\" stroke=\"black\" d=\"M195.65,-30.54C211.09,-28.7 226.83,-26.82 241.27,-25.09\"/>\n",
       "<polygon fill=\"black\" stroke=\"black\" points=\"241.52,-28.59 251.03,-23.93 240.69,-21.64 241.52,-28.59\"/>\n",
       "</g>\n",
       "<!-- Consulting&#45;&gt;Earnings after 6 months -->\n",
       "<g id=\"edge3\" class=\"edge\">\n",
       "<title>Consulting&#45;&gt;Earnings after 6 months</title>\n",
       "<path fill=\"none\" stroke=\"black\" d=\"M350.49,-23.92C364.07,-25.6 379.35,-27.5 394.67,-29.39\"/>\n",
       "<polygon fill=\"black\" stroke=\"black\" points=\"393.95,-32.83 404.3,-30.58 394.81,-25.88 393.95,-32.83\"/>\n",
       "</g>\n",
       "</g>\n",
       "</svg>\n"
      ],
      "text/plain": [
       "<graphviz.graphs.Digraph at 0x24237128190>"
      ]
     },
     "execution_count": 36,
     "metadata": {},
     "output_type": "execute_result"
    }
   ],
   "source": [
    "g_consulting.node('Earnings before 6 months',style='filled',fillcolor='grey')\n",
    "\n",
    "g_consulting"
   ]
  },
  {
   "cell_type": "markdown",
   "metadata": {},
   "source": [
    "---"
   ]
  },
  {
   "cell_type": "markdown",
   "metadata": {},
   "source": [
    "## 3.4 조건부 독립성 가정과 보정 공식"
   ]
  },
  {
   "cell_type": "markdown",
   "metadata": {},
   "source": [
    "회사의 과거 실적인 `Earnings before 6 months`를 조건부로 두면 처치(컨설팅)와 결과(회사의 미래 실적) 사이의 비인과 연관성(Non-Causal association) 흐름을 차단한다. 결과적으로 과거 실적이 비슷한 회사들의 그룹을 살펴보고 해당 그룹 내에서 컨설턴트 여부에 따른 회사의 미래 실적을 비교하면, 그 차이는 전적으로 컨설턴트 때문에 발생했다고 볼 수 있다.  \n",
    "실험군(컨설턴트를 고용한 회사)과 대조군(컨설턴트를 고용하지 않은 회사) 사이의 미래 실적 차이는  \n",
    "1. 컨설팅(처치)로 인해  \n",
    "2. 컨설턴트를 고용한 회사가 처음부터 잘하는 경향  "
   ]
  },
  {
   "cell_type": "markdown",
   "metadata": {},
   "source": [
    "으로 인해 발생한다. 만약 회사의 실적이 비슷한 실험군과 대조군을 단순히 비교한다면 두 번째 원인은 사라지게 된다."
   ]
  },
  {
   "cell_type": "markdown",
   "metadata": {},
   "source": [
    "물론 인과추론의 모든 부분과 마찬가지로 여기서도 가정이 필요하다. 구체적으로 **실험군과 결과 사이의 모든 비인과 연관성은 측정 가능하고 조건으로 둘 수 있는 공통 원인 때문에 발생**한다고 가정한다.\n",
    "$$\n",
    "(Y_0,Y_1) \\perp T\\ |\\ X\n",
    "$$\n",
    "**조건부 독립성 가정(Conditional Independent Assumption,CIA)** 은 공변량 $X$ 수준이 동일한 대상(회사)을 비교하면 잠재적 결과는 평균적으로 같음을 말한다. 즉, 공변량 $X$ 값이 동일한 대상을 보면 **처치가 마치 무작위로 배정된 것처럼 보인다.**"
   ]
  },
  {
   "cell_type": "markdown",
   "metadata": {},
   "source": [
    "조건부 독립성 가정은 관측 가능한 데이터에서 인과효과를 식별하는 매우 간단한 방법도 제시한다. 처치가 $X$ 그룹 내에서 마치 무작위로 배정된 것처럼 보인다면, $X$로 정의된 각 그룹 내에서 실험군과 대조군을 비교하면 각 그룹의 크기를 가중치로 사용해서 해당 결과의 평균을 구하는 방법이다.\n",
    "$$\n",
    "ATE = E_X[E[Y\\ |\\ T=1]-E[Y\\ |\\ T=0]]\n",
    "$$\n",
    "$$\n",
    "\\begin{align*}\n",
    "ATE &= \\sum_{x} \\left\\{ \\left(E[Y \\mid T=1, X=x] - E[Y \\mid T=0, X=x] \\right) P(X=x) \\right\\} \\\\\n",
    "    &= \\sum_{x} \\left\\{ E[Y \\mid T=1, X=x] P(X=x) - E[Y \\mid T=0, X=x] P(X=x) \\right\\}\n",
    "\\end{align*}\n",
    "\n",
    "$$"
   ]
  },
  {
   "cell_type": "markdown",
   "metadata": {},
   "source": [
    "이를 **보정 공식(Adjustment formula)** 또는 **조건부 원칙(Conditionality principle)** 이라고 한다. 이에 따르면, $X$를 조건부로 두거나 통제하면 평균 처치효과는 실험군과 대조군 간 그룹 내 차이의 **가중평균**으로 식별할 수 있다. 즉, 그래프에서 비인과 경로를 통한 연관성 흐름을 $X$에 조건부로 두어 차단하면 $ATE$와 같은 인과 추정량을 식별할 수 있다. 그래서 교란 요인을 보정하여 뒷문 경로를 차단하는 과정을 **뒷문 보정(Backdoor adjustment)** 이라고 부른다."
   ]
  },
  {
   "cell_type": "markdown",
   "metadata": {},
   "source": [
    "---"
   ]
  },
  {
   "cell_type": "markdown",
   "metadata": {},
   "source": [
    "## 3.5 양수성 가정"
   ]
  },
  {
   "cell_type": "markdown",
   "metadata": {},
   "source": [
    "보정 공식에서 **양수성(positive) 가정** 또는 **공통 지지(Common support) 가정**도 중요하다. 처치와 결과 사이의 차이를 $X$에 따라 평균을 내므로, $X$의 모든 그룹에 실험군과 대조군의 실험 대상이 반드시 존재해야 한다. 그렇지 않다면 그룹 간의 차이를 정의할 수 없다. 수식으로 보면, 처치와 조건부 확률은 반드시 양수이고, 1 미만이어야 한다.\n",
    "$$\n",
    "0\\lt P(T|X)\\lt 1\n",
    "$$\n",
    "양수성 가정을 위배해도 식별이 가능하지만 위험한 외삽(extrapolation)을 해야 할 수 있다."
   ]
  },
  {
   "cell_type": "markdown",
   "metadata": {},
   "source": [
    "---"
   ]
  },
  {
   "cell_type": "markdown",
   "metadata": {},
   "source": [
    "## 3.6 구체적인 식별 예제"
   ]
  }
 ],
 "metadata": {
  "kernelspec": {
   "display_name": "base",
   "language": "python",
   "name": "python3"
  },
  "language_info": {
   "codemirror_mode": {
    "name": "ipython",
    "version": 3
   },
   "file_extension": ".py",
   "mimetype": "text/x-python",
   "name": "python",
   "nbconvert_exporter": "python",
   "pygments_lexer": "ipython3",
   "version": "3.10.9"
  }
 },
 "nbformat": 4,
 "nbformat_minor": 2
}
